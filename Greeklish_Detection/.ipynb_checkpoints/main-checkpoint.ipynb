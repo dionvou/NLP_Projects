{
 "cells": [
  {
   "cell_type": "markdown",
   "metadata": {},
   "source": [
    "III Improve language detection\n",
    "1. Benchmark text classification (scikit) algorithms for the language detection task,\n",
    "outperforming your rule-based classifier and naive baselines. For evaluation, use the dataset\n",
    "created in the 1st step. (Hint: you are free to annotate more data or augment your training\n",
    "dataset otherwise.)\n",
    "2. Apply your best classifier to each post to annotate mechanically the language of each\n",
    "comment and explore the annotated data. (Hint: use visualisations and extract insightful\n",
    "findings that would not be visible without your mechanical annotations.) A report named\n",
    "report.pdf should comprise these."
   ]
  },
  {
   "cell_type": "markdown",
   "metadata": {},
   "source": [
    "IV Toxicity classification\n",
    "1. Use prompting to create a toxicity classifier that classifies each post from 1 (not) to 5\n",
    "(toxic). Report all your prompts (from the one your started to the one you ended up with) as a\n",
    "PDF named prompts.pdf.\n",
    "2. Use your prompting classifier to annotate for toxicity scale each crawled post. (Hint: you\n",
    "are allowed to use prompting for a sample that you will use to train a scikit classifier.) The\n",
    "submitted crawl.csv should comprise these annotations.\n",
    "3. Report (in report.pdf): (a) the most toxic language, (b) the page with the more/highest rate\n",
    "of toxic posts, (c) the page where toxicity is uniform over time, (d) the page where toxicity\n",
    "increases over time."
   ]
  },
  {
   "cell_type": "code",
   "execution_count": 1,
   "metadata": {},
   "outputs": [],
   "source": [
    "import pandas as pd\n",
    "import numpy as np\n",
    "import re\n",
    "import seaborn as sns\n",
    "import matplotlib.pyplot as plt\n",
    "import warnings\n",
    "warnings.simplefilter(\"ignore\")\n",
    "from sklearn.utils import shuffle\n",
    "from sklearn.preprocessing import LabelEncoder\n",
    "from sklearn.feature_extraction.text import CountVectorizer, TfidfVectorizer\n",
    "from sklearn.feature_extraction.text import TfidfTransformer\n",
    "from sklearn.model_selection import train_test_split\n",
    "from sklearn.model_selection import cross_val_score\n",
    "from scipy.stats import sem\n",
    "from sklearn.model_selection import GridSearchCV\n",
    "from sklearn import datasets, neighbors, linear_model\n",
    "from sklearn.naive_bayes import MultinomialNB\n",
    "from sklearn.svm import SVC \n",
    "from sklearn.metrics import accuracy_score,confusion_matrix\n",
    "from sklearn import metrics"
   ]
  },
  {
   "cell_type": "markdown",
   "metadata": {},
   "source": [
    "We have created a dataset gold.csv, which containts several text in three languages (greek,english,greeklish). For the creation of this dataset, we used comments form youtube videos, and the author anotate them by himself. The greeklish texts was not so easy to find in youtube, so he extracted them from other sources, including chatgpt. Lets explore the data and do a little preprocessing. Our goal is to train a model in order to distinguish with high accuracy the languages."
   ]
  },
  {
   "cell_type": "code",
   "execution_count": 47,
   "metadata": {},
   "outputs": [
    {
     "data": {
      "text/html": [
       "<div>\n",
       "<style scoped>\n",
       "    .dataframe tbody tr th:only-of-type {\n",
       "        vertical-align: middle;\n",
       "    }\n",
       "\n",
       "    .dataframe tbody tr th {\n",
       "        vertical-align: top;\n",
       "    }\n",
       "\n",
       "    .dataframe thead th {\n",
       "        text-align: right;\n",
       "    }\n",
       "</style>\n",
       "<table border=\"1\" class=\"dataframe\">\n",
       "  <thead>\n",
       "    <tr style=\"text-align: right;\">\n",
       "      <th></th>\n",
       "      <th>text</th>\n",
       "      <th>language</th>\n",
       "    </tr>\n",
       "  </thead>\n",
       "  <tbody>\n",
       "    <tr>\n",
       "      <th>235</th>\n",
       "      <td>O 2Pac eixe pitirida... are you sure?</td>\n",
       "      <td>greeklish</td>\n",
       "    </tr>\n",
       "    <tr>\n",
       "      <th>236</th>\n",
       "      <td>Αυτά είναι !!!! Να σου πω δεν βλέπω καθόλου βί...</td>\n",
       "      <td>greek</td>\n",
       "    </tr>\n",
       "    <tr>\n",
       "      <th>237</th>\n",
       "      <td>Incredible content</td>\n",
       "      <td>english</td>\n",
       "    </tr>\n",
       "    <tr>\n",
       "      <th>238</th>\n",
       "      <td>Thank you! Turned out great and had a good din...</td>\n",
       "      <td>english</td>\n",
       "    </tr>\n",
       "    <tr>\n",
       "      <th>239</th>\n",
       "      <td>Its seem so delicious</td>\n",
       "      <td>english</td>\n",
       "    </tr>\n",
       "  </tbody>\n",
       "</table>\n",
       "</div>"
      ],
      "text/plain": [
       "                                                  text   language\n",
       "235             O 2Pac eixe pitirida... are you sure?   greeklish\n",
       "236  Αυτά είναι !!!! Να σου πω δεν βλέπω καθόλου βί...      greek\n",
       "237                               Incredible content      english\n",
       "238  Thank you! Turned out great and had a good din...    english\n",
       "239                             Its seem so delicious     english"
      ]
     },
     "execution_count": 47,
     "metadata": {},
     "output_type": "execute_result"
    }
   ],
   "source": [
    "gold = pd.read_csv('gold.csv')\n",
    "gold[235:240]"
   ]
  },
  {
   "cell_type": "markdown",
   "metadata": {},
   "source": [
    "We can see that the dataset, contains texts where even for a human annotator would be difficult to say the language.<br />  For exaple in row 235, is it greeklish or english?"
   ]
  },
  {
   "cell_type": "code",
   "execution_count": 3,
   "metadata": {},
   "outputs": [
    {
     "data": {
      "text/plain": [
       "False"
      ]
     },
     "execution_count": 3,
     "metadata": {},
     "output_type": "execute_result"
    }
   ],
   "source": [
    "gold.isnull().values.any()"
   ]
  },
  {
   "cell_type": "markdown",
   "metadata": {},
   "source": [
    "There are not null values. Lets see how many data we have for each language."
   ]
  },
  {
   "cell_type": "code",
   "execution_count": 4,
   "metadata": {
    "scrolled": true
   },
   "outputs": [
    {
     "data": {
      "image/png": "[encoded data removed]",
      "text/plain": [
       "<Figure size 432x288 with 1 Axes>"
      ]
     },
     "metadata": {
      "needs_background": "light"
     },
     "output_type": "display_data"
    }
   ],
   "source": [
    "sns.countplot(x='language', data=gold).set(title='Text number of each language in the dataset');"
   ]
  },
  {
   "cell_type": "markdown",
   "metadata": {},
   "source": [
    "Now the dataset is kind of ordered, so lets shuffle it."
   ]
  },
  {
   "cell_type": "code",
   "execution_count": 5,
   "metadata": {},
   "outputs": [
    {
     "data": {
      "text/html": [
       "<div>\n",
       "<style scoped>\n",
       "    .dataframe tbody tr th:only-of-type {\n",
       "        vertical-align: middle;\n",
       "    }\n",
       "\n",
       "    .dataframe tbody tr th {\n",
       "        vertical-align: top;\n",
       "    }\n",
       "\n",
       "    .dataframe thead th {\n",
       "        text-align: right;\n",
       "    }\n",
       "</style>\n",
       "<table border=\"1\" class=\"dataframe\">\n",
       "  <thead>\n",
       "    <tr style=\"text-align: right;\">\n",
       "      <th></th>\n",
       "      <th>text</th>\n",
       "      <th>language</th>\n",
       "    </tr>\n",
       "  </thead>\n",
       "  <tbody>\n",
       "    <tr>\n",
       "      <th>263</th>\n",
       "      <td>It’s been a while since I’ve watched one of yo...</td>\n",
       "      <td>english</td>\n",
       "    </tr>\n",
       "    <tr>\n",
       "      <th>384</th>\n",
       "      <td>Ελπίζω να καταλάβουν όλοι αυτά που θες να πεις...</td>\n",
       "      <td>greek</td>\n",
       "    </tr>\n",
       "    <tr>\n",
       "      <th>765</th>\n",
       "      <td>EKLAPSAAAAAAAAA</td>\n",
       "      <td>greeklish</td>\n",
       "    </tr>\n",
       "    <tr>\n",
       "      <th>349</th>\n",
       "      <td>Well, στο αδικημένοι καλλιτέχνες 8 δεν μίλησα,...</td>\n",
       "      <td>greek</td>\n",
       "    </tr>\n",
       "    <tr>\n",
       "      <th>69</th>\n",
       "      <td>Γηραιός φαν σου</td>\n",
       "      <td>greek</td>\n",
       "    </tr>\n",
       "  </tbody>\n",
       "</table>\n",
       "</div>"
      ],
      "text/plain": [
       "                                                  text   language\n",
       "263  It’s been a while since I’ve watched one of yo...    english\n",
       "384  Ελπίζω να καταλάβουν όλοι αυτά που θες να πεις...      greek\n",
       "765                                    EKLAPSAAAAAAAAA  greeklish\n",
       "349  Well, στο αδικημένοι καλλιτέχνες 8 δεν μίλησα,...      greek\n",
       "69                                     Γηραιός φαν σου      greek"
      ]
     },
     "execution_count": 5,
     "metadata": {},
     "output_type": "execute_result"
    }
   ],
   "source": [
    "gold = shuffle(gold)\n",
    "gold.head()"
   ]
  },
  {
   "cell_type": "code",
   "execution_count": 6,
   "metadata": {},
   "outputs": [],
   "source": [
    "X = gold[\"text\"]\n",
    "y = gold[\"language\"]"
   ]
  },
  {
   "cell_type": "markdown",
   "metadata": {},
   "source": [
    "We will use LabelEncoder() to encode y values, to 0,1,2 respectively."
   ]
  },
  {
   "cell_type": "code",
   "execution_count": 7,
   "metadata": {},
   "outputs": [],
   "source": [
    "le = LabelEncoder()\n",
    "y = le.fit_transform(y)"
   ]
  },
  {
   "cell_type": "markdown",
   "metadata": {},
   "source": [
    "Now we will remove from texts (X) all symbols and numbers, because they are the same in all languages and we will transform every text to lower case."
   ]
  },
  {
   "cell_type": "code",
   "execution_count": 8,
   "metadata": {},
   "outputs": [],
   "source": [
    "# creating a list for appending the preprocessed text\n",
    "data_list = []\n",
    "# iterating through all the text\n",
    "for text in X:\n",
    "       # removing the symbols and numbers\n",
    "        text = re.sub(r'-._!\\\"`\\'#%&,«»:;<>=@{}~\\$\\(\\)\\*\\+\\/\\\\\\?\\[\\]\\^\\|', ' ', text)\n",
    "        text = re.sub(r'[[0-9]]', ' ', text)\n",
    "        # converting the text to lower case\n",
    "        text = text.lower().strip()\n",
    "        # appending to data_list\n",
    "        data_list.append(text)"
   ]
  },
  {
   "cell_type": "markdown",
   "metadata": {},
   "source": [
    "Lets extract the features. We use tfidfvectorizer for the vectorization."
   ]
  },
  {
   "cell_type": "code",
   "execution_count": 9,
   "metadata": {},
   "outputs": [
    {
     "data": {
      "text/plain": [
       "(829, 4679)"
      ]
     },
     "execution_count": 9,
     "metadata": {},
     "output_type": "execute_result"
    }
   ],
   "source": [
    "tf = TfidfVectorizer()\n",
    "X_tfidf = tf.fit_transform(data_list)\n",
    "X_tfidf.shape"
   ]
  },
  {
   "cell_type": "markdown",
   "metadata": {},
   "source": [
    "Now we will split data in train and test in order to use them for building our model"
   ]
  },
  {
   "cell_type": "code",
   "execution_count": 10,
   "metadata": {},
   "outputs": [],
   "source": [
    "x_train, x_test, y_train, y_test = train_test_split(X_tfidf, y, test_size = 0.20)"
   ]
  },
  {
   "cell_type": "markdown",
   "metadata": {},
   "source": [
    "We choose to test three different algorithms. Naive Bayes, Logistic Regression and SVM. <br /> We will use gridsearch with cross validation to find the best working model and then we will retrain it to the whole data set."
   ]
  },
  {
   "cell_type": "markdown",
   "metadata": {},
   "source": [
    "# Naive Bayes"
   ]
  },
  {
   "cell_type": "code",
   "execution_count": 11,
   "metadata": {
    "scrolled": true
   },
   "outputs": [
    {
     "name": "stdout",
     "output_type": "stream",
     "text": [
      "Classification report for MultinomialNB(alpha=0.1, class_prior=None, fit_prior=True):\n",
      "              precision    recall  f1-score   support\n",
      "\n",
      "           0       1.00      1.00      1.00        55\n",
      "           1       1.00      0.99      0.99        75\n",
      "           2       0.97      1.00      0.99        36\n",
      "\n",
      "    accuracy                           0.99       166\n",
      "   macro avg       0.99      1.00      0.99       166\n",
      "weighted avg       0.99      0.99      0.99       166\n",
      "\n",
      "\n"
     ]
    }
   ],
   "source": [
    "param_grid = {\n",
    "    'alpha': [0.05,0.1,0.2, 0.5, 1.0, 1.5, 2.0],\n",
    "}\n",
    "\n",
    "grid_nb = GridSearchCV(MultinomialNB(), param_grid, cv=5, refit = True, verbose = 0) \n",
    "grid_nb = grid_nb.fit(x_train,y_train)\n",
    "\n",
    "predicted = grid_nb.best_estimator_.predict(x_test) \n",
    "print(\"Classification report for %s:\\n%s\\n\" % (grid_nb.best_estimator_, metrics.classification_report(y_test, predicted)))"
   ]
  },
  {
   "cell_type": "markdown",
   "metadata": {},
   "source": [
    "# Logistic Regression"
   ]
  },
  {
   "cell_type": "code",
   "execution_count": 12,
   "metadata": {},
   "outputs": [
    {
     "name": "stdout",
     "output_type": "stream",
     "text": [
      "Classification report for LogisticRegression(C=0.1, class_weight=None, dual=False, fit_intercept=True,\n",
      "                   intercept_scaling=1, l1_ratio=None, max_iter=500,\n",
      "                   multi_class='warn', n_jobs=None, penalty='none',\n",
      "                   random_state=None, solver='saga', tol=0.0001, verbose=0,\n",
      "                   warm_start=False):\n",
      "              precision    recall  f1-score   support\n",
      "\n",
      "           0       1.00      1.00      1.00        55\n",
      "           1       1.00      0.99      0.99        75\n",
      "           2       0.97      1.00      0.99        36\n",
      "\n",
      "    accuracy                           0.99       166\n",
      "   macro avg       0.99      1.00      0.99       166\n",
      "weighted avg       0.99      0.99      0.99       166\n",
      "\n",
      "\n"
     ]
    }
   ],
   "source": [
    "param_grid = {\n",
    "    'penalty': ['l2', 'none'],\n",
    "    'C': [0.0005,0.001, 0.01, 0.1, 1, 10],\n",
    "    'solver': ['newton-cg', 'lbfgs', 'sag','saga'],\n",
    "    'max_iter': [100, 500, 1000]\n",
    "}\n",
    "\n",
    "grid_log = GridSearchCV(linear_model.LogisticRegression(), param_grid, cv=5, refit = True, verbose = 0) \n",
    "grid_log = grid_log.fit(x_train,y_train)\n",
    "predicted = grid_log.best_estimator_.predict(x_test) \n",
    "print(\"Classification report for %s:\\n%s\\n\" % (grid_log.best_estimator_, metrics.classification_report(y_test, predicted)))"
   ]
  },
  {
   "cell_type": "markdown",
   "metadata": {},
   "source": [
    "# SVC"
   ]
  },
  {
   "cell_type": "code",
   "execution_count": 13,
   "metadata": {},
   "outputs": [
    {
     "name": "stdout",
     "output_type": "stream",
     "text": [
      "Classification report for SVC(C=7, cache_size=200, class_weight=None, coef0=0.0,\n",
      "    decision_function_shape='ovr', degree=3, gamma=1, kernel='rbf', max_iter=-1,\n",
      "    probability=False, random_state=None, shrinking=True, tol=0.001,\n",
      "    verbose=False):\n",
      "              precision    recall  f1-score   support\n",
      "\n",
      "           0       1.00      0.98      0.99        55\n",
      "           1       1.00      0.96      0.98        75\n",
      "           2       0.90      1.00      0.95        36\n",
      "\n",
      "    accuracy                           0.98       166\n",
      "   macro avg       0.97      0.98      0.97       166\n",
      "weighted avg       0.98      0.98      0.98       166\n",
      "\n",
      "\n"
     ]
    }
   ],
   "source": [
    "\n",
    "param_grid = {'C': [0.1,7,8,9, 10,11,20, 100,150],  \n",
    "              'gamma': [1, 0.1, 0.01, 0.001, 0.0001], \n",
    "              'kernel': ['rbf','poly']}  \n",
    "  \n",
    "grid_svc = GridSearchCV(SVC(), param_grid,cv=5, refit = True, verbose = 0) \n",
    "grid_svc = grid_svc.fit(x_train,y_train)\n",
    "predicted = grid_svc.best_estimator_.predict(x_test) \n",
    "print(\"Classification report for %s:\\n%s\\n\" % (grid_svc.best_estimator_, metrics.classification_report(y_test, predicted)))"
   ]
  },
  {
   "cell_type": "markdown",
   "metadata": {},
   "source": [
    "Based on the above results, we will choose the Naive Bayes as our best predicting model. Lets see the accuracy and confusion matrix on the test set."
   ]
  },
  {
   "cell_type": "code",
   "execution_count": 14,
   "metadata": {},
   "outputs": [],
   "source": [
    "optimized_estimator = grid_nb.best_estimator_\n",
    "y_test_pred = optimized_estimator.predict(x_test)"
   ]
  },
  {
   "cell_type": "code",
   "execution_count": 15,
   "metadata": {},
   "outputs": [
    {
     "name": "stdout",
     "output_type": "stream",
     "text": [
      "Accuracy is : 0.9939759036144579\n"
     ]
    },
    {
     "data": {
      "image/png": "[encoded data removed]",
      "text/plain": [
       "<Figure size 504x288 with 2 Axes>"
      ]
     },
     "metadata": {
      "needs_background": "light"
     },
     "output_type": "display_data"
    }
   ],
   "source": [
    "ac = accuracy_score(y_test, y_test_pred)\n",
    "cm = confusion_matrix(le.inverse_transform(y_test_pred),le.inverse_transform(y_test))\n",
    "print(\"Accuracy is :\",ac)\n",
    "plt.figure(figsize=(7,4))\n",
    "ax = sns.heatmap(cm, annot = True,cmap='Blues', \n",
    "                 xticklabels=le.inverse_transform([0,1,2]),\n",
    "                 yticklabels=le.inverse_transform([0,1,2]))\n",
    "ax.set_title('Confusion Matrix of predicted vs real language')\n",
    "plt.xlabel(\"Predicted Language\")\n",
    "plt.ylabel(\"Actual Language\")\n",
    "\n",
    "plt.show()"
   ]
  },
  {
   "cell_type": "code",
   "execution_count": 16,
   "metadata": {},
   "outputs": [
    {
     "data": {
      "text/plain": [
       "MultinomialNB(alpha=0.1, class_prior=None, fit_prior=True)"
      ]
     },
     "execution_count": 16,
     "metadata": {},
     "output_type": "execute_result"
    }
   ],
   "source": [
    "optimized_estimator.fit(X_tfidf,y)"
   ]
  },
  {
   "cell_type": "markdown",
   "metadata": {},
   "source": [
    "# Predictions"
   ]
  },
  {
   "cell_type": "markdown",
   "metadata": {},
   "source": [
    "Now we will go to the crawl.csv dataset. This dataset contains titles and comments from youtube videos, crawled with the crawl_youtube.ipynb. The videos that we crawled had only greek/greeklish title, so we expect most of the comments to be greek/greeklish. Lets explore it."
   ]
  },
  {
   "cell_type": "code",
   "execution_count": 17,
   "metadata": {
    "scrolled": true
   },
   "outputs": [
    {
     "data": {
      "text/html": [
       "<div>\n",
       "<style scoped>\n",
       "    .dataframe tbody tr th:only-of-type {\n",
       "        vertical-align: middle;\n",
       "    }\n",
       "\n",
       "    .dataframe tbody tr th {\n",
       "        vertical-align: top;\n",
       "    }\n",
       "\n",
       "    .dataframe thead th {\n",
       "        text-align: right;\n",
       "    }\n",
       "</style>\n",
       "<table border=\"1\" class=\"dataframe\">\n",
       "  <thead>\n",
       "    <tr style=\"text-align: right;\">\n",
       "      <th></th>\n",
       "      <th>text</th>\n",
       "      <th>toxicity</th>\n",
       "      <th>id</th>\n",
       "      <th>parent_id</th>\n",
       "      <th>date</th>\n",
       "    </tr>\n",
       "  </thead>\n",
       "  <tbody>\n",
       "    <tr>\n",
       "      <th>0</th>\n",
       "      <td>Ο Νίκος Μιχαλολιάκος στον ΣΚΑΪ</td>\n",
       "      <td>1.0</td>\n",
       "      <td>1</td>\n",
       "      <td>0</td>\n",
       "      <td>11 years ago</td>\n",
       "    </tr>\n",
       "    <tr>\n",
       "      <th>1</th>\n",
       "      <td>Αν ο Μπογδανος φορουσε την κουστουμια του Μηχα...</td>\n",
       "      <td>1.0</td>\n",
       "      <td>0</td>\n",
       "      <td>1</td>\n",
       "      <td>8 years ago</td>\n",
       "    </tr>\n",
       "    <tr>\n",
       "      <th>2</th>\n",
       "      <td>Ο Μπογδανος πρέπει να διδάσκεται στις δραματικ...</td>\n",
       "      <td>1.0</td>\n",
       "      <td>0</td>\n",
       "      <td>1</td>\n",
       "      <td>3 months ago (edited)</td>\n",
       "    </tr>\n",
       "    <tr>\n",
       "      <th>3</th>\n",
       "      <td>έχω πεθάνει απο τα γέλια με την όλη φάση</td>\n",
       "      <td>1.0</td>\n",
       "      <td>0</td>\n",
       "      <td>1</td>\n",
       "      <td>10 years ago</td>\n",
       "    </tr>\n",
       "    <tr>\n",
       "      <th>4</th>\n",
       "      <td>Το κοντρόλ έχει πάρει φωτιά σε αυτό το επεισόδ...</td>\n",
       "      <td>1.0</td>\n",
       "      <td>0</td>\n",
       "      <td>1</td>\n",
       "      <td>5 years ago</td>\n",
       "    </tr>\n",
       "  </tbody>\n",
       "</table>\n",
       "</div>"
      ],
      "text/plain": [
       "                                                text  toxicity id parent_id  \\\n",
       "0                     Ο Νίκος Μιχαλολιάκος στον ΣΚΑΪ       1.0  1         0   \n",
       "1  Αν ο Μπογδανος φορουσε την κουστουμια του Μηχα...       1.0  0         1   \n",
       "2  Ο Μπογδανος πρέπει να διδάσκεται στις δραματικ...       1.0  0         1   \n",
       "3           έχω πεθάνει απο τα γέλια με την όλη φάση       1.0  0         1   \n",
       "4  Το κοντρόλ έχει πάρει φωτιά σε αυτό το επεισόδ...       1.0  0         1   \n",
       "\n",
       "                    date  \n",
       "0          11 years ago   \n",
       "1            8 years ago  \n",
       "2  3 months ago (edited)  \n",
       "3           10 years ago  \n",
       "4            5 years ago  "
      ]
     },
     "execution_count": 17,
     "metadata": {},
     "output_type": "execute_result"
    }
   ],
   "source": [
    "df = pd.read_csv('crawl.csv',usecols =[0,1,2,3,5])\n",
    "df.head()"
   ]
  },
  {
   "cell_type": "code",
   "execution_count": 18,
   "metadata": {},
   "outputs": [
    {
     "data": {
      "text/plain": [
       "(440, 5)"
      ]
     },
     "execution_count": 18,
     "metadata": {},
     "output_type": "execute_result"
    }
   ],
   "source": [
    "#pick only the comments and not titles ( comments id = 0)\n",
    "crawl = df.loc[df['id'] == '0']\n",
    "crawl.shape"
   ]
  },
  {
   "cell_type": "markdown",
   "metadata": {},
   "source": [
    "We have 1382 data. Lets remove the nan values."
   ]
  },
  {
   "cell_type": "code",
   "execution_count": 19,
   "metadata": {},
   "outputs": [
    {
     "name": "stdout",
     "output_type": "stream",
     "text": [
      "Number of different comments: 437\n"
     ]
    }
   ],
   "source": [
    "crawl = crawl.dropna()\n",
    "print(f'Number of different comments: {crawl.shape[0]}')"
   ]
  },
  {
   "cell_type": "markdown",
   "metadata": {},
   "source": [
    "Now we will perform the same transformation same as the train data."
   ]
  },
  {
   "cell_type": "code",
   "execution_count": 20,
   "metadata": {},
   "outputs": [],
   "source": [
    "#Lets also make toxicity numeric\n",
    "crawl['toxicity'] = crawl['toxicity'].apply(pd.to_numeric)\n",
    "X_crawl = crawl['text'].apply(str)"
   ]
  },
  {
   "cell_type": "code",
   "execution_count": 21,
   "metadata": {},
   "outputs": [
    {
     "data": {
      "text/plain": [
       "(437, 4679)"
      ]
     },
     "execution_count": 21,
     "metadata": {},
     "output_type": "execute_result"
    }
   ],
   "source": [
    "# creating a list for appending the preprocessed text\n",
    "data_list = []\n",
    "# iterating through all the text\n",
    "for text in X_crawl:\n",
    "       # removing the symbols and numbers\n",
    "        text = re.sub(r'-._!\\\"`\\'#%&,«»:;<>=@{}~\\$\\(\\)\\*\\+\\/\\\\\\?\\[\\]\\^\\|', '', text)\n",
    "        text = re.sub(r'[0-9]', '', text)\n",
    "        # converting the text to lower case\n",
    "        text = text.lower().strip()\n",
    "        # appending to data_list\n",
    "        data_list.append(text)\n",
    "\n",
    "\n",
    "#vectorize \n",
    "X_crawl_tfidf = tf.transform(data_list)\n",
    "X_crawl_tfidf.shape "
   ]
  },
  {
   "cell_type": "markdown",
   "metadata": {},
   "source": [
    "Lets predict y_crawl using our best estimator"
   ]
  },
  {
   "cell_type": "code",
   "execution_count": 22,
   "metadata": {},
   "outputs": [],
   "source": [
    "y_pred = optimized_estimator.predict(X_crawl_tfidf)"
   ]
  },
  {
   "cell_type": "markdown",
   "metadata": {},
   "source": [
    "Combine y_pred with the dataset"
   ]
  },
  {
   "cell_type": "code",
   "execution_count": 23,
   "metadata": {},
   "outputs": [
    {
     "data": {
      "text/plain": [
       "(437, 6)"
      ]
     },
     "execution_count": 23,
     "metadata": {},
     "output_type": "execute_result"
    }
   ],
   "source": [
    "#combine data to result dataframe\n",
    "langs = pd.DataFrame(le.inverse_transform(y_pred),columns=['language_model'])\n",
    "# texts = pd.DataFrame(X_crawl,columns=['text'])\n",
    "result = pd.concat([crawl.reset_index(drop=True), langs.reset_index(drop=True)], axis=1)\n",
    "result.shape"
   ]
  },
  {
   "cell_type": "markdown",
   "metadata": {},
   "source": [
    "Lets see the prediction count of each language"
   ]
  },
  {
   "cell_type": "code",
   "execution_count": 24,
   "metadata": {},
   "outputs": [
    {
     "data": {
      "image/png": "[encoded data removed]",
      "text/plain": [
       "<Figure size 432x288 with 1 Axes>"
      ]
     },
     "metadata": {
      "needs_background": "light"
     },
     "output_type": "display_data"
    }
   ],
   "source": [
    "#plot value_counts()\n",
    "sns.countplot(x='language_model', data=result).set(title='Number of language predictions');"
   ]
  },
  {
   "cell_type": "code",
   "execution_count": 25,
   "metadata": {},
   "outputs": [
    {
     "data": {
      "text/html": [
       "<div>\n",
       "<style scoped>\n",
       "    .dataframe tbody tr th:only-of-type {\n",
       "        vertical-align: middle;\n",
       "    }\n",
       "\n",
       "    .dataframe tbody tr th {\n",
       "        vertical-align: top;\n",
       "    }\n",
       "\n",
       "    .dataframe thead th {\n",
       "        text-align: right;\n",
       "    }\n",
       "</style>\n",
       "<table border=\"1\" class=\"dataframe\">\n",
       "  <thead>\n",
       "    <tr style=\"text-align: right;\">\n",
       "      <th></th>\n",
       "      <th>text</th>\n",
       "      <th>toxicity</th>\n",
       "      <th>id</th>\n",
       "      <th>parent_id</th>\n",
       "      <th>date</th>\n",
       "      <th>language_model</th>\n",
       "    </tr>\n",
       "  </thead>\n",
       "  <tbody>\n",
       "    <tr>\n",
       "      <th>82</th>\n",
       "      <td>Bravo Michali !!!</td>\n",
       "      <td>1.0</td>\n",
       "      <td>0</td>\n",
       "      <td>1</td>\n",
       "      <td>8 years ago</td>\n",
       "      <td>greeklish</td>\n",
       "    </tr>\n",
       "    <tr>\n",
       "      <th>123</th>\n",
       "      <td>Tha ithela na do ton Noti s'afto to panel:))  ...</td>\n",
       "      <td>1.0</td>\n",
       "      <td>0</td>\n",
       "      <td>1</td>\n",
       "      <td>4 years ago (edited)</td>\n",
       "      <td>greeklish</td>\n",
       "    </tr>\n",
       "    <tr>\n",
       "      <th>133</th>\n",
       "      <td>BRAVO RE Νίκο Μιχαλολιάκο.....!!!</td>\n",
       "      <td>1.0</td>\n",
       "      <td>0</td>\n",
       "      <td>1</td>\n",
       "      <td>10 years ago</td>\n",
       "      <td>greeklish</td>\n",
       "    </tr>\n",
       "    <tr>\n",
       "      <th>160</th>\n",
       "      <td>Sta epistrefoume!</td>\n",
       "      <td>1.0</td>\n",
       "      <td>0</td>\n",
       "      <td>1</td>\n",
       "      <td>10 years ago</td>\n",
       "      <td>greeklish</td>\n",
       "    </tr>\n",
       "    <tr>\n",
       "      <th>179</th>\n",
       "      <td>sto oti exeis ftiaksei ena senario sto mialo s...</td>\n",
       "      <td>2.0</td>\n",
       "      <td>0</td>\n",
       "      <td>1</td>\n",
       "      <td>11 years ago</td>\n",
       "      <td>greeklish</td>\n",
       "    </tr>\n",
       "    <tr>\n",
       "      <th>185</th>\n",
       "      <td>to thema den einai auto...to thema einai oti h...</td>\n",
       "      <td>2.0</td>\n",
       "      <td>0</td>\n",
       "      <td>1</td>\n",
       "      <td>11 years ago</td>\n",
       "      <td>greeklish</td>\n",
       "    </tr>\n",
       "    <tr>\n",
       "      <th>205</th>\n",
       "      <td>O Vereikios einao poli yeleios ehei ekei 2 ore...</td>\n",
       "      <td>3.0</td>\n",
       "      <td>0</td>\n",
       "      <td>3</td>\n",
       "      <td>2 years ago</td>\n",
       "      <td>greeklish</td>\n",
       "    </tr>\n",
       "    <tr>\n",
       "      <th>206</th>\n",
       "      <td>Figje re Verikie,dhen exis megalosi toso poli ...</td>\n",
       "      <td>2.0</td>\n",
       "      <td>0</td>\n",
       "      <td>3</td>\n",
       "      <td>8 years ago</td>\n",
       "      <td>greeklish</td>\n",
       "    </tr>\n",
       "    <tr>\n",
       "      <th>209</th>\n",
       "      <td>poso zwa einai merikoi ekei</td>\n",
       "      <td>3.0</td>\n",
       "      <td>0</td>\n",
       "      <td>3</td>\n",
       "      <td>7 years ago</td>\n",
       "      <td>greeklish</td>\n",
       "    </tr>\n",
       "    <tr>\n",
       "      <th>211</th>\n",
       "      <td>oVerikios tin paleuei?</td>\n",
       "      <td>2.0</td>\n",
       "      <td>0</td>\n",
       "      <td>3</td>\n",
       "      <td>8 years ago</td>\n",
       "      <td>greeklish</td>\n",
       "    </tr>\n",
       "    <tr>\n",
       "      <th>237</th>\n",
       "      <td>1:38:25 egkefaliko se ekseliksh</td>\n",
       "      <td>1.0</td>\n",
       "      <td>0</td>\n",
       "      <td>4</td>\n",
       "      <td>8 years ago</td>\n",
       "      <td>greeklish</td>\n",
       "    </tr>\n",
       "    <tr>\n",
       "      <th>243</th>\n",
       "      <td>megale Adoni</td>\n",
       "      <td>1.0</td>\n",
       "      <td>0</td>\n",
       "      <td>4</td>\n",
       "      <td>1 year ago</td>\n",
       "      <td>greeklish</td>\n",
       "    </tr>\n",
       "    <tr>\n",
       "      <th>248</th>\n",
       "      <td>Kai oi dyo ta idia skta einai...</td>\n",
       "      <td>3.0</td>\n",
       "      <td>0</td>\n",
       "      <td>4</td>\n",
       "      <td>3 months ago</td>\n",
       "      <td>greeklish</td>\n",
       "    </tr>\n",
       "    <tr>\n",
       "      <th>249</th>\n",
       "      <td>H ELLADA PAEI KATA DIAOLOU KAI AYTOI ASXOLOUNT...</td>\n",
       "      <td>3.0</td>\n",
       "      <td>0</td>\n",
       "      <td>4</td>\n",
       "      <td>3 months ago</td>\n",
       "      <td>greeklish</td>\n",
       "    </tr>\n",
       "    <tr>\n",
       "      <th>250</th>\n",
       "      <td>Xestike  epano tou o Adwnis  ..me to vivleio.....</td>\n",
       "      <td>2.0</td>\n",
       "      <td>0</td>\n",
       "      <td>4</td>\n",
       "      <td>3 months ago</td>\n",
       "      <td>greeklish</td>\n",
       "    </tr>\n",
       "    <tr>\n",
       "      <th>270</th>\n",
       "      <td>Bravo professore, poli sosta'</td>\n",
       "      <td>1.0</td>\n",
       "      <td>0</td>\n",
       "      <td>6</td>\n",
       "      <td>2 years ago (edited)</td>\n",
       "      <td>greeklish</td>\n",
       "    </tr>\n",
       "    <tr>\n",
       "      <th>331</th>\n",
       "      <td>O adwnhs opws kai na to paroumai exei talento ...</td>\n",
       "      <td>1.0</td>\n",
       "      <td>0</td>\n",
       "      <td>7</td>\n",
       "      <td>4 months ago</td>\n",
       "      <td>greeklish</td>\n",
       "    </tr>\n",
       "    <tr>\n",
       "      <th>351</th>\n",
       "      <td>POS TON AKUTE VLAKES AFTON TON ANISTORITO OI V...</td>\n",
       "      <td>4.0</td>\n",
       "      <td>0</td>\n",
       "      <td>7</td>\n",
       "      <td>2 months ago</td>\n",
       "      <td>greeklish</td>\n",
       "    </tr>\n",
       "    <tr>\n",
       "      <th>408</th>\n",
       "      <td>MOY UYMIZETE MIA DASKALA MOY STO GYMNASIO STO ...</td>\n",
       "      <td>1.0</td>\n",
       "      <td>0</td>\n",
       "      <td>9</td>\n",
       "      <td>5 months ago</td>\n",
       "      <td>greeklish</td>\n",
       "    </tr>\n",
       "    <tr>\n",
       "      <th>410</th>\n",
       "      <td>i apo ionia !!</td>\n",
       "      <td>1.0</td>\n",
       "      <td>0</td>\n",
       "      <td>9</td>\n",
       "      <td>9 months ago</td>\n",
       "      <td>greeklish</td>\n",
       "    </tr>\n",
       "  </tbody>\n",
       "</table>\n",
       "</div>"
      ],
      "text/plain": [
       "                                                  text  toxicity id parent_id  \\\n",
       "82                                   Bravo Michali !!!       1.0  0         1   \n",
       "123  Tha ithela na do ton Noti s'afto to panel:))  ...       1.0  0         1   \n",
       "133                  BRAVO RE Νίκο Μιχαλολιάκο.....!!!       1.0  0         1   \n",
       "160                                  Sta epistrefoume!       1.0  0         1   \n",
       "179  sto oti exeis ftiaksei ena senario sto mialo s...       2.0  0         1   \n",
       "185  to thema den einai auto...to thema einai oti h...       2.0  0         1   \n",
       "205  O Vereikios einao poli yeleios ehei ekei 2 ore...       3.0  0         3   \n",
       "206  Figje re Verikie,dhen exis megalosi toso poli ...       2.0  0         3   \n",
       "209                        poso zwa einai merikoi ekei       3.0  0         3   \n",
       "211                             oVerikios tin paleuei?       2.0  0         3   \n",
       "237                    1:38:25 egkefaliko se ekseliksh       1.0  0         4   \n",
       "243                                       megale Adoni       1.0  0         4   \n",
       "248                   Kai oi dyo ta idia skta einai...       3.0  0         4   \n",
       "249  H ELLADA PAEI KATA DIAOLOU KAI AYTOI ASXOLOUNT...       3.0  0         4   \n",
       "250  Xestike  epano tou o Adwnis  ..me to vivleio.....       2.0  0         4   \n",
       "270                      Bravo professore, poli sosta'       1.0  0         6   \n",
       "331  O adwnhs opws kai na to paroumai exei talento ...       1.0  0         7   \n",
       "351  POS TON AKUTE VLAKES AFTON TON ANISTORITO OI V...       4.0  0         7   \n",
       "408  MOY UYMIZETE MIA DASKALA MOY STO GYMNASIO STO ...       1.0  0         9   \n",
       "410                                     i apo ionia !!       1.0  0         9   \n",
       "\n",
       "                     date language_model  \n",
       "82            8 years ago      greeklish  \n",
       "123  4 years ago (edited)      greeklish  \n",
       "133          10 years ago      greeklish  \n",
       "160          10 years ago      greeklish  \n",
       "179          11 years ago      greeklish  \n",
       "185          11 years ago      greeklish  \n",
       "205           2 years ago      greeklish  \n",
       "206           8 years ago      greeklish  \n",
       "209           7 years ago      greeklish  \n",
       "211           8 years ago      greeklish  \n",
       "237           8 years ago      greeklish  \n",
       "243            1 year ago      greeklish  \n",
       "248          3 months ago      greeklish  \n",
       "249          3 months ago      greeklish  \n",
       "250          3 months ago      greeklish  \n",
       "270  2 years ago (edited)      greeklish  \n",
       "331          4 months ago      greeklish  \n",
       "351          2 months ago      greeklish  \n",
       "408          5 months ago      greeklish  \n",
       "410          9 months ago      greeklish  "
      ]
     },
     "execution_count": 25,
     "metadata": {},
     "output_type": "execute_result"
    }
   ],
   "source": [
    "result[result['language_model']=='greeklish']"
   ]
  },
  {
   "cell_type": "markdown",
   "metadata": {},
   "source": [
    "As we see our model predicts that most of the texts is written in greek. That is not a problem, because most of the comments we crawled are greek, and it predicted well the greeklish and english as we can see above."
   ]
  },
  {
   "cell_type": "markdown",
   "metadata": {},
   "source": [
    "# Toxicity classification"
   ]
  },
  {
   "cell_type": "markdown",
   "metadata": {},
   "source": [
    "Now lets consider the next part which is about toxicity. We use ChatGPT 3.5, as seen in the report.pdf to classify our crawl data. Lets explore"
   ]
  },
  {
   "cell_type": "code",
   "execution_count": 26,
   "metadata": {},
   "outputs": [
    {
     "data": {
      "text/html": [
       "<div>\n",
       "<style scoped>\n",
       "    .dataframe tbody tr th:only-of-type {\n",
       "        vertical-align: middle;\n",
       "    }\n",
       "\n",
       "    .dataframe tbody tr th {\n",
       "        vertical-align: top;\n",
       "    }\n",
       "\n",
       "    .dataframe thead th {\n",
       "        text-align: right;\n",
       "    }\n",
       "</style>\n",
       "<table border=\"1\" class=\"dataframe\">\n",
       "  <thead>\n",
       "    <tr style=\"text-align: right;\">\n",
       "      <th></th>\n",
       "      <th>text</th>\n",
       "      <th>toxicity</th>\n",
       "      <th>id</th>\n",
       "      <th>parent_id</th>\n",
       "      <th>date</th>\n",
       "      <th>language_model</th>\n",
       "    </tr>\n",
       "  </thead>\n",
       "  <tbody>\n",
       "    <tr>\n",
       "      <th>114</th>\n",
       "      <td>ΕΙΣΤΕ ΕΡΓΟΛΑΒΟΙ !!!!!!!!!!!!!!!! ΓΑΜΑΤΟ</td>\n",
       "      <td>5.0</td>\n",
       "      <td>0</td>\n",
       "      <td>1</td>\n",
       "      <td>11 years ago</td>\n",
       "      <td>greek</td>\n",
       "    </tr>\n",
       "  </tbody>\n",
       "</table>\n",
       "</div>"
      ],
      "text/plain": [
       "                                        text  toxicity id parent_id  \\\n",
       "114  ΕΙΣΤΕ ΕΡΓΟΛΑΒΟΙ !!!!!!!!!!!!!!!! ΓΑΜΑΤΟ       5.0  0         1   \n",
       "\n",
       "             date language_model  \n",
       "114  11 years ago          greek  "
      ]
     },
     "execution_count": 26,
     "metadata": {},
     "output_type": "execute_result"
    }
   ],
   "source": [
    "#comments with toxicity rating 5\n",
    "result[result['toxicity']==5]"
   ]
  },
  {
   "cell_type": "code",
   "execution_count": 27,
   "metadata": {},
   "outputs": [
    {
     "data": {
      "text/html": [
       "<div>\n",
       "<style scoped>\n",
       "    .dataframe tbody tr th:only-of-type {\n",
       "        vertical-align: middle;\n",
       "    }\n",
       "\n",
       "    .dataframe tbody tr th {\n",
       "        vertical-align: top;\n",
       "    }\n",
       "\n",
       "    .dataframe thead th {\n",
       "        text-align: right;\n",
       "    }\n",
       "</style>\n",
       "<table border=\"1\" class=\"dataframe\">\n",
       "  <thead>\n",
       "    <tr style=\"text-align: right;\">\n",
       "      <th></th>\n",
       "      <th>text</th>\n",
       "      <th>toxicity</th>\n",
       "      <th>id</th>\n",
       "      <th>parent_id</th>\n",
       "      <th>date</th>\n",
       "      <th>language_model</th>\n",
       "    </tr>\n",
       "  </thead>\n",
       "  <tbody>\n",
       "    <tr>\n",
       "      <th>21</th>\n",
       "      <td>Aυτή η συνέντευξη πρέπει να μπει στο αρχείο κα...</td>\n",
       "      <td>4.0</td>\n",
       "      <td>0</td>\n",
       "      <td>1</td>\n",
       "      <td>3 years ago</td>\n",
       "      <td>greek</td>\n",
       "    </tr>\n",
       "    <tr>\n",
       "      <th>44</th>\n",
       "      <td>έτυχε να ακούσω για αυτή την εκπομπή!!!και έκα...</td>\n",
       "      <td>4.0</td>\n",
       "      <td>0</td>\n",
       "      <td>1</td>\n",
       "      <td>11 years ago</td>\n",
       "      <td>greek</td>\n",
       "    </tr>\n",
       "    <tr>\n",
       "      <th>54</th>\n",
       "      <td>7/10/2020 Όλο το ελληνικό κράτος ασχολήθηκε με...</td>\n",
       "      <td>4.0</td>\n",
       "      <td>0</td>\n",
       "      <td>1</td>\n",
       "      <td>3 years ago</td>\n",
       "      <td>greek</td>\n",
       "    </tr>\n",
       "    <tr>\n",
       "      <th>62</th>\n",
       "      <td>Αυτό είναι το μέλλον της Ελλάδας; Της πατρίδας...</td>\n",
       "      <td>4.0</td>\n",
       "      <td>0</td>\n",
       "      <td>1</td>\n",
       "      <td>9 years ago</td>\n",
       "      <td>greek</td>\n",
       "    </tr>\n",
       "    <tr>\n",
       "      <th>346</th>\n",
       "      <td>EISE POLH MAKAKAS VLAKA XAZARE</td>\n",
       "      <td>4.0</td>\n",
       "      <td>0</td>\n",
       "      <td>7</td>\n",
       "      <td>2 months ago</td>\n",
       "      <td>greek</td>\n",
       "    </tr>\n",
       "    <tr>\n",
       "      <th>351</th>\n",
       "      <td>POS TON AKUTE VLAKES AFTON TON ANISTORITO OI V...</td>\n",
       "      <td>4.0</td>\n",
       "      <td>0</td>\n",
       "      <td>7</td>\n",
       "      <td>2 months ago</td>\n",
       "      <td>greeklish</td>\n",
       "    </tr>\n",
       "  </tbody>\n",
       "</table>\n",
       "</div>"
      ],
      "text/plain": [
       "                                                  text  toxicity id parent_id  \\\n",
       "21   Aυτή η συνέντευξη πρέπει να μπει στο αρχείο κα...       4.0  0         1   \n",
       "44   έτυχε να ακούσω για αυτή την εκπομπή!!!και έκα...       4.0  0         1   \n",
       "54   7/10/2020 Όλο το ελληνικό κράτος ασχολήθηκε με...       4.0  0         1   \n",
       "62   Αυτό είναι το μέλλον της Ελλάδας; Της πατρίδας...       4.0  0         1   \n",
       "346                     EISE POLH MAKAKAS VLAKA XAZARE       4.0  0         7   \n",
       "351  POS TON AKUTE VLAKES AFTON TON ANISTORITO OI V...       4.0  0         7   \n",
       "\n",
       "             date language_model  \n",
       "21    3 years ago          greek  \n",
       "44   11 years ago          greek  \n",
       "54    3 years ago          greek  \n",
       "62    9 years ago          greek  \n",
       "346  2 months ago          greek  \n",
       "351  2 months ago      greeklish  "
      ]
     },
     "execution_count": 27,
     "metadata": {},
     "output_type": "execute_result"
    }
   ],
   "source": [
    "#comments with toxicity rating 4\n",
    "result[result['toxicity']==4]"
   ]
  },
  {
   "cell_type": "markdown",
   "metadata": {},
   "source": [
    "We will calculate which is the most toxic language of these three. Our metric will be the mean of toxicity rating. We need to keep in mund that greek has much more texts than the other two. "
   ]
  },
  {
   "cell_type": "code",
   "execution_count": 28,
   "metadata": {},
   "outputs": [
    {
     "name": "stdout",
     "output_type": "stream",
     "text": [
      " mean toxicity in greek comments: 1.39 \n",
      " mean toxicity in greeklish comments: 1.80 \n",
      " mean toxicity in english comments: 1.44 \n"
     ]
    }
   ],
   "source": [
    "mean_toxicity_greek = np.mean(result[result['language_model'] == 'greek']['toxicity'])\n",
    "mean_toxicity_greeklish = np.mean(result[result['language_model'] == 'greeklish']['toxicity'])\n",
    "mean_toxicity_english = np.mean(result[result['language_model'] == 'english']['toxicity'])\n",
    "\n",
    "print(f' mean toxicity in greek comments: {mean_toxicity_greek:.2f} ')\n",
    "print(f' mean toxicity in greeklish comments: {mean_toxicity_greeklish:.2f} ')\n",
    "print(f' mean toxicity in english comments: {mean_toxicity_english:.2f} ')\n"
   ]
  },
  {
   "cell_type": "markdown",
   "metadata": {},
   "source": [
    "From these we see that greeklish is the most toxic language. Lets see now about the most toxic post, using the same metric."
   ]
  },
  {
   "cell_type": "code",
   "execution_count": 29,
   "metadata": {},
   "outputs": [
    {
     "name": "stdout",
     "output_type": "stream",
     "text": [
      "Post 1 mean_toxicity 1.60\n",
      "Post 3 mean_toxicity 1.76\n",
      "Post 4 mean_toxicity 1.31\n",
      "Post 6 mean_toxicity 1.23\n",
      "Post 7 mean_toxicity 1.38\n",
      "Post 9 mean_toxicity 1.00\n",
      "Post 10 mean_toxicity 1.00\n"
     ]
    }
   ],
   "source": [
    "result.parent_id.unique()\n",
    "for i in (result.parent_id.unique()):\n",
    "    print('Post {} mean_toxicity {:.2f}'.format(i, np.mean(result[result['parent_id']==i]['toxicity'])))\n",
    "\n",
    "    "
   ]
  },
  {
   "cell_type": "markdown",
   "metadata": {},
   "source": [
    "Post 2 seems to be the most toxic one."
   ]
  },
  {
   "cell_type": "markdown",
   "metadata": {},
   "source": [
    "Now we want to examine the toxicity during the time. For this task we need to sort the dataset, by date. But date is in complicated form, so we manipulate it a bit."
   ]
  },
  {
   "cell_type": "code",
   "execution_count": 30,
   "metadata": {},
   "outputs": [],
   "source": [
    "#manipulate the date in order to sort the dataframe\n",
    "#split date and keep only the valuable part\n",
    "result['date'] = result['date'].apply(lambda x : x.split(' ')[0]+' '+x.split(' ')[1])"
   ]
  },
  {
   "cell_type": "code",
   "execution_count": 45,
   "metadata": {},
   "outputs": [
    {
     "data": {
      "text/html": [
       "<div>\n",
       "<style scoped>\n",
       "    .dataframe tbody tr th:only-of-type {\n",
       "        vertical-align: middle;\n",
       "    }\n",
       "\n",
       "    .dataframe tbody tr th {\n",
       "        vertical-align: top;\n",
       "    }\n",
       "\n",
       "    .dataframe thead th {\n",
       "        text-align: right;\n",
       "    }\n",
       "</style>\n",
       "<table border=\"1\" class=\"dataframe\">\n",
       "  <thead>\n",
       "    <tr style=\"text-align: right;\">\n",
       "      <th></th>\n",
       "      <th>text</th>\n",
       "      <th>toxicity</th>\n",
       "      <th>id</th>\n",
       "      <th>parent_id</th>\n",
       "      <th>date</th>\n",
       "      <th>language_model</th>\n",
       "      <th>days</th>\n",
       "    </tr>\n",
       "  </thead>\n",
       "  <tbody>\n",
       "    <tr>\n",
       "      <th>424</th>\n",
       "      <td>Την υπέροχη αυτή κυρία την λαλίστατη, με  απέρ...</td>\n",
       "      <td>1.0</td>\n",
       "      <td>0</td>\n",
       "      <td>10</td>\n",
       "      <td>2 weeks</td>\n",
       "      <td>greek</td>\n",
       "      <td>14</td>\n",
       "    </tr>\n",
       "    <tr>\n",
       "      <th>144</th>\n",
       "      <td>Πρόεδρε είσαι Θεός.</td>\n",
       "      <td>1.0</td>\n",
       "      <td>0</td>\n",
       "      <td>1</td>\n",
       "      <td>2 weeks</td>\n",
       "      <td>greek</td>\n",
       "      <td>14</td>\n",
       "    </tr>\n",
       "    <tr>\n",
       "      <th>29</th>\n",
       "      <td>20:03 -Θελω να καταγραψω την δημοσιογραφικη σο...</td>\n",
       "      <td>3.0</td>\n",
       "      <td>0</td>\n",
       "      <td>1</td>\n",
       "      <td>1 month</td>\n",
       "      <td>greek</td>\n",
       "      <td>30</td>\n",
       "    </tr>\n",
       "    <tr>\n",
       "      <th>297</th>\n",
       "      <td>Αν και ενδιαφερουσα διαλεξη, πολυ κακη αρθρωση...</td>\n",
       "      <td>3.0</td>\n",
       "      <td>0</td>\n",
       "      <td>6</td>\n",
       "      <td>1 month</td>\n",
       "      <td>greek</td>\n",
       "      <td>30</td>\n",
       "    </tr>\n",
       "    <tr>\n",
       "      <th>395</th>\n",
       "      <td>Μπράβο ιαπωνια.</td>\n",
       "      <td>1.0</td>\n",
       "      <td>0</td>\n",
       "      <td>9</td>\n",
       "      <td>1 month</td>\n",
       "      <td>greek</td>\n",
       "      <td>30</td>\n",
       "    </tr>\n",
       "  </tbody>\n",
       "</table>\n",
       "</div>"
      ],
      "text/plain": [
       "                                                  text  toxicity id parent_id  \\\n",
       "424  Την υπέροχη αυτή κυρία την λαλίστατη, με  απέρ...       1.0  0        10   \n",
       "144                                Πρόεδρε είσαι Θεός.       1.0  0         1   \n",
       "29   20:03 -Θελω να καταγραψω την δημοσιογραφικη σο...       3.0  0         1   \n",
       "297  Αν και ενδιαφερουσα διαλεξη, πολυ κακη αρθρωση...       3.0  0         6   \n",
       "395                                    Μπράβο ιαπωνια.       1.0  0         9   \n",
       "\n",
       "        date language_model  days  \n",
       "424  2 weeks          greek    14  \n",
       "144  2 weeks          greek    14  \n",
       "29   1 month          greek    30  \n",
       "297  1 month          greek    30  \n",
       "395  1 month          greek    30  "
      ]
     },
     "execution_count": 45,
     "metadata": {},
     "output_type": "execute_result"
    }
   ],
   "source": [
    "#convert weeks,months, years to date so we can compare them.\n",
    "def convert_to_days(duration):\n",
    "    value, unit = duration.split()\n",
    "    value = int(value)\n",
    "    if 'week' in unit:\n",
    "        return value * 7\n",
    "    elif 'month' in unit:\n",
    "        return value * 30\n",
    "    elif 'year' in unit:\n",
    "        return value*365\n",
    "    else:\n",
    "        return int(value)\n",
    "    \n",
    "result['days'] = result['date'].apply(convert_to_days)\n",
    "df_sorted = result.sort_values(by='days')\n",
    "df_sorted.head()"
   ]
  },
  {
   "cell_type": "code",
   "execution_count": 46,
   "metadata": {},
   "outputs": [
    {
     "data": {
      "image/png": "[encoded data removed]",
      "text/plain": [
       "<Figure size 1080x720 with 7 Axes>"
      ]
     },
     "metadata": {
      "needs_background": "light"
     },
     "output_type": "display_data"
    }
   ],
   "source": [
    "fig, ax = plt.subplots(7, figsize=(15, 10))\n",
    "parent_ids = ['1', '3', '4', '6', '7', '9', '10']\n",
    "\n",
    "for i, parent_id in enumerate(parent_ids):\n",
    "    ax[i].plot(df_sorted[df_sorted['parent_id'] == parent_id]['days'],df_sorted[df_sorted['parent_id'] == parent_id]['toxicity'].rolling(3).mean())\n",
    "    ax[i].set_title(f'Post ID {parent_id}', x=0.5, y=0.6)\n",
    "    ax[i].set_ylim(0,5)\n",
    "fig.suptitle('Toxicity over time for each post',x=0.5,y=1.05, fontsize=12)\n",
    "plt.xlabel('days ago', fontsize=12)\n",
    "for ax in ax.flat:\n",
    "    ax.set(ylabel='Toxicity rating')\n",
    "# ax.ylabel('ylabel', fontsize='medium')\n",
    "\n",
    "plt.tight_layout()\n",
    "plt.show()"
   ]
  },
  {
   "cell_type": "markdown",
   "metadata": {},
   "source": [
    "So from the above plot we see that post 9 and 10 are uniform in toxicity. Actually the toxicity is very low during the whole time.In post one, we see that there are high in toxicity comments spead in time. In post 4,6,7, we see that the more toxic comments are the newer ones. "
   ]
  },
  {
   "cell_type": "code",
   "execution_count": null,
   "metadata": {},
   "outputs": [],
   "source": []
  }
 ],
 "metadata": {
  "kernelspec": {
   "display_name": "Python 3",
   "language": "python",
   "name": "python3"
  },
  "language_info": {
   "codemirror_mode": {
    "name": "ipython",
    "version": 3
   },
   "file_extension": ".py",
   "mimetype": "text/x-python",
   "name": "python",
   "nbconvert_exporter": "python",
   "pygments_lexer": "ipython3",
   "version": "3.6.5"
  }
 },
 "nbformat": 4,
 "nbformat_minor": 2
}
