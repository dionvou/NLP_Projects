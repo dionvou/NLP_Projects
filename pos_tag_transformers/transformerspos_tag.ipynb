{
 "cells": [
  {
   "cell_type": "markdown",
   "metadata": {},
   "source": [
    "# EXERCISE 3 - POS TAGGING TASK WITH STACKED CNN CLASSIFIER"
   ]
  },
  {
   "cell_type": "markdown",
   "metadata": {},
   "source": [
    "Lets download our data from [source](https://github.com/UniversalDependencies/UD_English-EWT.git)"
   ]
  },
  {
   "cell_type": "code",
   "execution_count": 1,
   "metadata": {
    "colab": {
     "base_uri": "https://localhost:8080/"
    },
    "id": "DpZ0t7bl83FH",
    "outputId": "badbae10-07c0-4f14-a6f1-cbbca17845d1"
   },
   "outputs": [
    {
     "name": "stderr",
     "output_type": "stream",
     "text": [
      "fatal: destination path 'UD_English-EWT' already exists and is not an empty directory.\n"
     ]
    }
   ],
   "source": [
    "# Clone the repository\n",
    "# !git clone --depth 2 --single-branch --branch dev https://github.com/UniversalDependencies/UD_English-EWT.git"
   ]
  },
  {
   "cell_type": "code",
   "execution_count": 1,
   "metadata": {
    "colab": {
     "base_uri": "https://localhost:8080/"
    },
    "id": "c1iVSJtX9C0N",
    "outputId": "1e4cbbb1-bc32-4f93-bcb9-3ae6ea831e81"
   },
   "outputs": [
    {
     "name": "stdout",
     "output_type": "stream",
     "text": [
      "C:/1. Python/MLP_Classifier/UD_English-EWT/en_ewt-ud-train.conllu\n",
      "C:/1. Python/MLP_Classifier/UD_English-EWT/en_ewt-ud-dev.conllu\n",
      "C:/1. Python/MLP_Classifier/UD_English-EWT/en_ewt-ud-test.conllu\n"
     ]
    }
   ],
   "source": [
    "# !pip install conllu  # You can install conllu for the read of the files\n",
    "import conllu\n",
    "import pandas as pd\n",
    "import numpy as np\n",
    "\n",
    "def read_conllu_file(file_path):\n",
    "    \"\"\"\n",
    "    Read a conllu file and read each sentences separated\n",
    "    :param file_path: String\n",
    "    :return: data in sentences specifically: <class 'conllu.models.SentenceList'>\n",
    "    \"\"\"\n",
    "    # Read the CoNLL-U file\n",
    "    with open(file_path, \"r\", encoding=\"utf-8\") as f:\n",
    "        # Parse the CoNLL-U formatted data\n",
    "        data = f.read()\n",
    "        sentences = conllu.parse(data)\n",
    "    return sentences\n",
    "\n",
    "\n",
    "# Function to extract tokens and UPOS tags from\n",
    "# SentenceList object and create a DataFrame\n",
    "def create_pos_df(sentences):\n",
    "    \"\"\"\n",
    "    Read the conllu sentences list and import them in a dataframe\n",
    "    including the information we need\n",
    "    :param sentences: conllu.models.SentenceList\n",
    "    :return: pd.DataFrame object\n",
    "    \"\"\"\n",
    "    id_list = []\n",
    "    tokens_list = []\n",
    "    upos_tags_list = []\n",
    "\n",
    "    for sentence in sentences:\n",
    "        for token in sentence:  # Extract token and UPOS tag\n",
    "            id = token['id']\n",
    "            token_text = token['form']\n",
    "            upos_tag = token['upos']\n",
    "\n",
    "            id_list.append(id)\n",
    "            tokens_list.append(token_text)\n",
    "            upos_tags_list.append(upos_tag)\n",
    "\n",
    "\n",
    "    # Create dataframe\n",
    "    dataframe = pd.DataFrame({'id': id_list, \"token\": tokens_list, \"UPOS\": upos_tags_list})\n",
    "    return dataframe\n",
    "\n",
    "# Initialize the file paths\n",
    "for split in ('train', 'dev', 'test'):\n",
    "    file_path = f'C:/1. Python/MLP_Classifier/UD_English-EWT/en_ewt-ud-{split}.conllu'\n",
    "    print(file_path)\n",
    "    sentences = read_conllu_file(file_path)\n",
    "\n",
    "    # Create DataFrame for the current split\n",
    "    pos_df = create_pos_df(sentences)\n",
    "    # Assign DataFrame to variable with specific name\n",
    "    globals()[f\"{split}_pos\"] = pos_df"
   ]
  },
  {
   "cell_type": "code",
   "execution_count": 2,
   "metadata": {
    "colab": {
     "base_uri": "https://localhost:8080/"
    },
    "id": "oQFQvQxK9Gts",
    "outputId": "6ee34d66-abf4-412b-fad3-68e3affdd293"
   },
   "outputs": [
    {
     "name": "stdout",
     "output_type": "stream",
     "text": [
      "train_pos dataframe: 207229\n",
      "test_pos dataframe: 25450\n",
      "dev_pos dataframe: 25511\n"
     ]
    }
   ],
   "source": [
    "print(f\"train_pos dataframe: {len(train_pos)}\")\n",
    "print(f\"test_pos dataframe: {len(test_pos)}\")\n",
    "print(f\"dev_pos dataframe: {len(dev_pos)}\")\n",
    "\n",
    "# !rm -rf /content/UD_English-EWT # free up memory"
   ]
  },
  {
   "cell_type": "markdown",
   "metadata": {},
   "source": [
    "### CLEAN OUR DATA"
   ]
  },
  {
   "cell_type": "code",
   "execution_count": 3,
   "metadata": {
    "colab": {
     "base_uri": "https://localhost:8080/"
    },
    "id": "rIuPJUKN9N-K",
    "outputId": "6d97ded3-9dd9-4959-a9b5-79efe910c0c9"
   },
   "outputs": [
    {
     "data": {
      "text/plain": [
       "array(['PROPN', 'PUNCT', 'ADJ', 'NOUN', 'VERB', 'DET', 'ADP', 'AUX',\n",
       "       'PRON', 'PART', 'SCONJ', 'NUM', 'ADV', 'CCONJ', '_', 'INTJ', 'X',\n",
       "       'SYM'], dtype=object)"
      ]
     },
     "execution_count": 3,
     "metadata": {},
     "output_type": "execute_result"
    }
   ],
   "source": [
    "# Check the labels of our data\n",
    "train_pos.UPOS.unique()"
   ]
  },
  {
   "cell_type": "code",
   "execution_count": 4,
   "metadata": {
    "id": "iCh6vWWw9Vru"
   },
   "outputs": [],
   "source": [
    "# Drop rows that contain UPOS = '_'\n",
    "train_pos = train_pos[train_pos.UPOS != '_']\n",
    "test_pos = test_pos[test_pos.UPOS != '_']\n",
    "dev_pos = dev_pos[dev_pos.UPOS != '_']"
   ]
  },
  {
   "cell_type": "code",
   "execution_count": 5,
   "metadata": {
    "colab": {
     "base_uri": "https://localhost:8080/"
    },
    "id": "dYHeHZGG9YJI",
    "outputId": "65fd33a6-1371-49dc-f4e7-94b714e82218"
   },
   "outputs": [
    {
     "name": "stdout",
     "output_type": "stream",
     "text": [
      "Number of tags:  17\n"
     ]
    }
   ],
   "source": [
    "print(\"Number of tags: \",len(train_pos.UPOS.unique()))"
   ]
  },
  {
   "cell_type": "code",
   "execution_count": 6,
   "metadata": {
    "colab": {
     "base_uri": "https://localhost:8080/"
    },
    "id": "vNQE55P49cHF",
    "outputId": "acd6ff20-b58e-4684-bf44-1a35ab314ad5"
   },
   "outputs": [
    {
     "name": "stdout",
     "output_type": "stream",
     "text": [
      "The length of the training set before the preprocess: 204615\n",
      "After the preprocess: 204578\n"
     ]
    }
   ],
   "source": [
    "print(f'The length of the training set before the preprocess: {len(train_pos)}')\n",
    "\n",
    "# Remove duplicate words where their id is not integer but tuple\n",
    "train_pos = train_pos[train_pos.id.apply(lambda x: isinstance(x, int))]\n",
    "dev_pos = dev_pos[dev_pos.id.apply(lambda x: isinstance(x, int))]\n",
    "test_pos = test_pos[test_pos.id.apply(lambda x: isinstance(x, int))]\n",
    "\n",
    "# Reset the index of our dataframes because we dropped some rows\n",
    "train_pos = train_pos.reset_index()\n",
    "dev_pos = dev_pos.reset_index()\n",
    "test_pos = test_pos.reset_index()\n",
    "\n",
    "print(f'After the preprocess: {len(train_pos)}')"
   ]
  },
  {
   "cell_type": "code",
   "execution_count": 7,
   "metadata": {
    "colab": {
     "base_uri": "https://localhost:8080/",
     "height": 1000
    },
    "id": "qxNlHp_9-REp",
    "outputId": "2496419f-b446-4210-ae42-4e4706d2cb59"
   },
   "outputs": [
    {
     "data": {
      "text/html": [
       "<div>\n",
       "<style scoped>\n",
       "    .dataframe tbody tr th:only-of-type {\n",
       "        vertical-align: middle;\n",
       "    }\n",
       "\n",
       "    .dataframe tbody tr th {\n",
       "        vertical-align: top;\n",
       "    }\n",
       "\n",
       "    .dataframe thead th {\n",
       "        text-align: right;\n",
       "    }\n",
       "</style>\n",
       "<table border=\"1\" class=\"dataframe\">\n",
       "  <thead>\n",
       "    <tr style=\"text-align: right;\">\n",
       "      <th></th>\n",
       "      <th>index</th>\n",
       "      <th>id</th>\n",
       "      <th>token</th>\n",
       "      <th>UPOS</th>\n",
       "    </tr>\n",
       "  </thead>\n",
       "  <tbody>\n",
       "    <tr>\n",
       "      <th>0</th>\n",
       "      <td>0</td>\n",
       "      <td>1</td>\n",
       "      <td>Al</td>\n",
       "      <td>PROPN</td>\n",
       "    </tr>\n",
       "    <tr>\n",
       "      <th>1</th>\n",
       "      <td>1</td>\n",
       "      <td>2</td>\n",
       "      <td>-</td>\n",
       "      <td>PUNCT</td>\n",
       "    </tr>\n",
       "    <tr>\n",
       "      <th>2</th>\n",
       "      <td>2</td>\n",
       "      <td>3</td>\n",
       "      <td>Zaman</td>\n",
       "      <td>PROPN</td>\n",
       "    </tr>\n",
       "    <tr>\n",
       "      <th>3</th>\n",
       "      <td>3</td>\n",
       "      <td>4</td>\n",
       "      <td>:</td>\n",
       "      <td>PUNCT</td>\n",
       "    </tr>\n",
       "    <tr>\n",
       "      <th>4</th>\n",
       "      <td>4</td>\n",
       "      <td>5</td>\n",
       "      <td>American</td>\n",
       "      <td>ADJ</td>\n",
       "    </tr>\n",
       "  </tbody>\n",
       "</table>\n",
       "</div>"
      ],
      "text/plain": [
       "   index id     token   UPOS\n",
       "0      0  1        Al  PROPN\n",
       "1      1  2         -  PUNCT\n",
       "2      2  3     Zaman  PROPN\n",
       "3      3  4         :  PUNCT\n",
       "4      4  5  American    ADJ"
      ]
     },
     "execution_count": 7,
     "metadata": {},
     "output_type": "execute_result"
    }
   ],
   "source": [
    "train_pos.head(5)"
   ]
  },
  {
   "cell_type": "code",
   "execution_count": 8,
   "metadata": {
    "colab": {
     "base_uri": "https://localhost:8080/"
    },
    "id": "27zh47gcY9u3",
    "outputId": "43beae2e-233b-4973-8c2f-513165609ec3"
   },
   "outputs": [
    {
     "data": {
      "text/plain": [
       "UPOS\n",
       "NOUN     4137\n",
       "PUNCT    3096\n",
       "VERB     2605\n",
       "PRON     2161\n",
       "PROPN    2077\n",
       "ADP      2033\n",
       "DET      1897\n",
       "ADJ      1787\n",
       "AUX      1543\n",
       "ADV      1178\n",
       "CCONJ     737\n",
       "PART      649\n",
       "NUM       542\n",
       "SCONJ     384\n",
       "INTJ      120\n",
       "SYM       109\n",
       "X          39\n",
       "Name: count, dtype: int64"
      ]
     },
     "execution_count": 8,
     "metadata": {},
     "output_type": "execute_result"
    }
   ],
   "source": [
    "test_pos.UPOS.value_counts()"
   ]
  },
  {
   "cell_type": "markdown",
   "metadata": {
    "id": "GLEKcSCgAtx2"
   },
   "source": [
    "### BUILD OUR DATASET IN SENTENCES"
   ]
  },
  {
   "cell_type": "code",
   "execution_count": 9,
   "metadata": {
    "colab": {
     "base_uri": "https://localhost:8080/"
    },
    "id": "3rgBqoBD9ipk",
    "outputId": "510fda2c-860f-493d-d065-e24976f7ac3b"
   },
   "outputs": [
    {
     "name": "stderr",
     "output_type": "stream",
     "text": [
      "100%|███████████████████████████████████████████████████████████████████████████████████████████████████████████████████████████████████| 204578/204578 [00:08<00:00, 24618.71it/s]\n"
     ]
    },
    {
     "name": "stdout",
     "output_type": "stream",
     "text": [
      "\n",
      "The total sentences of the training set is: 12544\n"
     ]
    },
    {
     "name": "stderr",
     "output_type": "stream",
     "text": [
      "100%|█████████████████████████████████████████████████████████████████████████████████████████████████████████████████████████████████████| 25149/25149 [00:01<00:00, 24933.76it/s]\n"
     ]
    },
    {
     "name": "stdout",
     "output_type": "stream",
     "text": [
      "\n",
      "The total sentences of the development set is: 2001\n"
     ]
    },
    {
     "name": "stderr",
     "output_type": "stream",
     "text": [
      "100%|█████████████████████████████████████████████████████████████████████████████████████████████████████████████████████████████████████| 25094/25094 [00:01<00:00, 24586.16it/s]"
     ]
    },
    {
     "name": "stdout",
     "output_type": "stream",
     "text": [
      "\n",
      "The total sentences of the test set is: 2077\n"
     ]
    },
    {
     "name": "stderr",
     "output_type": "stream",
     "text": [
      "\n"
     ]
    }
   ],
   "source": [
    "from tqdm import tqdm\n",
    "\n",
    "\n",
    "def make_sentences(dataframe):\n",
    "    \"\"\"\n",
    "    Make sentences from the train, development and test set in order\n",
    "    to create windows for each word\n",
    "    :param dataframe: pandas df\n",
    "    :return: array of sentences\n",
    "    :return: array of position of each word\n",
    "    :return: array of tags for each word\n",
    "    \"\"\"\n",
    "    all_sents = []\n",
    "    all_positions = []\n",
    "    all_tags = []\n",
    "    sentence = []\n",
    "    position = []\n",
    "    pos_tags = []\n",
    "    cnt = 0\n",
    "    with tqdm(total = len(dataframe)) as pbar:\n",
    "        for index, row in dataframe.iterrows():\n",
    "            id = row['id']\n",
    "            token= row['token']\n",
    "            upos = row['UPOS']\n",
    "            if id > cnt:\n",
    "                cnt = id\n",
    "                sentence.append(token)\n",
    "                position.append(index)\n",
    "                pos_tags.append(upos)\n",
    "            else:\n",
    "                all_sents.append(sentence)\n",
    "                all_positions.append(position)\n",
    "                all_tags.append(pos_tags)\n",
    "                sentence = []\n",
    "                sentence.append(token)\n",
    "                position= []\n",
    "                position.append(index)\n",
    "                pos_tags = []\n",
    "                pos_tags.append(upos)\n",
    "                cnt=id\n",
    "            pbar.update(1)  # Update the progress bar\n",
    "        all_sents.append(sentence)\n",
    "        all_positions.append(position)\n",
    "        all_tags.append(pos_tags)\n",
    "\n",
    "    return all_sents, all_positions, all_tags\n",
    "\n",
    "X_train, all_train_positions, y_train = make_sentences(train_pos)\n",
    "print(f'\\nThe total sentences of the training set is: {len(X_train)}')\n",
    "X_dev, all_dev_positions, y_dev = make_sentences(dev_pos)\n",
    "print(f'\\nThe total sentences of the development set is: {len(X_dev)}')\n",
    "X_test, all_test_positions, y_test = make_sentences(test_pos)\n",
    "print(f'\\nThe total sentences of the test set is: {len(X_test)}')"
   ]
  },
  {
   "cell_type": "code",
   "execution_count": 10,
   "metadata": {
    "colab": {
     "base_uri": "https://localhost:8080/"
    },
    "id": "mK1w7ub59uat",
    "outputId": "5ddbf2c0-5ae7-4c79-e42f-026a80da9df1"
   },
   "outputs": [
    {
     "name": "stdout",
     "output_type": "stream",
     "text": [
      "Size of train:  12544\n",
      "Size of dev:  2001\n",
      "Size of test:  2077\n"
     ]
    }
   ],
   "source": [
    "print(\"Size of train: \",len(X_train))\n",
    "print(\"Size of dev: \",len(X_dev))\n",
    "print(\"Size of test: \",len(X_test))"
   ]
  },
  {
   "cell_type": "markdown",
   "metadata": {},
   "source": [
    "### PREPARE OUR DATASET\n",
    "\n",
    "We are going to use keras vectorizer in order to build fixed length dataset for each sentence."
   ]
  },
  {
   "cell_type": "code",
   "execution_count": 11,
   "metadata": {},
   "outputs": [],
   "source": [
    "# Join the words into sentences in order to be added in the vectorizer\n",
    "X_train_final = [' '.join(tokens) for tokens in X_train]\n",
    "X_dev_final = [' '.join(tokens) for tokens in X_dev]\n",
    "X_test_final = [' '.join(tokens) for tokens in X_test]"
   ]
  },
  {
   "cell_type": "code",
   "execution_count": 19,
   "metadata": {},
   "outputs": [],
   "source": [
    "%%capture\n",
    "!pip install -U transformers"
   ]
  },
  {
   "cell_type": "code",
   "execution_count": 12,
   "metadata": {},
   "outputs": [
    {
     "data": {
      "text/plain": [
       "'4.38.2'"
      ]
     },
     "execution_count": 12,
     "metadata": {},
     "output_type": "execute_result"
    }
   ],
   "source": [
    "# Check the version of our package *transformer*\n",
    "import transformers\n",
    "transformers.__version__"
   ]
  },
  {
   "cell_type": "code",
   "execution_count": 13,
   "metadata": {},
   "outputs": [
    {
     "name": "stderr",
     "output_type": "stream",
     "text": [
      "C:\\1. Python\\Transformer_Classifier\\venv\\Lib\\site-packages\\torchtext\\data\\utils.py:105: UserWarning: Spacy model \"en\" could not be loaded, trying \"en_core_web_sm\" instead\n",
      "  warnings.warn(\n"
     ]
    }
   ],
   "source": [
    "# %%capture\n",
    "# !pip install torchtext\n",
    "# !pip install spacy\n",
    "# !python -m spacy download en_core_web_sm\n",
    "#  !pip install torch==2.2.0 torchvision==0.17.0 torchaudio==2.2.0 --index-url https://download.pytorch.org/whl/cu118\n",
    "# !pip install torchmetrics torchtext --index-url https://download.pytorch.org/whl/cu118\n",
    "\n",
    "import torch\n",
    "import spacy\n",
    "from torchtext.data.utils import get_tokenizer\n",
    "from torchtext.vocab import build_vocab_from_iterator\n",
    "from torch.nn.utils.rnn import pad_sequence\n",
    "from collections import Counter\n",
    "\n",
    "\n",
    "MAX_SEQUENCE_LENGTH = 96\n",
    "\n",
    "\n",
    "# Join the y targets into sentences\n",
    "y_train_final = [' '.join(tokens) for tokens in y_train]\n",
    "y_dev_final = [' '.join(tokens) for tokens in y_dev]\n",
    "y_test_final = [' '.join(tokens) for tokens in y_test]\n",
    "\n",
    "\n",
    "# Tokenize text\n",
    "tokenizer = get_tokenizer(\"spacy\")\n",
    "y_train_tokenized = [tokenizer(text) for text in y_train_final]\n",
    "y_dev_tokenized = [tokenizer(text) for text in y_dev_final]\n",
    "y_test_tokenized = [tokenizer(text) for text in y_test_final]\n",
    "\n",
    "# Build vocabulary\n",
    "counter = Counter()\n",
    "for tokens in y_train_tokenized:\n",
    "    counter.update(tokens)\n",
    "vocab = build_vocab_from_iterator([counter], specials=['<pad>'])  # Add padding token to vocabulary\n",
    "vocab.set_default_index(vocab['<pad>'])  # Set default index for padding\n",
    "\n",
    "# Encode text sequences\n",
    "y_train_encoded = [torch.tensor([vocab[token] for token in tokens], dtype=torch.long) for tokens in y_train_tokenized]\n",
    "y_dev_encoded = [torch.tensor([vocab[token] for token in tokens], dtype=torch.long) for tokens in y_dev_tokenized]\n",
    "y_test_encoded = [torch.tensor([vocab[token] for token in tokens], dtype=torch.long) for tokens in y_test_tokenized]\n",
    "\n",
    "# Pad sequences\n",
    "y_train_padded = pad_sequence([torch.cat((seq[:MAX_SEQUENCE_LENGTH], torch.zeros(MAX_SEQUENCE_LENGTH - len(seq), dtype=torch.long))) if len(seq) < MAX_SEQUENCE_LENGTH else seq[:MAX_SEQUENCE_LENGTH] for seq in y_train_encoded], batch_first=True)\n",
    "y_dev_padded = pad_sequence([torch.cat((seq[:MAX_SEQUENCE_LENGTH], torch.zeros(MAX_SEQUENCE_LENGTH - len(seq), dtype=torch.long))) if len(seq) < MAX_SEQUENCE_LENGTH else seq[:MAX_SEQUENCE_LENGTH] for seq in y_dev_encoded], batch_first=True)\n",
    "y_test_padded = pad_sequence([torch.cat((seq[:MAX_SEQUENCE_LENGTH], torch.zeros(MAX_SEQUENCE_LENGTH - len(seq), dtype=torch.long))) if len(seq) < MAX_SEQUENCE_LENGTH else seq[:MAX_SEQUENCE_LENGTH] for seq in y_test_encoded], batch_first=True)"
   ]
  },
  {
   "cell_type": "code",
   "execution_count": 14,
   "metadata": {},
   "outputs": [
    {
     "name": "stdout",
     "output_type": "stream",
     "text": [
      "['PUNCT', 'DET', 'NOUN', 'ADP', 'DET', 'ADJ', 'NOUN', 'AUX', 'AUX', 'VERB', 'PRON', 'NOUN', 'ADP', 'NOUN', 'PART', 'VERB', 'PUNCT', 'PUNCT']\n",
      "tensor([ 2,  6,  1,  5,  6,  7,  1,  8,  8,  3,  4,  1,  5,  1, 12,  3,  2,  2])\n",
      "tensor([ 2,  6,  1,  5,  6,  7,  1,  8,  8,  3,  4,  1,  5,  1, 12,  3,  2,  2,\n",
      "         0,  0,  0,  0,  0,  0,  0,  0,  0,  0,  0,  0,  0,  0,  0,  0,  0,  0,\n",
      "         0,  0,  0,  0,  0,  0,  0,  0,  0,  0,  0,  0,  0,  0,  0,  0,  0,  0,\n",
      "         0,  0,  0,  0,  0,  0,  0,  0,  0,  0,  0,  0,  0,  0,  0,  0,  0,  0,\n",
      "         0,  0,  0,  0,  0,  0,  0,  0,  0,  0,  0,  0,  0,  0,  0,  0,  0,  0,\n",
      "         0,  0,  0,  0,  0,  0])\n"
     ]
    }
   ],
   "source": [
    "print(y_train[1])\n",
    "print(y_train_encoded[1])\n",
    "print(y_train_padded[1])"
   ]
  },
  {
   "cell_type": "code",
   "execution_count": 15,
   "metadata": {},
   "outputs": [
    {
     "data": {
      "text/plain": [
       "array([ 0,  1,  2,  3,  4,  5,  6,  7,  8,  9, 10, 11, 12, 13, 14, 15, 16,\n",
       "       17], dtype=int64)"
      ]
     },
     "execution_count": 15,
     "metadata": {},
     "output_type": "execute_result"
    }
   ],
   "source": [
    "# Check the unique values\n",
    "np.unique(y_train_padded)"
   ]
  },
  {
   "cell_type": "markdown",
   "metadata": {},
   "source": [
    "### Tokenize the dataset via pretrained Transformer model"
   ]
  },
  {
   "cell_type": "code",
   "execution_count": 16,
   "metadata": {},
   "outputs": [
    {
     "data": {
      "text/plain": [
       "{'input_ids': tensor([[ 101,  100, 1011,  ...,    0,    0,    0],\n",
       "        [ 101, 1031,  100,  ...,    0,    0,    0],\n",
       "        [ 101,  100, 1024,  ...,    0,    0,    0],\n",
       "        ...,\n",
       "        [ 101,  100, 2027,  ...,    0,    0,    0],\n",
       "        [ 101,  100, 5126,  ...,    0,    0,    0],\n",
       "        [ 101,  100, 2097,  ...,    0,    0,    0]]), 'token_type_ids': tensor([[0, 0, 0,  ..., 0, 0, 0],\n",
       "        [0, 0, 0,  ..., 0, 0, 0],\n",
       "        [0, 0, 0,  ..., 0, 0, 0],\n",
       "        ...,\n",
       "        [0, 0, 0,  ..., 0, 0, 0],\n",
       "        [0, 0, 0,  ..., 0, 0, 0],\n",
       "        [0, 0, 0,  ..., 0, 0, 0]]), 'attention_mask': tensor([[1, 1, 1,  ..., 0, 0, 0],\n",
       "        [1, 1, 1,  ..., 0, 0, 0],\n",
       "        [1, 1, 1,  ..., 0, 0, 0],\n",
       "        ...,\n",
       "        [1, 1, 1,  ..., 0, 0, 0],\n",
       "        [1, 1, 1,  ..., 0, 0, 0],\n",
       "        [1, 1, 1,  ..., 0, 0, 0]])}"
      ]
     },
     "execution_count": 16,
     "metadata": {},
     "output_type": "execute_result"
    }
   ],
   "source": [
    "from transformers import BertTokenizer\n",
    "\n",
    "# Instantiate the BERT tokenizer with WordPiece tokenization\n",
    "bert_tokenizer = BertTokenizer.from_pretrained('bert-base-uncased', do_basic_tokenize=False)\n",
    "\n",
    "# Function for the tokenization\n",
    "def tokenize_text(data, tokenizer, max_length=MAX_SEQUENCE_LENGTH):\n",
    "    return tokenizer(data, padding='max_length',\n",
    "                     max_length=max_length, truncation=True, return_tensors='pt')\n",
    "\n",
    "bert_train = tokenize_text(X_train_final, bert_tokenizer)\n",
    "bert_val = tokenize_text(X_dev_final, bert_tokenizer)\n",
    "bert_test = tokenize_text(X_test_final, bert_tokenizer)\n",
    "\n",
    "\n",
    "bert_train"
   ]
  },
  {
   "cell_type": "code",
   "execution_count": 17,
   "metadata": {},
   "outputs": [
    {
     "name": "stderr",
     "output_type": "stream",
     "text": [
      "Some weights of BertForTokenClassification were not initialized from the model checkpoint at bert-base-uncased and are newly initialized: ['classifier.bias', 'classifier.weight']\n",
      "You should probably TRAIN this model on a down-stream task to be able to use it for predictions and inference.\n"
     ]
    }
   ],
   "source": [
    "import torch\n",
    "from transformers import BertForTokenClassification, BertTokenizer, BertConfig\n",
    "\n",
    "# Load BERT model and tokenizer\n",
    "model_name = 'bert-base-uncased'\n",
    "bert_model = BertForTokenClassification.from_pretrained(model_name, num_labels=18)\n",
    "# Print the model architecture\n",
    "# print(bert_model)"
   ]
  },
  {
   "cell_type": "markdown",
   "metadata": {},
   "source": [
    "### RUN THE MODEL IN GPU"
   ]
  },
  {
   "cell_type": "code",
   "execution_count": 18,
   "metadata": {},
   "outputs": [
    {
     "name": "stdout",
     "output_type": "stream",
     "text": [
      "CUDA is available. Running on GPU.\n",
      "2.2.0+cu118\n"
     ]
    }
   ],
   "source": [
    "# Check if CUDA is available\n",
    "if torch.cuda.is_available():\n",
    "    device = torch.device('cuda')\n",
    "    print(\"CUDA is available. Running on GPU.\")\n",
    "\n",
    "# Put the model on GPU\n",
    "bert_model = bert_model.to(device)  # Move the model to the specified device\n",
    "print(torch.__version__)"
   ]
  },
  {
   "cell_type": "markdown",
   "metadata": {},
   "source": [
    "### PREPARE OUR DATASET VIA PYTORCH"
   ]
  },
  {
   "cell_type": "code",
   "execution_count": 19,
   "metadata": {},
   "outputs": [],
   "source": [
    "%%capture\n",
    "#!pip install torchmetrics\n",
    "import torch\n",
    "from torch.nn import CrossEntropyLoss\n",
    "from torch.optim import Adam\n",
    "from torchmetrics import Accuracy\n",
    "from torch.utils.data import DataLoader, TensorDataset"
   ]
  },
  {
   "cell_type": "code",
   "execution_count": 21,
   "metadata": {},
   "outputs": [],
   "source": [
    "# Define batch size\n",
    "batch_size = 16\n",
    "\n",
    "# Create TensorDatasets\n",
    "train_dataset = TensorDataset(bert_train['input_ids'], bert_train['attention_mask'], y_train_padded)\n",
    "val_dataset = TensorDataset(bert_val['input_ids'], bert_val['attention_mask'], y_dev_padded)\n",
    "test_dataset = TensorDataset(bert_test['input_ids'], bert_test['attention_mask'], y_test_padded)\n",
    "\n",
    "# Create DataLoader\n",
    "train_loader = DataLoader(train_dataset, batch_size=batch_size, shuffle=True)\n",
    "val_loader = DataLoader(val_dataset, batch_size=batch_size)\n",
    "test_loader = DataLoader(test_dataset, batch_size=batch_size)"
   ]
  },
  {
   "cell_type": "markdown",
   "metadata": {},
   "source": [
    "### FREEZE THE BERT PARAMETERS AND UNFREEZE THE CLASSIFICATION HEAD"
   ]
  },
  {
   "cell_type": "code",
   "execution_count": 23,
   "metadata": {},
   "outputs": [
    {
     "name": "stdout",
     "output_type": "stream",
     "text": [
      "classifier.weight\n",
      "classifier.bias\n"
     ]
    }
   ],
   "source": [
    "# Unfreeze the classification head and 3 last layers of BERT\n",
    "trainable_parameters = ['classifier']\n",
    "for name, param in bert_model.named_parameters():\n",
    "    param.requires_grad = any(name.startswith(prefix) for prefix in trainable_parameters)\n",
    "\n",
    "# Print the names of trainable parameters\n",
    "for name, param in bert_model.named_parameters():\n",
    "    if param.requires_grad:\n",
    "        print(name)"
   ]
  },
  {
   "cell_type": "code",
   "execution_count": 24,
   "metadata": {},
   "outputs": [
    {
     "name": "stdout",
     "output_type": "stream",
     "text": [
      "bert.embeddings.word_embeddings.weight\n",
      "bert.embeddings.position_embeddings.weight\n",
      "bert.embeddings.token_type_embeddings.weight\n",
      "bert.embeddings.LayerNorm.weight\n",
      "bert.embeddings.LayerNorm.bias\n",
      "bert.encoder.layer.0.attention.self.query.weight\n",
      "bert.encoder.layer.0.attention.self.query.bias\n",
      "bert.encoder.layer.0.attention.self.key.weight\n",
      "bert.encoder.layer.0.attention.self.key.bias\n",
      "bert.encoder.layer.0.attention.self.value.weight\n",
      "bert.encoder.layer.0.attention.self.value.bias\n",
      "bert.encoder.layer.0.attention.output.dense.weight\n",
      "bert.encoder.layer.0.attention.output.dense.bias\n",
      "bert.encoder.layer.0.attention.output.LayerNorm.weight\n",
      "bert.encoder.layer.0.attention.output.LayerNorm.bias\n",
      "bert.encoder.layer.0.intermediate.dense.weight\n",
      "bert.encoder.layer.0.intermediate.dense.bias\n",
      "bert.encoder.layer.0.output.dense.weight\n",
      "bert.encoder.layer.0.output.dense.bias\n",
      "bert.encoder.layer.0.output.LayerNorm.weight\n",
      "bert.encoder.layer.0.output.LayerNorm.bias\n",
      "bert.encoder.layer.1.attention.self.query.weight\n",
      "bert.encoder.layer.1.attention.self.query.bias\n",
      "bert.encoder.layer.1.attention.self.key.weight\n",
      "bert.encoder.layer.1.attention.self.key.bias\n",
      "bert.encoder.layer.1.attention.self.value.weight\n",
      "bert.encoder.layer.1.attention.self.value.bias\n",
      "bert.encoder.layer.1.attention.output.dense.weight\n",
      "bert.encoder.layer.1.attention.output.dense.bias\n",
      "bert.encoder.layer.1.attention.output.LayerNorm.weight\n",
      "bert.encoder.layer.1.attention.output.LayerNorm.bias\n",
      "bert.encoder.layer.1.intermediate.dense.weight\n",
      "bert.encoder.layer.1.intermediate.dense.bias\n",
      "bert.encoder.layer.1.output.dense.weight\n",
      "bert.encoder.layer.1.output.dense.bias\n",
      "bert.encoder.layer.1.output.LayerNorm.weight\n",
      "bert.encoder.layer.1.output.LayerNorm.bias\n",
      "bert.encoder.layer.2.attention.self.query.weight\n",
      "bert.encoder.layer.2.attention.self.query.bias\n",
      "bert.encoder.layer.2.attention.self.key.weight\n",
      "bert.encoder.layer.2.attention.self.key.bias\n",
      "bert.encoder.layer.2.attention.self.value.weight\n",
      "bert.encoder.layer.2.attention.self.value.bias\n",
      "bert.encoder.layer.2.attention.output.dense.weight\n",
      "bert.encoder.layer.2.attention.output.dense.bias\n",
      "bert.encoder.layer.2.attention.output.LayerNorm.weight\n",
      "bert.encoder.layer.2.attention.output.LayerNorm.bias\n",
      "bert.encoder.layer.2.intermediate.dense.weight\n",
      "bert.encoder.layer.2.intermediate.dense.bias\n",
      "bert.encoder.layer.2.output.dense.weight\n",
      "bert.encoder.layer.2.output.dense.bias\n",
      "bert.encoder.layer.2.output.LayerNorm.weight\n",
      "bert.encoder.layer.2.output.LayerNorm.bias\n",
      "bert.encoder.layer.3.attention.self.query.weight\n",
      "bert.encoder.layer.3.attention.self.query.bias\n",
      "bert.encoder.layer.3.attention.self.key.weight\n",
      "bert.encoder.layer.3.attention.self.key.bias\n",
      "bert.encoder.layer.3.attention.self.value.weight\n",
      "bert.encoder.layer.3.attention.self.value.bias\n",
      "bert.encoder.layer.3.attention.output.dense.weight\n",
      "bert.encoder.layer.3.attention.output.dense.bias\n",
      "bert.encoder.layer.3.attention.output.LayerNorm.weight\n",
      "bert.encoder.layer.3.attention.output.LayerNorm.bias\n",
      "bert.encoder.layer.3.intermediate.dense.weight\n",
      "bert.encoder.layer.3.intermediate.dense.bias\n",
      "bert.encoder.layer.3.output.dense.weight\n",
      "bert.encoder.layer.3.output.dense.bias\n",
      "bert.encoder.layer.3.output.LayerNorm.weight\n",
      "bert.encoder.layer.3.output.LayerNorm.bias\n",
      "bert.encoder.layer.4.attention.self.query.weight\n",
      "bert.encoder.layer.4.attention.self.query.bias\n",
      "bert.encoder.layer.4.attention.self.key.weight\n",
      "bert.encoder.layer.4.attention.self.key.bias\n",
      "bert.encoder.layer.4.attention.self.value.weight\n",
      "bert.encoder.layer.4.attention.self.value.bias\n",
      "bert.encoder.layer.4.attention.output.dense.weight\n",
      "bert.encoder.layer.4.attention.output.dense.bias\n",
      "bert.encoder.layer.4.attention.output.LayerNorm.weight\n",
      "bert.encoder.layer.4.attention.output.LayerNorm.bias\n",
      "bert.encoder.layer.4.intermediate.dense.weight\n",
      "bert.encoder.layer.4.intermediate.dense.bias\n",
      "bert.encoder.layer.4.output.dense.weight\n",
      "bert.encoder.layer.4.output.dense.bias\n",
      "bert.encoder.layer.4.output.LayerNorm.weight\n",
      "bert.encoder.layer.4.output.LayerNorm.bias\n",
      "bert.encoder.layer.5.attention.self.query.weight\n",
      "bert.encoder.layer.5.attention.self.query.bias\n",
      "bert.encoder.layer.5.attention.self.key.weight\n",
      "bert.encoder.layer.5.attention.self.key.bias\n",
      "bert.encoder.layer.5.attention.self.value.weight\n",
      "bert.encoder.layer.5.attention.self.value.bias\n",
      "bert.encoder.layer.5.attention.output.dense.weight\n",
      "bert.encoder.layer.5.attention.output.dense.bias\n",
      "bert.encoder.layer.5.attention.output.LayerNorm.weight\n",
      "bert.encoder.layer.5.attention.output.LayerNorm.bias\n",
      "bert.encoder.layer.5.intermediate.dense.weight\n",
      "bert.encoder.layer.5.intermediate.dense.bias\n",
      "bert.encoder.layer.5.output.dense.weight\n",
      "bert.encoder.layer.5.output.dense.bias\n",
      "bert.encoder.layer.5.output.LayerNorm.weight\n",
      "bert.encoder.layer.5.output.LayerNorm.bias\n",
      "bert.encoder.layer.6.attention.self.query.weight\n",
      "bert.encoder.layer.6.attention.self.query.bias\n",
      "bert.encoder.layer.6.attention.self.key.weight\n",
      "bert.encoder.layer.6.attention.self.key.bias\n",
      "bert.encoder.layer.6.attention.self.value.weight\n",
      "bert.encoder.layer.6.attention.self.value.bias\n",
      "bert.encoder.layer.6.attention.output.dense.weight\n",
      "bert.encoder.layer.6.attention.output.dense.bias\n",
      "bert.encoder.layer.6.attention.output.LayerNorm.weight\n",
      "bert.encoder.layer.6.attention.output.LayerNorm.bias\n",
      "bert.encoder.layer.6.intermediate.dense.weight\n",
      "bert.encoder.layer.6.intermediate.dense.bias\n",
      "bert.encoder.layer.6.output.dense.weight\n",
      "bert.encoder.layer.6.output.dense.bias\n",
      "bert.encoder.layer.6.output.LayerNorm.weight\n",
      "bert.encoder.layer.6.output.LayerNorm.bias\n",
      "bert.encoder.layer.7.attention.self.query.weight\n",
      "bert.encoder.layer.7.attention.self.query.bias\n",
      "bert.encoder.layer.7.attention.self.key.weight\n",
      "bert.encoder.layer.7.attention.self.key.bias\n",
      "bert.encoder.layer.7.attention.self.value.weight\n",
      "bert.encoder.layer.7.attention.self.value.bias\n",
      "bert.encoder.layer.7.attention.output.dense.weight\n",
      "bert.encoder.layer.7.attention.output.dense.bias\n",
      "bert.encoder.layer.7.attention.output.LayerNorm.weight\n",
      "bert.encoder.layer.7.attention.output.LayerNorm.bias\n",
      "bert.encoder.layer.7.intermediate.dense.weight\n",
      "bert.encoder.layer.7.intermediate.dense.bias\n",
      "bert.encoder.layer.7.output.dense.weight\n",
      "bert.encoder.layer.7.output.dense.bias\n",
      "bert.encoder.layer.7.output.LayerNorm.weight\n",
      "bert.encoder.layer.7.output.LayerNorm.bias\n",
      "bert.encoder.layer.8.attention.self.query.weight\n",
      "bert.encoder.layer.8.attention.self.query.bias\n",
      "bert.encoder.layer.8.attention.self.key.weight\n",
      "bert.encoder.layer.8.attention.self.key.bias\n",
      "bert.encoder.layer.8.attention.self.value.weight\n",
      "bert.encoder.layer.8.attention.self.value.bias\n",
      "bert.encoder.layer.8.attention.output.dense.weight\n",
      "bert.encoder.layer.8.attention.output.dense.bias\n",
      "bert.encoder.layer.8.attention.output.LayerNorm.weight\n",
      "bert.encoder.layer.8.attention.output.LayerNorm.bias\n",
      "bert.encoder.layer.8.intermediate.dense.weight\n",
      "bert.encoder.layer.8.intermediate.dense.bias\n",
      "bert.encoder.layer.8.output.dense.weight\n",
      "bert.encoder.layer.8.output.dense.bias\n",
      "bert.encoder.layer.8.output.LayerNorm.weight\n",
      "bert.encoder.layer.8.output.LayerNorm.bias\n",
      "bert.encoder.layer.9.attention.self.query.weight\n",
      "bert.encoder.layer.9.attention.self.query.bias\n",
      "bert.encoder.layer.9.attention.self.key.weight\n",
      "bert.encoder.layer.9.attention.self.key.bias\n",
      "bert.encoder.layer.9.attention.self.value.weight\n",
      "bert.encoder.layer.9.attention.self.value.bias\n",
      "bert.encoder.layer.9.attention.output.dense.weight\n",
      "bert.encoder.layer.9.attention.output.dense.bias\n",
      "bert.encoder.layer.9.attention.output.LayerNorm.weight\n",
      "bert.encoder.layer.9.attention.output.LayerNorm.bias\n",
      "bert.encoder.layer.9.intermediate.dense.weight\n",
      "bert.encoder.layer.9.intermediate.dense.bias\n",
      "bert.encoder.layer.9.output.dense.weight\n",
      "bert.encoder.layer.9.output.dense.bias\n",
      "bert.encoder.layer.9.output.LayerNorm.weight\n",
      "bert.encoder.layer.9.output.LayerNorm.bias\n",
      "bert.encoder.layer.10.attention.self.query.weight\n",
      "bert.encoder.layer.10.attention.self.query.bias\n",
      "bert.encoder.layer.10.attention.self.key.weight\n",
      "bert.encoder.layer.10.attention.self.key.bias\n",
      "bert.encoder.layer.10.attention.self.value.weight\n",
      "bert.encoder.layer.10.attention.self.value.bias\n",
      "bert.encoder.layer.10.attention.output.dense.weight\n",
      "bert.encoder.layer.10.attention.output.dense.bias\n",
      "bert.encoder.layer.10.attention.output.LayerNorm.weight\n",
      "bert.encoder.layer.10.attention.output.LayerNorm.bias\n",
      "bert.encoder.layer.10.intermediate.dense.weight\n",
      "bert.encoder.layer.10.intermediate.dense.bias\n",
      "bert.encoder.layer.10.output.dense.weight\n",
      "bert.encoder.layer.10.output.dense.bias\n",
      "bert.encoder.layer.10.output.LayerNorm.weight\n",
      "bert.encoder.layer.10.output.LayerNorm.bias\n",
      "bert.encoder.layer.11.attention.self.query.weight\n",
      "bert.encoder.layer.11.attention.self.query.bias\n",
      "bert.encoder.layer.11.attention.self.key.weight\n",
      "bert.encoder.layer.11.attention.self.key.bias\n",
      "bert.encoder.layer.11.attention.self.value.weight\n",
      "bert.encoder.layer.11.attention.self.value.bias\n",
      "bert.encoder.layer.11.attention.output.dense.weight\n",
      "bert.encoder.layer.11.attention.output.dense.bias\n",
      "bert.encoder.layer.11.attention.output.LayerNorm.weight\n",
      "bert.encoder.layer.11.attention.output.LayerNorm.bias\n",
      "bert.encoder.layer.11.intermediate.dense.weight\n",
      "bert.encoder.layer.11.intermediate.dense.bias\n",
      "bert.encoder.layer.11.output.dense.weight\n",
      "bert.encoder.layer.11.output.dense.bias\n",
      "bert.encoder.layer.11.output.LayerNorm.weight\n",
      "bert.encoder.layer.11.output.LayerNorm.bias\n",
      "classifier.weight\n",
      "classifier.bias\n"
     ]
    }
   ],
   "source": [
    "# Freeze BERT model parameters\n",
    "for param in bert_model.parameters():\n",
    "    param.requires_grad = True\n",
    "\n",
    "# Unfreeze the parameters of the classification head\n",
    "for param in bert_model.classifier.parameters():\n",
    "    param.requires_grad = True\n",
    "\n",
    "# Print the names of trainable parameters\n",
    "for name, param in bert_model.named_parameters():\n",
    "    if param.requires_grad:\n",
    "        print(name)"
   ]
  },
  {
   "cell_type": "code",
   "execution_count": 25,
   "metadata": {},
   "outputs": [
    {
     "name": "stdout",
     "output_type": "stream",
     "text": [
      "Number of trainable parameters: 108905490\n"
     ]
    }
   ],
   "source": [
    "def count_parameters(model):\n",
    "    return sum(p.numel() for p in model.parameters() if p.requires_grad)\n",
    "\n",
    "# Print the number of trainable parameters\n",
    "print(\"Number of trainable parameters:\", count_parameters(bert_model))"
   ]
  },
  {
   "cell_type": "code",
   "execution_count": 26,
   "metadata": {},
   "outputs": [],
   "source": [
    "def accuracy_metric(preds, labels):\n",
    "    # Create a mask to filter out padding tokens (assuming padding token is 0)\n",
    "    mask = (labels != 0)\n",
    "    \n",
    "    # Count total non-padding tokens\n",
    "    total_tokens = mask.sum()\n",
    "    \n",
    "    # Compare only non-padding tokens for accuracy\n",
    "    correct = (preds[mask] == labels[mask]).sum().float()\n",
    "    \n",
    "    # Calculate accuracy\n",
    "    accuracy = correct / total_tokens\n",
    "    return accuracy"
   ]
  },
  {
   "cell_type": "code",
   "execution_count": 27,
   "metadata": {},
   "outputs": [
    {
     "name": "stdout",
     "output_type": "stream",
     "text": [
      "Epoch 1/15:784\": Training - Loss: 0.188, Accuracy: 0.684\n",
      "Training - Loss: 0.188, Accuracy: 0.684\n",
      "val_loss improved from inf to 0.071422, saving model to /content/checkpoints/best_model.pth\n",
      "Validation - Loss: 0.071, Accuracy: 0.836\n",
      "Epoch 2/15:784\": Training - Loss: 0.077, Accuracy: 0.856\n",
      "Training - Loss: 0.077, Accuracy: 0.856\n",
      "val_loss improved from 0.071422 to 0.052031, saving model to /content/checkpoints/best_model.pth\n",
      "Validation - Loss: 0.052, Accuracy: 0.876\n",
      "Epoch 3/15:784\": Training - Loss: 0.058, Accuracy: 0.890\n",
      "Training - Loss: 0.058, Accuracy: 0.890\n",
      "val_loss did not improved from 0.052031\n",
      "Validation - Loss: 0.054, Accuracy: 0.877\n",
      "For batch \"45\": Training - Loss: 0.047, Accuracy: 0.907\r"
     ]
    },
    {
     "ename": "KeyboardInterrupt",
     "evalue": "",
     "output_type": "error",
     "traceback": [
      "\u001b[1;31m---------------------------------------------------------------------------\u001b[0m",
      "\u001b[1;31mKeyboardInterrupt\u001b[0m                         Traceback (most recent call last)",
      "Cell \u001b[1;32mIn[27], line 36\u001b[0m\n\u001b[0;32m     34\u001b[0m loss\u001b[38;5;241m.\u001b[39mbackward()\n\u001b[0;32m     35\u001b[0m optimizer\u001b[38;5;241m.\u001b[39mstep()\n\u001b[1;32m---> 36\u001b[0m total_loss \u001b[38;5;241m+\u001b[39m\u001b[38;5;241m=\u001b[39m \u001b[43mloss\u001b[49m\u001b[38;5;241;43m.\u001b[39;49m\u001b[43mitem\u001b[49m\u001b[43m(\u001b[49m\u001b[43m)\u001b[49m\n\u001b[0;32m     37\u001b[0m total_accuracy \u001b[38;5;241m+\u001b[39m\u001b[38;5;241m=\u001b[39m accuracy_metric(outputs\u001b[38;5;241m.\u001b[39mlogits\u001b[38;5;241m.\u001b[39margmax(dim\u001b[38;5;241m=\u001b[39m\u001b[38;5;241m-\u001b[39m\u001b[38;5;241m1\u001b[39m), labels)\n\u001b[0;32m     38\u001b[0m \u001b[38;5;28mprint\u001b[39m(\u001b[38;5;124mf\u001b[39m\u001b[38;5;124m'\u001b[39m\u001b[38;5;124mFor batch \u001b[39m\u001b[38;5;124m\"\u001b[39m\u001b[38;5;132;01m{\u001b[39;00mcnt\u001b[38;5;132;01m}\u001b[39;00m\u001b[38;5;124m\"\u001b[39m\u001b[38;5;124m: Training - Loss: \u001b[39m\u001b[38;5;132;01m{\u001b[39;00mtotal_loss\u001b[38;5;241m/\u001b[39mcnt\u001b[38;5;132;01m:\u001b[39;00m\u001b[38;5;124m.3f\u001b[39m\u001b[38;5;132;01m}\u001b[39;00m\u001b[38;5;124m, Accuracy: \u001b[39m\u001b[38;5;132;01m{\u001b[39;00mtotal_accuracy\u001b[38;5;241m/\u001b[39mcnt\u001b[38;5;132;01m:\u001b[39;00m\u001b[38;5;124m.3f\u001b[39m\u001b[38;5;132;01m}\u001b[39;00m\u001b[38;5;124m'\u001b[39m, end\u001b[38;5;241m=\u001b[39m\u001b[38;5;124m'\u001b[39m\u001b[38;5;130;01m\\r\u001b[39;00m\u001b[38;5;124m'\u001b[39m)\n",
      "\u001b[1;31mKeyboardInterrupt\u001b[0m: "
     ]
    }
   ],
   "source": [
    "# Define the number of epochs\n",
    "num_epochs = 15\n",
    "\n",
    "# Prepare optimizer and loss function\n",
    "optimizer = Adam(bert_model.parameters(), lr=5e-5)\n",
    "loss_function = CrossEntropyLoss()\n",
    "# accuracy_metric = Accuracy(task=\"multiclass\", num_classes=18).to(device)\n",
    "\n",
    "\n",
    "# Initialize lists to store history\n",
    "train_losses = []\n",
    "train_accuracies = []\n",
    "val_losses = []\n",
    "val_accuracies = []\n",
    "\n",
    "# Initialize variables to track best validation loss and corresponding model weights\n",
    "best_val_loss = float('inf')\n",
    "best_model_weights = None\n",
    "\n",
    "# Training loop\n",
    "for epoch in range(num_epochs):\n",
    "    # Training\n",
    "    bert_model.train()\n",
    "    total_loss = 0\n",
    "    total_accuracy = 0\n",
    "    cnt=0\n",
    "    for batch in train_loader:\n",
    "        cnt+=1\n",
    "        input_ids, attention_mask, labels = batch\n",
    "        input_ids, attention_mask, labels = input_ids.to(device), attention_mask.to(device), labels.to(device)  # Move the tensors to the specified device\n",
    "        optimizer.zero_grad()\n",
    "        outputs = bert_model(input_ids=input_ids, attention_mask=attention_mask, labels=labels)\n",
    "        loss = outputs.loss\n",
    "        loss.backward()\n",
    "        optimizer.step()\n",
    "        total_loss += loss.item()\n",
    "        total_accuracy += accuracy_metric(outputs.logits.argmax(dim=-1), labels)\n",
    "        print(f'For batch \"{cnt}\": Training - Loss: {total_loss/cnt:.3f}, Accuracy: {total_accuracy/cnt:.3f}', end='\\r')\n",
    "\n",
    "    \n",
    "    avg_train_loss = total_loss / len(train_loader)\n",
    "    avg_train_accuracy = total_accuracy / len(train_loader)\n",
    "    train_losses.append(avg_train_loss)\n",
    "    train_accuracies.append(avg_train_accuracy)\n",
    "    print(f'Epoch {epoch+1}/{num_epochs}:')\n",
    "    print(f'Training - Loss: {avg_train_loss:.3f}, Accuracy: {avg_train_accuracy:.3f}')\n",
    "\n",
    "    # Validation\n",
    "    bert_model.eval()\n",
    "    total_val_loss = 0\n",
    "    total_val_accuracy = 0\n",
    "    for batch in val_loader:\n",
    "        input_ids, attention_mask, labels = batch\n",
    "        input_ids, attention_mask, labels = input_ids.to(device), attention_mask.to(device), labels.to(device)  # Move the tensors to the specified device\n",
    "        with torch.no_grad():\n",
    "            outputs = bert_model(input_ids=input_ids, attention_mask=attention_mask, labels=labels)\n",
    "            \n",
    "        val_loss = outputs.loss\n",
    "        total_val_loss += val_loss.item()\n",
    "        total_val_accuracy += accuracy_metric(outputs.logits.argmax(dim=-1), labels)\n",
    "    avg_val_loss = total_val_loss / len(val_loader)\n",
    "    avg_val_accuracy = total_val_accuracy / len(val_loader)\n",
    "    \n",
    "    # Check if the current validation loss is better than the best one so far\n",
    "    if avg_val_loss < best_val_loss:\n",
    "        # Update best validation loss and store model weights\n",
    "        print(f'val_loss improved from {best_val_loss:.6f} to {avg_val_loss:.6f}, saving model to /content/checkpoints/best_model.pth')\n",
    "        best_val_loss = avg_val_loss\n",
    "        best_model_weights = bert_model.state_dict()\n",
    "        torch.save(best_model_weights, '/content/checkpoints/best_model.pth')  # Save the model checkpoint\n",
    "    else:\n",
    "        print(f'val_loss did not improved from {best_val_loss:.6f}')\n",
    "    val_losses.append(avg_val_loss)\n",
    "    val_accuracies.append(avg_val_accuracy)\n",
    "    print(f'Validation - Loss: {avg_val_loss:.3f}, Accuracy: {avg_val_accuracy:.3f}')"
   ]
  },
  {
   "cell_type": "code",
   "execution_count": 29,
   "metadata": {},
   "outputs": [
    {
     "data": {
      "text/plain": [
       "<All keys matched successfully>"
      ]
     },
     "execution_count": 29,
     "metadata": {},
     "output_type": "execute_result"
    }
   ],
   "source": [
    "# Load the best model parameters\n",
    "best_model_weights = torch.load('/content/checkpoints/best_model.pth')\n",
    "# Load the best model weights\n",
    "bert_model.load_state_dict(best_model_weights)"
   ]
  },
  {
   "cell_type": "markdown",
   "metadata": {},
   "source": [
    "## TRAINING CURVES FOR OUR TRANSFORMER"
   ]
  },
  {
   "cell_type": "code",
   "execution_count": 151,
   "metadata": {},
   "outputs": [],
   "source": [
    "%%capture\n",
    "!pip install matplotlib\n",
    "\n",
    "import matplotlib.pyplot as plt\n",
    "\n",
    "def plot_history(train_losses, train_accuracies, val_losses, val_accuracies):\n",
    "    \"\"\"\n",
    "    Plot the history of epochs for loss and accuracy\n",
    "    :param train_losses: List of training losses for each epoch\n",
    "    :param train_accuracies: List of training accuracies for each epoch\n",
    "    :param val_losses: List of validation losses for each epoch\n",
    "    :param val_accuracies: List of validation accuracies for each epoch\n",
    "    :return: None\n",
    "    \"\"\"\n",
    "    epochs = range(1, len(train_losses) + 1)\n",
    "\n",
    "    # Plot training and validation losses\n",
    "    plt.plot(epochs, train_losses, 'b', label='Training loss')\n",
    "    plt.plot(epochs, val_losses, 'r', label='Validation loss')\n",
    "    plt.title('Training and Validation Loss')\n",
    "    plt.xlabel('Epochs')\n",
    "    plt.ylabel('Loss')\n",
    "    plt.legend()\n",
    "    plt.show()\n",
    "\n",
    "    # Plot training and validation accuracies\n",
    "    plt.plot(epochs, train_accuracies, 'b', label='Training accuracy')\n",
    "    plt.plot(epochs, val_accuracies, 'r', label='Validation accuracy')\n",
    "    plt.title('Training and Validation Accuracy')\n",
    "    plt.xlabel('Epochs')\n",
    "    plt.ylabel('Accuracy')\n",
    "    plt.legend()\n",
    "    plt.show()\n"
   ]
  },
  {
   "cell_type": "code",
   "execution_count": 152,
   "metadata": {},
   "outputs": [
    {
     "data": {
      "image/png": "[encoded data removed]",
      "text/plain": [
       "<Figure size 640x480 with 1 Axes>"
      ]
     },
     "metadata": {},
     "output_type": "display_data"
    },
    {
     "data": {
      "image/png": "[encoded data removed]",
      "text/plain": [
       "<Figure size 640x480 with 1 Axes>"
      ]
     },
     "metadata": {},
     "output_type": "display_data"
    }
   ],
   "source": [
    "train_losses = np.array(train_losses).flatten()\n",
    "train_accuracies = np.array([acc.item() for acc in train_accuracies])\n",
    "val_losses = np.array(val_losses).flatten()\n",
    "val_accuracies = np.array([acc.item() for acc in val_accuracies])\n",
    "\n",
    "plot_history(train_losses, train_accuracies, val_losses, val_accuracies)"
   ]
  },
  {
   "cell_type": "markdown",
   "metadata": {},
   "source": [
    "### PREDICT ON THE TEST SET"
   ]
  },
  {
   "cell_type": "code",
   "execution_count": 30,
   "metadata": {},
   "outputs": [
    {
     "name": "stdout",
     "output_type": "stream",
     "text": [
      "Test Accuracy: 0.8655315041542053\n"
     ]
    }
   ],
   "source": [
    "# Test\n",
    "bert_model.eval()\n",
    "total_test_accuracy = 0\n",
    "for batch in test_loader:\n",
    "    input_ids, attention_mask, labels = batch\n",
    "    input_ids, attention_mask, labels = input_ids.to(device), attention_mask.to(device), labels.to(device)  # Move the tensors to the specified device\n",
    "    with torch.no_grad():\n",
    "        outputs = bert_model(input_ids=input_ids, attention_mask=attention_mask, labels=labels)\n",
    "    total_test_accuracy += accuracy_metric(outputs.logits.argmax(dim=-1), labels)\n",
    "avg_test_accuracy = total_test_accuracy / len(test_loader)\n",
    "print(f'Test Accuracy: {avg_test_accuracy}')"
   ]
  },
  {
   "cell_type": "markdown",
   "metadata": {},
   "source": [
    "### DISPLAY THE CLASSIFICATION REPORT"
   ]
  },
  {
   "cell_type": "code",
   "execution_count": 31,
   "metadata": {},
   "outputs": [],
   "source": [
    "%%capture\n",
    "# !pip install skikit-learn\n",
    "from sklearn.metrics import classification_report\n",
    "\n",
    "# Evaluation on test data\n",
    "bert_model.eval()\n",
    "predictions_test = []\n",
    "true_labels_test = []\n",
    "\n",
    "for batch in test_loader:\n",
    "    input_ids, attention_mask, labels = batch\n",
    "    input_ids, attention_mask, labels = input_ids.to(device), attention_mask.to(device), labels.to(device)\n",
    "    \n",
    "    with torch.no_grad():\n",
    "        outputs = bert_model(input_ids=input_ids, attention_mask=attention_mask)\n",
    "\n",
    "    # Filter out predictions and labels for padding tokens (assuming padding token is 0)\n",
    "    predictions_test.extend(outputs.logits.argmax(dim=-1).cpu().tolist())\n",
    "    true_labels_test.extend(labels.cpu().tolist())\n",
    "\n",
    "# # Convert labels and predictions to numpy arrays\n",
    "true_labels_test = np.array(true_labels_test)\n",
    "predictions_test = np.array(predictions_test)"
   ]
  },
  {
   "cell_type": "code",
   "execution_count": 33,
   "metadata": {},
   "outputs": [
    {
     "name": "stdout",
     "output_type": "stream",
     "text": [
      "['PROPN' 'PUNCT' 'ADJ' 'NOUN' 'VERB' 'DET' 'ADP' 'AUX' 'PRON' 'PART'\n",
      " 'SCONJ' 'NUM' 'ADV' 'CCONJ' 'INTJ' 'X' 'SYM']\n"
     ]
    }
   ],
   "source": [
    "# In order to load the model from the weights file, we need the architecture\n",
    "class_labels = train_pos.UPOS.unique()\n",
    "\n",
    "print(class_labels)"
   ]
  },
  {
   "cell_type": "code",
   "execution_count": 36,
   "metadata": {},
   "outputs": [],
   "source": [
    "from sklearn.metrics import classification_report, precision_recall_curve, auc\n",
    "\n",
    "def classification_reports(predictions_train, y_train, class_names):\n",
    "    \"\"\"\n",
    "    Create a function for the classification report for the baseline model for all labels\n",
    "    :param predictions_train: np.array\n",
    "    :param predictions_dev: np.array\n",
    "    :param predictions_test: np.array\n",
    "    :param y_train: np.array\n",
    "    :param y_dev: np.array\n",
    "    :param y_test: np.array\n",
    "    :param class_names: array of strings\n",
    "    :return: null\n",
    "    \"\"\"\n",
    "\n",
    "    y_true_train = []\n",
    "    y_preds_train = []\n",
    "    for i in range(len(y_train)):\n",
    "      if y_train[i]>0 and predictions_train[i]>0:\n",
    "        y_true_train.append(y_train[i])\n",
    "        y_preds_train.append(predictions_train[i])\n",
    "          \n",
    "    classification_report_train = classification_report(y_true_train, y_preds_train, target_names=class_names,zero_division=0)\n",
    "\n",
    "    combined_cl_report = f'\\n\\t\\tClassification report on Test Set: \\n\\n{classification_report_train}'\n",
    "    # combined_cl_report += f'\\n\\t\\tClassification report on Development Set: \\n\\n{classification_report_dev}'\n",
    "    # combined_cl_report += f'\\n\\t\\tClassification report on Testing Set: \\n\\n{classification_report_test}'\n",
    "\n",
    "    print(combined_cl_report)"
   ]
  },
  {
   "cell_type": "code",
   "execution_count": 37,
   "metadata": {},
   "outputs": [
    {
     "name": "stdout",
     "output_type": "stream",
     "text": [
      "14\n",
      "14\n"
     ]
    }
   ],
   "source": [
    "print(predictions_test[1])\n",
    "print(true_labels_test[1])"
   ]
  },
  {
   "cell_type": "code",
   "execution_count": 38,
   "metadata": {},
   "outputs": [
    {
     "name": "stdout",
     "output_type": "stream",
     "text": [
      "\n",
      "\t\tClassification report on Test Set: \n",
      "\n",
      "              precision    recall  f1-score   support\n",
      "\n",
      "       PROPN       0.84      0.84      0.84      4114\n",
      "       PUNCT       0.92      0.96      0.94      3041\n",
      "         ADJ       0.91      0.89      0.90      2602\n",
      "        NOUN       0.89      0.91      0.90      2158\n",
      "        VERB       0.91      0.89      0.90      2032\n",
      "         DET       0.86      0.92      0.89      1894\n",
      "         ADP       0.83      0.78      0.80      1786\n",
      "         AUX       0.93      0.94      0.94      1543\n",
      "        PRON       0.68      0.76      0.72      2073\n",
      "        PART       0.86      0.77      0.81      1178\n",
      "       SCONJ       0.91      0.85      0.88       734\n",
      "         NUM       0.95      0.90      0.92       649\n",
      "         ADV       0.86      0.78      0.82       538\n",
      "       CCONJ       0.89      0.81      0.85       384\n",
      "        INTJ       0.96      0.42      0.58       107\n",
      "           X       0.61      0.52      0.56       120\n",
      "         SYM       0.00      0.00      0.00        39\n",
      "\n",
      "    accuracy                           0.86     24992\n",
      "   macro avg       0.81      0.76      0.78     24992\n",
      "weighted avg       0.86      0.86      0.86     24992\n",
      "\n"
     ]
    }
   ],
   "source": [
    "predictions_test = predictions_test.flatten()\n",
    "true_labels_test = true_labels_test.flatten()\n",
    "\n",
    "# print(classification_report(predictions_test, true_labels_test,zero_division=0))\n",
    "classification_reports(predictions_test, true_labels_test, class_labels)"
   ]
  },
  {
   "cell_type": "code",
   "execution_count": null,
   "metadata": {},
   "outputs": [],
   "source": []
  }
 ],
 "metadata": {
  "colab": {
   "provenance": []
  },
  "kernelspec": {
   "display_name": "Python 3 (ipykernel)",
   "language": "python",
   "name": "python3"
  },
  "language_info": {
   "codemirror_mode": {
    "name": "ipython",
    "version": 3
   },
   "file_extension": ".py",
   "mimetype": "text/x-python",
   "name": "python",
   "nbconvert_exporter": "python",
   "pygments_lexer": "ipython3",
   "version": "3.11.5"
  }
 },
 "nbformat": 4,
 "nbformat_minor": 4
}
