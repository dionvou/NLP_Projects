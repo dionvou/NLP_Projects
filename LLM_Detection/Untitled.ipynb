{
 "cells": [
  {
   "cell_type": "code",
   "execution_count": 1,
   "id": "1f3ca120",
   "metadata": {},
   "outputs": [],
   "source": [
    "import io\n",
    "import re\n",
    "import string\n",
    "from tqdm.auto import tqdm\n",
    "\n",
    "import numpy as np\n",
    "import pandas as pd\n",
    "import matplotlib.pyplot as plt\n",
    "import seaborn as sns"
   ]
  },
  {
   "cell_type": "code",
   "execution_count": 5,
   "id": "f67aa673",
   "metadata": {},
   "outputs": [
    {
     "data": {
      "text/plain": [
       "(1564, 4)"
      ]
     },
     "execution_count": 5,
     "metadata": {},
     "output_type": "execute_result"
    }
   ],
   "source": [
    "# Read data\n",
    "# Data created with chatgpt-3.5 turbo\n",
    "df_1 = pd.read_csv('data/prompt_1.csv')\n",
    "df_2 = pd.read_csv('data/prompt_2.csv')\n",
    "\n",
    "# Data created with chatgpt davinci\n",
    "df_4 = pd.read_csv('data/data_new_davinci.csv')\n",
    "# Data created with bard\n",
    "df_5 = pd.read_csv('data/bard_data.csv')\n",
    "\n",
    "df = pd.concat([df_1,df_2,df_4,df_5],axis=0).reset_index(drop=True)\n",
    "df = df[['text','prompt_id','id','generated']]\n",
    "df.shape"
   ]
  },
  {
   "cell_type": "code",
   "execution_count": 7,
   "id": "e2200954",
   "metadata": {},
   "outputs": [],
   "source": [
    "df.to_csv('dion_generated.csv', encoding='utf-8')"
   ]
  },
  {
   "cell_type": "code",
   "execution_count": null,
   "id": "896e070b",
   "metadata": {},
   "outputs": [],
   "source": []
  }
 ],
 "metadata": {
  "kernelspec": {
   "display_name": "Python 3 (ipykernel)",
   "language": "python",
   "name": "python3"
  },
  "language_info": {
   "codemirror_mode": {
    "name": "ipython",
    "version": 3
   },
   "file_extension": ".py",
   "mimetype": "text/x-python",
   "name": "python",
   "nbconvert_exporter": "python",
   "pygments_lexer": "ipython3",
   "version": "3.11.5"
  }
 },
 "nbformat": 4,
 "nbformat_minor": 5
}
