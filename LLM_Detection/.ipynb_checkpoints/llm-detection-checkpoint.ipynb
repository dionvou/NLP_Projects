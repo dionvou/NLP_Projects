{
 "cells": [
  {
   "cell_type": "code",
   "execution_count": 5,
   "metadata": {
    "_cell_guid": "b1076dfc-b9ad-4769-8c92-a6c4dae69d19",
    "_uuid": "8f2839f25d086af736a60e9eeb907d3b93b6e0e5",
    "execution": {
     "iopub.execute_input": "2023-12-09T22:20:57.972323Z",
     "iopub.status.busy": "2023-12-09T22:20:57.971944Z",
     "iopub.status.idle": "2023-12-09T22:21:09.920548Z",
     "shell.execute_reply": "2023-12-09T22:21:09.919823Z",
     "shell.execute_reply.started": "2023-12-09T22:20:57.972292Z"
    }
   },
   "outputs": [],
   "source": [
    "import os\n",
    "import numpy as np \n",
    "import pandas as pd \n",
    "import seaborn as sns\n",
    "import matplotlib.pyplot as plt\n",
    "import re\n",
    "from sklearn.naive_bayes import MultinomialNB\n"
   ]
  },
  {
   "cell_type": "code",
   "execution_count": 9,
   "metadata": {
    "execution": {
     "iopub.execute_input": "2023-12-09T22:21:17.799332Z",
     "iopub.status.busy": "2023-12-09T22:21:17.797852Z",
     "iopub.status.idle": "2023-12-09T22:21:17.805167Z",
     "shell.execute_reply": "2023-12-09T22:21:17.804039Z",
     "shell.execute_reply.started": "2023-12-09T22:21:17.799307Z"
    }
   },
   "outputs": [
    {
     "data": {
      "text/plain": [
       "(1378, 4)"
      ]
     },
     "execution_count": 9,
     "metadata": {},
     "output_type": "execute_result"
    }
   ],
   "source": [
    "df_train_essays = pd.read_csv('llm-detect-ai-generated-text\\\\train_essays.csv')\n",
    "df_train.shape"
   ]
  },
  {
   "cell_type": "code",
   "execution_count": 14,
   "metadata": {
    "execution": {
     "iopub.execute_input": "2023-12-09T22:21:24.066649Z",
     "iopub.status.busy": "2023-12-09T22:21:24.066336Z",
     "iopub.status.idle": "2023-12-09T22:21:24.277786Z",
     "shell.execute_reply": "2023-12-09T22:21:24.276791Z",
     "shell.execute_reply.started": "2023-12-09T22:21:24.066628Z"
    }
   },
   "outputs": [
    {
     "data": {
      "text/plain": [
       "Text(0.5, 1.0, 'Distribution of prompt ID')"
      ]
     },
     "execution_count": 14,
     "metadata": {},
     "output_type": "execute_result"
    },
    {
     "data": {
      "image/png": "[encoded data removed]",
      "text/plain": [
       "<Figure size 360x288 with 1 Axes>"
      ]
     },
     "metadata": {
      "needs_background": "light"
     },
     "output_type": "display_data"
    }
   ],
   "source": [
    "f, ax = plt.subplots(figsize=(5, 4))\n",
    "\n",
    "sns.despine()\n",
    "ax = sns.countplot(data=df_train_essays,\n",
    "                   x=\"prompt_id\")\n",
    "\n",
    "abs_values = df_train_essays['prompt_id'].value_counts().values\n",
    "\n",
    "ax.set_title(\"Distribution of prompt ID\")"
   ]
  },
  {
   "cell_type": "code",
   "execution_count": 15,
   "metadata": {
    "execution": {
     "iopub.execute_input": "2023-12-09T22:21:19.557362Z",
     "iopub.status.busy": "2023-12-09T22:21:19.557069Z",
     "iopub.status.idle": "2023-12-09T22:21:19.656700Z",
     "shell.execute_reply": "2023-12-09T22:21:19.655828Z",
     "shell.execute_reply.started": "2023-12-09T22:21:19.557341Z"
    }
   },
   "outputs": [],
   "source": [
    "df_0 = pd.read_csv('prompt_1.csv')\n",
    "df_1 = pd.read_csv('prompt_2.csv')"
   ]
  },
  {
   "cell_type": "code",
   "execution_count": 17,
   "metadata": {
    "execution": {
     "iopub.execute_input": "2023-12-09T22:21:45.059800Z",
     "iopub.status.busy": "2023-12-09T22:21:45.059388Z",
     "iopub.status.idle": "2023-12-09T22:21:45.071005Z",
     "shell.execute_reply": "2023-12-09T22:21:45.070016Z",
     "shell.execute_reply.started": "2023-12-09T22:21:45.059767Z"
    }
   },
   "outputs": [
    {
     "data": {
      "text/plain": [
       "(2274, 4)"
      ]
     },
     "execution_count": 17,
     "metadata": {},
     "output_type": "execute_result"
    }
   ],
   "source": [
    "aug_df = pd.concat([df_train_essays, df_0,df_1], ignore_index=True)\n",
    "aug_df.shape"
   ]
  },
  {
   "cell_type": "code",
   "execution_count": 19,
   "metadata": {
    "execution": {
     "iopub.execute_input": "2023-12-09T22:21:46.689926Z",
     "iopub.status.busy": "2023-12-09T22:21:46.689566Z",
     "iopub.status.idle": "2023-12-09T22:21:46.875494Z",
     "shell.execute_reply": "2023-12-09T22:21:46.874620Z",
     "shell.execute_reply.started": "2023-12-09T22:21:46.689902Z"
    }
   },
   "outputs": [
    {
     "data": {
      "text/plain": [
       "Text(0.5, 1.0, 'Distribution of prompt ID')"
      ]
     },
     "execution_count": 19,
     "metadata": {},
     "output_type": "execute_result"
    },
    {
     "data": {
      "image/png": "[encoded data removed]",
      "text/plain": [
       "<Figure size 360x288 with 1 Axes>"
      ]
     },
     "metadata": {
      "needs_background": "light"
     },
     "output_type": "display_data"
    }
   ],
   "source": [
    "f, ax = plt.subplots(figsize=(5, 4))\n",
    "\n",
    "sns.despine()\n",
    "ax = sns.countplot(data=aug_df,\n",
    "                   x=\"prompt_id\")\n",
    "\n",
    "abs_values = aug_df['prompt_id'].value_counts().values\n",
    "\n",
    "ax.set_title(\"Distribution of prompt ID\")"
   ]
  },
  {
   "cell_type": "code",
   "execution_count": 20,
   "metadata": {
    "execution": {
     "iopub.execute_input": "2023-12-09T22:21:49.345388Z",
     "iopub.status.busy": "2023-12-09T22:21:49.345057Z",
     "iopub.status.idle": "2023-12-09T22:21:49.532445Z",
     "shell.execute_reply": "2023-12-09T22:21:49.531817Z",
     "shell.execute_reply.started": "2023-12-09T22:21:49.345365Z"
    }
   },
   "outputs": [
    {
     "data": {
      "text/plain": [
       "Text(0.5, 1.0, 'Distribution of generated')"
      ]
     },
     "execution_count": 20,
     "metadata": {},
     "output_type": "execute_result"
    },
    {
     "data": {
      "image/png": "[encoded data removed]",
      "text/plain": [
       "<Figure size 360x288 with 1 Axes>"
      ]
     },
     "metadata": {
      "needs_background": "light"
     },
     "output_type": "display_data"
    }
   ],
   "source": [
    "f, ax = plt.subplots(figsize=(5, 4))\n",
    "\n",
    "sns.despine()\n",
    "ax = sns.countplot(data=aug_df,\n",
    "                   x=\"generated\")\n",
    "\n",
    "abs_values = aug_df['generated'].value_counts().values\n",
    "\n",
    "\n",
    "ax.set_title(\"Distribution of generated\")"
   ]
  },
  {
   "cell_type": "code",
   "execution_count": 24,
   "metadata": {
    "execution": {
     "iopub.execute_input": "2023-12-09T22:21:52.408460Z",
     "iopub.status.busy": "2023-12-09T22:21:52.407610Z",
     "iopub.status.idle": "2023-12-09T22:21:52.464973Z",
     "shell.execute_reply": "2023-12-09T22:21:52.464208Z",
     "shell.execute_reply.started": "2023-12-09T22:21:52.408436Z"
    }
   },
   "outputs": [
    {
     "data": {
      "text/plain": [
       "(2174, 4)"
      ]
     },
     "execution_count": 24,
     "metadata": {},
     "output_type": "execute_result"
    }
   ],
   "source": [
    "aug_df = aug_df.drop_duplicates(subset=['text'])\n",
    "aug_df.shape"
   ]
  },
  {
   "cell_type": "markdown",
   "metadata": {},
   "source": [
    "PREPROCESS"
   ]
  },
  {
   "cell_type": "code",
   "execution_count": 25,
   "metadata": {
    "execution": {
     "iopub.execute_input": "2023-12-09T22:21:54.741969Z",
     "iopub.status.busy": "2023-12-09T22:21:54.741451Z",
     "iopub.status.idle": "2023-12-09T22:21:54.878392Z",
     "shell.execute_reply": "2023-12-09T22:21:54.877764Z",
     "shell.execute_reply.started": "2023-12-09T22:21:54.741946Z"
    }
   },
   "outputs": [],
   "source": [
    "aug_df[\"text\"] = aug_df[\"text\"].str.replace(\"\\n\", \"\")"
   ]
  },
  {
   "cell_type": "code",
   "execution_count": 31,
   "metadata": {
    "execution": {
     "iopub.execute_input": "2023-12-09T22:21:58.141476Z",
     "iopub.status.busy": "2023-12-09T22:21:58.141172Z",
     "iopub.status.idle": "2023-12-09T22:22:08.209467Z",
     "shell.execute_reply": "2023-12-09T22:22:08.208321Z",
     "shell.execute_reply.started": "2023-12-09T22:21:58.141454Z"
    }
   },
   "outputs": [
    {
     "data": {
      "text/plain": [
       "(2174, 1000)"
      ]
     },
     "execution_count": 31,
     "metadata": {},
     "output_type": "execute_result"
    }
   ],
   "source": [
    "from sklearn.feature_extraction.text import CountVectorizer, TfidfVectorizer\n",
    "\n",
    "tf = TfidfVectorizer(max_features=1000)\n",
    "X_tfidf = tf.fit_transform(aug_df['text'])\n",
    "X_tfidf.shape"
   ]
  },
  {
   "cell_type": "code",
   "execution_count": 35,
   "metadata": {
    "execution": {
     "iopub.execute_input": "2023-12-09T22:22:11.703816Z",
     "iopub.status.busy": "2023-12-09T22:22:11.703435Z",
     "iopub.status.idle": "2023-12-09T22:22:11.729193Z",
     "shell.execute_reply": "2023-12-09T22:22:11.728361Z",
     "shell.execute_reply.started": "2023-12-09T22:22:11.703788Z"
    }
   },
   "outputs": [],
   "source": [
    "# Split the dataset into train and test sets\n",
    "from sklearn.model_selection import train_test_split\n",
    "x_train, x_test, y_train, y_test = train_test_split(X_tfidf,\n",
    "                                                    aug_df[\"generated\"],\n",
    "                                                    test_size=0.2,\n",
    "                                                    random_state=42)"
   ]
  },
  {
   "cell_type": "code",
   "execution_count": 36,
   "metadata": {
    "execution": {
     "iopub.execute_input": "2023-12-09T22:22:13.966142Z",
     "iopub.status.busy": "2023-12-09T22:22:13.965783Z",
     "iopub.status.idle": "2023-12-09T22:22:16.089679Z",
     "shell.execute_reply": "2023-12-09T22:22:16.088822Z",
     "shell.execute_reply.started": "2023-12-09T22:22:13.966117Z"
    }
   },
   "outputs": [
    {
     "name": "stdout",
     "output_type": "stream",
     "text": [
      "Classification report for MultinomialNB(alpha=0.05, class_prior=None, fit_prior=True):\n",
      "              precision    recall  f1-score   support\n",
      "\n",
      "           0       1.00      1.00      1.00       261\n",
      "           1       1.00      1.00      1.00       174\n",
      "\n",
      "    accuracy                           1.00       435\n",
      "   macro avg       1.00      1.00      1.00       435\n",
      "weighted avg       1.00      1.00      1.00       435\n",
      "\n",
      "\n"
     ]
    }
   ],
   "source": [
    "from sklearn.model_selection import GridSearchCV\n",
    "from sklearn.naive_bayes import MultinomialNB\n",
    "from sklearn import metrics\n",
    "\n",
    "\n",
    "param_grid = {\n",
    "    'alpha': [0.05,0.1,0.2, 0.5, 1.0, 1.5, 2.0],\n",
    "}\n",
    "\n",
    "grid_nb = GridSearchCV(MultinomialNB(), param_grid, cv=5, refit = True, verbose = 0) \n",
    "grid_nb = grid_nb.fit(x_train,y_train)\n",
    "\n",
    "predicted = grid_nb.best_estimator_.predict(x_test) \n",
    "print(\"Classification report for %s:\\n%s\\n\" % (grid_nb.best_estimator_, metrics.classification_report(y_test, predicted)))"
   ]
  },
  {
   "cell_type": "code",
   "execution_count": 97,
   "metadata": {
    "execution": {
     "iopub.execute_input": "2023-12-09T22:19:26.532654Z",
     "iopub.status.busy": "2023-12-09T22:19:26.532390Z",
     "iopub.status.idle": "2023-12-09T22:19:26.536520Z",
     "shell.execute_reply": "2023-12-09T22:19:26.535506Z",
     "shell.execute_reply.started": "2023-12-09T22:19:26.532631Z"
    }
   },
   "outputs": [],
   "source": [
    "# sgd_model = SGDClassifier(max_iter=10000, tol=1e-4, loss=\"modified_huber\")\n",
    "# clf1 = MultinomialNB(alpha=0.05)"
   ]
  },
  {
   "cell_type": "code",
   "execution_count": 98,
   "metadata": {
    "execution": {
     "iopub.execute_input": "2023-12-09T22:19:26.537636Z",
     "iopub.status.busy": "2023-12-09T22:19:26.537408Z",
     "iopub.status.idle": "2023-12-09T22:19:26.548797Z",
     "shell.execute_reply": "2023-12-09T22:19:26.547756Z",
     "shell.execute_reply.started": "2023-12-09T22:19:26.537615Z"
    }
   },
   "outputs": [],
   "source": [
    "# ensemble = VotingClassifier(estimators=[('sgd', sgd_model), \n",
    "#                                         ('nb', clf1)],\n",
    "#                             weights=[0.5, 0.5], voting='soft', n_jobs=-1)\n",
    "\n",
    "# ensemble.fit(X_tfidf,aug_df[\"generated\"])"
   ]
  },
  {
   "cell_type": "code",
   "execution_count": 99,
   "metadata": {
    "execution": {
     "iopub.execute_input": "2023-12-09T22:19:26.550463Z",
     "iopub.status.busy": "2023-12-09T22:19:26.550114Z",
     "iopub.status.idle": "2023-12-09T22:19:26.559584Z",
     "shell.execute_reply": "2023-12-09T22:19:26.558937Z",
     "shell.execute_reply.started": "2023-12-09T22:19:26.550408Z"
    }
   },
   "outputs": [],
   "source": [
    "#train to whole data set\n",
    "# grid_nb.best_estimator_.fit(X_tfidf,aug_df[\"generated\"]) \n",
    "\n"
   ]
  },
  {
   "cell_type": "markdown",
   "metadata": {},
   "source": [
    "READ TEST"
   ]
  },
  {
   "cell_type": "code",
   "execution_count": 37,
   "metadata": {
    "execution": {
     "iopub.execute_input": "2023-12-09T22:22:24.783502Z",
     "iopub.status.busy": "2023-12-09T22:22:24.783225Z",
     "iopub.status.idle": "2023-12-09T22:22:24.793413Z",
     "shell.execute_reply": "2023-12-09T22:22:24.792803Z",
     "shell.execute_reply.started": "2023-12-09T22:22:24.783481Z"
    }
   },
   "outputs": [
    {
     "ename": "NameError",
     "evalue": "name 'DATA_DIR' is not defined",
     "output_type": "error",
     "traceback": [
      "\u001b[1;31m---------------------------------------------------------------------------\u001b[0m",
      "\u001b[1;31mNameError\u001b[0m                                 Traceback (most recent call last)",
      "\u001b[1;32m<ipython-input-37-2d92d5aa7d8d>\u001b[0m in \u001b[0;36m<module>\u001b[1;34m\u001b[0m\n\u001b[1;32m----> 1\u001b[1;33m \u001b[0mdf_test_essays\u001b[0m \u001b[1;33m=\u001b[0m \u001b[0mpd\u001b[0m\u001b[1;33m.\u001b[0m\u001b[0mread_csv\u001b[0m\u001b[1;33m(\u001b[0m\u001b[0mDATA_DIR\u001b[0m \u001b[1;33m+\u001b[0m \u001b[1;34m\"test_essays.csv\"\u001b[0m\u001b[1;33m)\u001b[0m\u001b[1;33m\u001b[0m\u001b[0m\n\u001b[0m\u001b[0;32m      2\u001b[0m \u001b[0mdf_test_essays\u001b[0m\u001b[1;33m.\u001b[0m\u001b[0mshape\u001b[0m\u001b[1;33m\u001b[0m\u001b[0m\n\u001b[0;32m      3\u001b[0m \u001b[0mdf_test_essays\u001b[0m\u001b[1;33m[\u001b[0m\u001b[1;34m\"text\"\u001b[0m\u001b[1;33m]\u001b[0m \u001b[1;33m=\u001b[0m \u001b[0mdf_test_essays\u001b[0m\u001b[1;33m[\u001b[0m\u001b[1;34m\"text\"\u001b[0m\u001b[1;33m]\u001b[0m\u001b[1;33m.\u001b[0m\u001b[0mstr\u001b[0m\u001b[1;33m.\u001b[0m\u001b[0mreplace\u001b[0m\u001b[1;33m(\u001b[0m\u001b[1;34m\"\\n\"\u001b[0m\u001b[1;33m,\u001b[0m \u001b[1;34m\"\"\u001b[0m\u001b[1;33m)\u001b[0m\u001b[1;33m\u001b[0m\u001b[0m\n",
      "\u001b[1;31mNameError\u001b[0m: name 'DATA_DIR' is not defined"
     ]
    }
   ],
   "source": [
    "df_test_essays = pd.read_csv(DATA_DIR + \"test_essays.csv\")\n",
    "df_test_essays.shape\n",
    "df_test_essays[\"text\"] = df_test_essays[\"text\"].str.replace(\"\\n\", \"\")"
   ]
  },
  {
   "cell_type": "code",
   "execution_count": 19,
   "metadata": {
    "execution": {
     "iopub.execute_input": "2023-12-09T22:22:27.504055Z",
     "iopub.status.busy": "2023-12-09T22:22:27.503759Z",
     "iopub.status.idle": "2023-12-09T22:22:27.511344Z",
     "shell.execute_reply": "2023-12-09T22:22:27.510423Z",
     "shell.execute_reply.started": "2023-12-09T22:22:27.504034Z"
    }
   },
   "outputs": [
    {
     "data": {
      "text/plain": [
       "(3, 82060)"
      ]
     },
     "execution_count": 19,
     "metadata": {},
     "output_type": "execute_result"
    }
   ],
   "source": [
    "XT_tfidf = tf.transform(df_test_essays['text'])\n",
    "XT_tfidf.shape"
   ]
  },
  {
   "cell_type": "code",
   "execution_count": 20,
   "metadata": {
    "execution": {
     "iopub.execute_input": "2023-12-09T22:22:29.165815Z",
     "iopub.status.busy": "2023-12-09T22:22:29.165474Z",
     "iopub.status.idle": "2023-12-09T22:22:29.172370Z",
     "shell.execute_reply": "2023-12-09T22:22:29.171557Z",
     "shell.execute_reply.started": "2023-12-09T22:22:29.165793Z"
    }
   },
   "outputs": [
    {
     "data": {
      "text/plain": [
       "array([0.45363691, 0.4005639 , 0.4005639 ])"
      ]
     },
     "execution_count": 20,
     "metadata": {},
     "output_type": "execute_result"
    }
   ],
   "source": [
    "# prediction = ensemble.predict_proba(XT_tfidf[aug_.shape[0]:])[:,1]\n",
    "# cat.predict_proba(XT_tfidf)[:,1]\n",
    "# sub = df_test_essays\n",
    "# sub['generated'] = grid_nb.best_estimator_.predict_proba(XT_tfidf)[:,1]\n",
    "# sub['generated'] = cat.predict_proba(XT_tfidf)[:,1]\n",
    "grid_nb.best_estimator_.predict_proba(XT_tfidf)[:,1]"
   ]
  },
  {
   "cell_type": "code",
   "execution_count": 21,
   "metadata": {
    "execution": {
     "iopub.execute_input": "2023-12-09T22:22:32.100393Z",
     "iopub.status.busy": "2023-12-09T22:22:32.099977Z",
     "iopub.status.idle": "2023-12-09T22:22:32.112421Z",
     "shell.execute_reply": "2023-12-09T22:22:32.111632Z",
     "shell.execute_reply.started": "2023-12-09T22:22:32.100363Z"
    }
   },
   "outputs": [
    {
     "data": {
      "text/html": [
       "<div>\n",
       "<style scoped>\n",
       "    .dataframe tbody tr th:only-of-type {\n",
       "        vertical-align: middle;\n",
       "    }\n",
       "\n",
       "    .dataframe tbody tr th {\n",
       "        vertical-align: top;\n",
       "    }\n",
       "\n",
       "    .dataframe thead th {\n",
       "        text-align: right;\n",
       "    }\n",
       "</style>\n",
       "<table border=\"1\" class=\"dataframe\">\n",
       "  <thead>\n",
       "    <tr style=\"text-align: right;\">\n",
       "      <th></th>\n",
       "      <th>id</th>\n",
       "      <th>prompt_id</th>\n",
       "      <th>text</th>\n",
       "      <th>generated</th>\n",
       "    </tr>\n",
       "  </thead>\n",
       "  <tbody>\n",
       "    <tr>\n",
       "      <th>0</th>\n",
       "      <td>0000aaaa</td>\n",
       "      <td>2</td>\n",
       "      <td>Aaa bbb ccc.</td>\n",
       "      <td>0.453637</td>\n",
       "    </tr>\n",
       "    <tr>\n",
       "      <th>1</th>\n",
       "      <td>1111bbbb</td>\n",
       "      <td>3</td>\n",
       "      <td>Bbb ccc ddd.</td>\n",
       "      <td>0.400564</td>\n",
       "    </tr>\n",
       "    <tr>\n",
       "      <th>2</th>\n",
       "      <td>2222cccc</td>\n",
       "      <td>4</td>\n",
       "      <td>CCC ddd eee.</td>\n",
       "      <td>0.400564</td>\n",
       "    </tr>\n",
       "  </tbody>\n",
       "</table>\n",
       "</div>"
      ],
      "text/plain": [
       "         id  prompt_id          text  generated\n",
       "0  0000aaaa          2  Aaa bbb ccc.   0.453637\n",
       "1  1111bbbb          3  Bbb ccc ddd.   0.400564\n",
       "2  2222cccc          4  CCC ddd eee.   0.400564"
      ]
     },
     "execution_count": 21,
     "metadata": {},
     "output_type": "execute_result"
    }
   ],
   "source": [
    "sub = df_test_essays\n",
    "sub['generated'] = grid_nb.best_estimator_.predict_proba(XT_tfidf)[:,1]\n",
    "# sub['generated'] = ensemble.predict_proba(XT_tfidf)[:,1]\n",
    "sub"
   ]
  },
  {
   "cell_type": "code",
   "execution_count": 22,
   "metadata": {
    "execution": {
     "iopub.execute_input": "2023-12-09T22:22:33.683452Z",
     "iopub.status.busy": "2023-12-09T22:22:33.683178Z",
     "iopub.status.idle": "2023-12-09T22:22:33.689938Z",
     "shell.execute_reply": "2023-12-09T22:22:33.689380Z",
     "shell.execute_reply.started": "2023-12-09T22:22:33.683431Z"
    }
   },
   "outputs": [],
   "source": [
    "\n",
    "sub = sub[['id','generated']]\n",
    "sub.to_csv('submission.csv', index=False)"
   ]
  },
  {
   "cell_type": "code",
   "execution_count": 23,
   "metadata": {
    "execution": {
     "iopub.execute_input": "2023-12-09T22:22:35.356647Z",
     "iopub.status.busy": "2023-12-09T22:22:35.356321Z",
     "iopub.status.idle": "2023-12-09T22:22:35.364380Z",
     "shell.execute_reply": "2023-12-09T22:22:35.363622Z",
     "shell.execute_reply.started": "2023-12-09T22:22:35.356625Z"
    }
   },
   "outputs": [
    {
     "data": {
      "text/html": [
       "<div>\n",
       "<style scoped>\n",
       "    .dataframe tbody tr th:only-of-type {\n",
       "        vertical-align: middle;\n",
       "    }\n",
       "\n",
       "    .dataframe tbody tr th {\n",
       "        vertical-align: top;\n",
       "    }\n",
       "\n",
       "    .dataframe thead th {\n",
       "        text-align: right;\n",
       "    }\n",
       "</style>\n",
       "<table border=\"1\" class=\"dataframe\">\n",
       "  <thead>\n",
       "    <tr style=\"text-align: right;\">\n",
       "      <th></th>\n",
       "      <th>id</th>\n",
       "      <th>generated</th>\n",
       "    </tr>\n",
       "  </thead>\n",
       "  <tbody>\n",
       "    <tr>\n",
       "      <th>0</th>\n",
       "      <td>0000aaaa</td>\n",
       "      <td>0.453637</td>\n",
       "    </tr>\n",
       "    <tr>\n",
       "      <th>1</th>\n",
       "      <td>1111bbbb</td>\n",
       "      <td>0.400564</td>\n",
       "    </tr>\n",
       "    <tr>\n",
       "      <th>2</th>\n",
       "      <td>2222cccc</td>\n",
       "      <td>0.400564</td>\n",
       "    </tr>\n",
       "  </tbody>\n",
       "</table>\n",
       "</div>"
      ],
      "text/plain": [
       "         id  generated\n",
       "0  0000aaaa   0.453637\n",
       "1  1111bbbb   0.400564\n",
       "2  2222cccc   0.400564"
      ]
     },
     "execution_count": 23,
     "metadata": {},
     "output_type": "execute_result"
    }
   ],
   "source": [
    "sub"
   ]
  },
  {
   "cell_type": "code",
   "execution_count": 24,
   "metadata": {
    "execution": {
     "iopub.execute_input": "2023-12-09T22:22:37.342347Z",
     "iopub.status.busy": "2023-12-09T22:22:37.342030Z",
     "iopub.status.idle": "2023-12-09T22:22:37.346165Z",
     "shell.execute_reply": "2023-12-09T22:22:37.345357Z",
     "shell.execute_reply.started": "2023-12-09T22:22:37.342323Z"
    }
   },
   "outputs": [],
   "source": [
    "k =['As I stand on the threshold of my master\\'s graduation, the echoes of triumph reverberate from my first-degree achievement, where I finished as the first in my class, and now, I am honored to repeat this feat at the master\\'s level.This dual accomplishment speaks not just to personal achievement but to the enduring spirit of overcoming challenges and pushing boundaries. The road was arduous, but with the unwavering support of my family and the exceptional guidance of my teachers, I have reached this pinnacle. Today, I proudly share four poignant snapshots: two capturing the solemnity of my oath, symbolizing commitment and dedication, and two others, immortalizing moments with teachers who have been beacons of inspiration and wisdom on this remarkable journey. Gratitude fills my heart as I express thanks for the profound impact of education at this university, where each step has been a testament to perseverance, resilience, and the sweet taste of triumph.']"
   ]
  },
  {
   "cell_type": "code",
   "execution_count": 25,
   "metadata": {
    "execution": {
     "iopub.execute_input": "2023-12-09T22:22:38.595785Z",
     "iopub.status.busy": "2023-12-09T22:22:38.595438Z",
     "iopub.status.idle": "2023-12-09T22:22:38.601134Z",
     "shell.execute_reply": "2023-12-09T22:22:38.600342Z",
     "shell.execute_reply.started": "2023-12-09T22:22:38.595761Z"
    }
   },
   "outputs": [],
   "source": [
    "ktf=  tf.transform(k)"
   ]
  },
  {
   "cell_type": "code",
   "execution_count": 26,
   "metadata": {
    "execution": {
     "iopub.execute_input": "2023-12-09T22:22:40.036071Z",
     "iopub.status.busy": "2023-12-09T22:22:40.035755Z",
     "iopub.status.idle": "2023-12-09T22:22:40.043150Z",
     "shell.execute_reply": "2023-12-09T22:22:40.042130Z",
     "shell.execute_reply.started": "2023-12-09T22:22:40.036048Z"
    }
   },
   "outputs": [
    {
     "data": {
      "text/plain": [
       "array([[2.19561426e-04, 9.99780439e-01]])"
      ]
     },
     "execution_count": 26,
     "metadata": {},
     "output_type": "execute_result"
    }
   ],
   "source": [
    "# ensemble.predict_proba(ktf)\n",
    "grid_nb.best_estimator_.predict_proba(ktf)"
   ]
  },
  {
   "cell_type": "code",
   "execution_count": null,
   "metadata": {},
   "outputs": [],
   "source": []
  }
 ],
 "metadata": {
  "kaggle": {
   "accelerator": "none",
   "dataSources": [
    {
     "databundleVersionId": 6888007,
     "sourceId": 61542,
     "sourceType": "competition"
    },
    {
     "datasetId": 4119801,
     "sourceId": 7141991,
     "sourceType": "datasetVersion"
    },
    {
     "datasetId": 4005256,
     "sourceId": 6977472,
     "sourceType": "datasetVersion"
    }
   ],
   "dockerImageVersionId": 30587,
   "isGpuEnabled": false,
   "isInternetEnabled": false,
   "language": "python",
   "sourceType": "notebook"
  },
  "kernelspec": {
   "display_name": "Python 3",
   "language": "python",
   "name": "python3"
  },
  "language_info": {
   "codemirror_mode": {
    "name": "ipython",
    "version": 3
   },
   "file_extension": ".py",
   "mimetype": "text/x-python",
   "name": "python",
   "nbconvert_exporter": "python",
   "pygments_lexer": "ipython3",
   "version": "3.6.5"
  }
 },
 "nbformat": 4,
 "nbformat_minor": 4
}
