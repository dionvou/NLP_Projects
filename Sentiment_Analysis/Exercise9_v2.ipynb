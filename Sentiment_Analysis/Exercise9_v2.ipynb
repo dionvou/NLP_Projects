{
 "cells": [
  {
   "cell_type": "markdown",
   "metadata": {
    "id": "7uxwQ6YcArjT"
   },
   "source": [
    "# Assigment 9\n",
    "\n",
    "* Building a MLP classifier for Sentiment Analysis, using Keras.\n",
    "* We use data from [Large Movie Dataset](https://ai.stanford.edu/~amaas/data/sentiment/)"
   ]
  },
  {
   "cell_type": "markdown",
   "metadata": {
    "id": "p3ak9gv7Va4S"
   },
   "source": [
    "## Download and prepare our dataset"
   ]
  },
  {
   "cell_type": "code",
   "execution_count": 1,
   "metadata": {
    "id": "Vp8G08G6Tib8"
   },
   "outputs": [],
   "source": [
    "# Import libraries\n",
    "import numpy as np\n",
    "import pandas as pd\n",
    "import matplotlib.pyplot as plt\n",
    "import seaborn as sns\n",
    "import gzip\n",
    "import tarfile\n",
    "from sklearn.datasets import load_files"
   ]
  },
  {
   "cell_type": "code",
   "execution_count": 2,
   "metadata": {
    "colab": {
     "base_uri": "https://localhost:8080/"
    },
    "id": "NJEMYkGH7ahL",
    "outputId": "2237ecc3-e425-4693-fb32-1fba17f9766e"
   },
   "outputs": [
    {
     "name": "stdout",
     "output_type": "stream",
     "text": [
      "--2024-02-14 09:53:33--  https://ai.stanford.edu/~amaas/data/sentiment/aclImdb_v1.tar.gz\n",
      "Resolving ai.stanford.edu (ai.stanford.edu)... 171.64.68.10\n",
      "Connecting to ai.stanford.edu (ai.stanford.edu)|171.64.68.10|:443... connected.\n",
      "HTTP request sent, awaiting response... 200 OK\n",
      "Length: 84125825 (80M) [application/x-gzip]\n",
      "Saving to: ‘aclImdb_v1.tar.gz’\n",
      "\n",
      "aclImdb_v1.tar.gz   100%[===================>]  80.23M  10.9MB/s    in 13s     \n",
      "\n",
      "2024-02-14 09:53:46 (6.06 MB/s) - ‘aclImdb_v1.tar.gz’ saved [84125825/84125825]\n",
      "\n"
     ]
    }
   ],
   "source": [
    "# Download Data\n",
    "!wget https://ai.stanford.edu/~amaas/data/sentiment/aclImdb_v1.tar.gz\n",
    "!tar xvzf aclImdb_v1.tar.gz > /dev/null"
   ]
  },
  {
   "cell_type": "code",
   "execution_count": 3,
   "metadata": {
    "colab": {
     "base_uri": "https://localhost:8080/"
    },
    "id": "fGEvJFNz7VDK",
    "outputId": "25f1b836-d5da-452e-d3dc-d72254db89dd"
   },
   "outputs": [
    {
     "name": "stdout",
     "output_type": "stream",
     "text": [
      "<class 'sklearn.utils._bunch.Bunch'>\n"
     ]
    }
   ],
   "source": [
    "from sklearn.datasets import load_files\n",
    "\n",
    "movies_train = load_files(container_path=\"aclImdb/train\", encoding=\"utf-8\")\n",
    "movies_test = load_files(container_path=\"aclImdb/test\", encoding=\"utf-8\")\n",
    "print(type(movies_train))"
   ]
  },
  {
   "cell_type": "code",
   "execution_count": 30,
   "metadata": {
    "colab": {
     "base_uri": "https://localhost:8080/"
    },
    "id": "ljXB_QNb7VDK",
    "outputId": "2baa4cbc-d552-47e1-d8c2-e8a35b2ad88d"
   },
   "outputs": [
    {
     "name": "stdout",
     "output_type": "stream",
     "text": [
      "                                             reviews  sentiment\n",
      "0  Full of (then) unknown actors TSF is a great b...          2\n",
      "1  Amount of disappointment I am getting these da...          2\n",
      "2  The future, we are told, are what we make of i...          2\n",
      "3  Dan Katzir has produced a wonderful film that ...          1\n",
      "4  If you want Scream or anything like the big-st...          1\n",
      "5  Although its mold of 1949 appears somewhat mel...          2\n",
      "6  Gloomy Sunday - Ein Lied von Liebe und Tod dir...          2\n",
      "7  This movie was ridiculous. The plot is complet...          2\n",
      "8  Why was this movie made? No doubt to sucker in...          2\n",
      "9  Outlandish premise that rates low on plausibil...          0\n",
      "----------------------------------------------------------------------------------------\n",
      "                                             reviews  sentiment\n",
      "0  Don't hate Heather Graham because she's beauti...          1\n",
      "1  I don't know how this movie has received so ma...          0\n",
      "2  I caught this movie on the Horror Channel and ...          1\n",
      "3  NBC had a chance to make a powerful religious ...          0\n",
      "4  Looking for something shocking? Okay fine... t...          0\n",
      "5  \"Are You in the House Alone?\" belongs to the p...          1\n",
      "6  I think this is one hell of a movie..............          1\n",
      "7  I watched this movie a couple of weeks ago and...          0\n",
      "8  Ocean's Twelve: just plain stupid, bad and not...          0\n",
      "9  This excellent movie starring Elizabeth Montgo...          1\n"
     ]
    }
   ],
   "source": [
    "# Transform train dataset into a dataframe\n",
    "data_train = {'reviews': movies_train.data, 'sentiment': movies_train.target}\n",
    "df_train = pd.DataFrame(data_train)\n",
    "\n",
    "# Transform test dataset into a dataframe\n",
    "data_test = {'reviews': movies_test.data, 'sentiment': movies_test.target}\n",
    "df_test = pd.DataFrame(data_test)\n",
    "\n",
    "print(df_train.iloc[:10])\n",
    "print('----------------------------------------------------------------------------------------')\n",
    "print(df_test.iloc[:10])"
   ]
  },
  {
   "cell_type": "markdown",
   "metadata": {
    "id": "sJ30-OugVnCu"
   },
   "source": [
    "* Our dataset contains data with sentiment = 2. This means that they are unlabeled. We wont use them, so lets drop them."
   ]
  },
  {
   "cell_type": "code",
   "execution_count": 31,
   "metadata": {
    "colab": {
     "base_uri": "https://localhost:8080/"
    },
    "id": "h4epx_at7VDL",
    "outputId": "b31e3621-998e-4497-e174-04734363ac47"
   },
   "outputs": [
    {
     "name": "stdout",
     "output_type": "stream",
     "text": [
      "The size of training set is: 30000\n",
      "The size of test set is: 20000\n"
     ]
    }
   ],
   "source": [
    "# Drop rows where 'sentiment' is 2 from train & test sets\n",
    "df_train = df_train[df_train['sentiment'] != 2]\n",
    "df_test = df_test[df_test['sentiment'] != 2]\n",
    "\n",
    "\n",
    "df_test = df_test.reset_index(drop=True)\n",
    "df_train = df_train.reset_index(drop=True)\n",
    "\n",
    "# Define the train dataset with 5000 rows by test set\n",
    "df_train = pd.concat([df_train, df_test[:5000]])\n",
    "\n",
    "print(f'The size of training set is: {len(df_train)}')\n",
    "print(f'The size of test set is: {len(df_test[5000:])}')"
   ]
  },
  {
   "cell_type": "code",
   "execution_count": 32,
   "metadata": {
    "colab": {
     "base_uri": "https://localhost:8080/",
     "height": 206
    },
    "id": "irJkMpOSnTEe",
    "outputId": "05f93597-61c6-47e9-c80a-b613cf84fba1"
   },
   "outputs": [
    {
     "data": {
      "application/vnd.google.colaboratory.intrinsic+json": {
       "summary": "{\n  \"name\": \"df_train\",\n  \"rows\": 30000,\n  \"fields\": [\n    {\n      \"column\": \"reviews\",\n      \"properties\": {\n        \"dtype\": \"string\",\n        \"samples\": [\n          \"I never was an avid viewer of \\\"Crocodile Hunter\\\", but did occasionally see an episode, or a bit of an episode, and when the news spread about Steve Irwin's death from a stingray attack in 2006, it certainly caught my attention. This movie, with Steve and his wife, Terri, playing themselves, but in a fictional story, was released in 2002, but I didn't hear of it until several years later, and even after that, it took me a while to get around to seeing it. Well, now I have seen it, and after looking here first (more than once), and seeing its rating, I was not surprised at how unimpressive it turned out to be, though it could have been a BIT better. Apparently, it's supposed to be a comedy, so a major problem with it is that it isn't very funny at all.<br /><br />A U.S. satellite beacon falls down from space and lands in Australia, where it is swallowed by a crocodile! While Steve and Terri Irwin are on a mission to capture this crocodile from a place where it terrorizes the cattle on a ranch owned by the crazy Brozzie Drewitt, and are unaware of what's inside it, two CIA agents are sent to Australia to retrieve the beacon! The agents are assisted by Jo Buckley, and the ranch owner and her dogs might make the mission more difficult for them! On Steve and Terri's mission, they face other types of dangerous wildlife, not just the crocodile, and since they have no clue that the croc has anything unusual inside it, when Steve sees the CIA agents after them, he mistakes them for poachers! <br /><br />Not only did I not laugh once while watching this film, the only part that really made me smile was Steve Irwin using a big snake to scare off one of the CIA agents. Apart from that, I don't think I found anything even mildly amusing. It's also a bit of an incoherent mess, switching back and forth from the Australian Outback to the CIA headquarters, and it seems like clips from \\\"Crocodile Hunter\\\" and clips from an action thriller (or something like that) put together for some reason. Also added to that mix are the ranch scenes, which also seem to be from somewhere else, and as funny as Brozzie Drewitt, played by Magda Szubanski, is supposed to be, she's not. At one point, we see her farting, so we have a fart joke, a MAJOR clich\\u00e9 in modern comedy! Are they SO hard to resist?! I also found the typical \\\"Crocodile Hunter\\\" scenes, with Steve wrestling crocodiles and holding other dangerous creatures and talking about them to viewers, to be tedious, but I guess the fact that I was never a devout fan of the show didn't help.<br /><br />Steve Irwin was admired by many as a conservationist, and is sadly missed by them, while there are also those who say he messed with nature and had it coming to him. No matter which side you're on, \\\"The Crocodile Hunter: Collision Course\\\" is not a well crafted movie. I'm sure it does help if you're a big Steve Irwin fan, but even if you are, there's no guarantee that you would like this movie, as some fans clearly haven't been impressed. In fact, it seems that some of them have found this movie to be worse than I have, so maybe it WON'T help. Like I said, there's no guarantee. I would say whatever you may think of Steve Irwin and his show, this movie was unnecessary. The attempt to combine what is usually seen in \\\"Crocodile Hunter\\\" with a fictional story unfortunately failed, and a viewer may find that this film seems longer than ninety minutes!\",\n          \"'The Hills Eyes II', one of the most pointless and blatantly stupid sequels to come around in some time, is 90 minutes of incompetent film making at its finest. Or worst, however you choose to look at it. While 2006's 'Hills' remake was one of the year's best, and truly frightening, horror films, this sequel takes every spark out of what made that such an accomplishment. Part 2 never gets off the ground, and neither does its mind numbing dialogue. Worst of all, it's not that scary.<br /><br />2006's remake followed a family who find themselves in the middle of the New Mexico desert, deserted, and one by one being picked off by deranged and sadistic hill people. People who, as a result of the military testing the atomic bomb on their land years ago, have become who they are. Surviving off travelers who wander into the region. The sequel puts audiences in the same desert, now occupied by the military as they covertly investigate the hills and what might have happened to that poor family. When a group of military trainees are brought to the campsite, they find it deserted with no signs of life. A grim reality soon befalls them, as they come to the realization that they're not alone. And the bloody fate that was handed to many before them will soon become their destiny.<br /><br />It doesn't take a genius to realize that 'Hills' has no legitimate reason to exist. But because last year's remake was received well both at the box office and by critics, it came to no surprise that a sequel would be rushed into production while there's still money to be earned. There's no rhyme or reason to it this time around, just an unbelievable and ridiculous set-up to pave the way for thoughtless characters, unoriginal killings, a non-existent story, and slipping interest. Originally, director Alexander Aja made Craven's cult classic into a remake that was a unique and thoroughly disturbing experience. One that gruesomely crossed the line on more than one occasions. Its frank display of violence, sadistic torture, well-rounded characterization, and white-knuckled suspense were all effectively used to shock and repulse audiences. The second time around, it's rehashed hand-me-downs. There's no style, no grit. It tries to build up tension by dismembering bodies, when all it really does is make for a been there, done that kind film, where even the gore seems tame compared to more recent bloodbaths.<br /><br />It's a sad state of affairs when deformed mutants who capture women for breeding purposes fails to keep your attention. It's a bore, nothing more. 'Hills' has no bite. Despite a jump or two here and there, there's nothing very scary about this by-the-numbers horror flick. It feels like something you'd see on the Sci-Fi channel, only with some F-bombs, a blood splatter here and there, a rape, and a graphic birth scene that's more gross than shocking. It's cheap. And with 'Hills', you reap what you sew. With no effort given, you can't expect anything in return.<br /><br />Replacing Aja with Martin Weisz as director was the film's first big mistake, all he does is drain the film of any sort of emotional resonance. But even more shocking is the uncharacteristically bad script penned by Wes Craven and his son, Jonathan Craven. You ask, how bad could it possibly be? This is the kind of dialogue that makes any comparison look like Shakespeare. Craven has had his fair share of clunkers in the past, but I'd never expect something like this from him. It's so unintentionally funny, you have to wonder, is Craven playing a joke on this? Or did he dump this one on his son after the studio payed him off? The film's characters are one-dimensional talking heads with no emotions or common sense. The acting is just as bad. The only character who may win you over is 'Napoleon' Napoli, the scrawny kid who doesn't fit in with the others. Even the deranged and instinct-driven villains, who we might have found some favor with in the deepest of our thoughts a year ago, are met with indifferent. You don't hate them, you don't like them. You honestly couldn't care less. Just like this movie.<br /><br />Even if you were giddy with fear during 'The Hills Have Eyes', as I was, you'll have a tough time finding anything to enjoy in this piece of garbage. It's as generic as generic gets, and there's absolutely nothing here we haven't seen done many times already. I can't express this enough, avoid 'The Hills Have Eyes II' like the plague. It's frightless, unoriginal, frantic, and a bore. Stick to the remake or Craven's original vision. Because if you don't walk out after the first thirty minutes, don't say I didn't warn you.\",\n          \"The original is a relaxing watch, with some truly memorable animated sequences. Unfortunately, the sequel, while not the worst of the DTV sequels completely lacks the sparkle.<br /><br />The biggest letdown is a lack of a story. Like Belle's Magical World, the characters are told through a series of vignettes. Magical World, while marginally better, still manages to make a mess of the story. In between the vignettes, we see the mice at work, and I personally think the antics of Jaq and Gus are the redeeming merits of this movie.<br /><br />The first vignette is the best, about Cinderella getting used to being to being a princess. This is the best, because the mice were at their funniest here. The worst of the vignettes, when Jaq turns into a human, is cute at times, but has a lack of imagination. The last vignette, when Anastasia falls in love, was also cute. The problem was, I couldn't imagine Anastasia being friendly with Cinderella, as I considered her the meaner out of the stepsisters. This was also marred by a rather ridiculous subplot about Lucifer falling in love with PomPom.<br /><br />The incidental music was very pleasant to listen to;however I hated the songs, they were really uninspired, and nothing like the beautiful Tchaikovsky inspired melodies of the original.<br /><br />The characters were the strongest development here. Cinderella while still caring, had lost her sincerity, and a lot of her charm from the original, though she does wear some very pretty clothes. The Duke had some truly funny moments but they weren't enough to save the film, likewise with Prudence and the king. As I mentioned, the mice were the redeeming merits of the movie, as they alone contributed to the film's cuteness. I have to say also the animation is colourful and above average, and the voice acting was surprisingly good.<br /><br />All in all, a cute, if unoriginal sequel, that was marred by the songs and a lack of a story. 4/10 for the mice, the voice acting, the animation and some pretty dresses. Bethany Cox\"\n        ],\n        \"num_unique_values\": 29867,\n        \"semantic_type\": \"\",\n        \"description\": \"\"\n      }\n    },\n    {\n      \"column\": \"sentiment\",\n      \"properties\": {\n        \"dtype\": \"number\",\n        \"std\": 0,\n        \"min\": 0,\n        \"max\": 1,\n        \"samples\": [\n          1,\n          0\n        ],\n        \"num_unique_values\": 2,\n        \"semantic_type\": \"\",\n        \"description\": \"\"\n      }\n    }\n  ]\n}",
       "type": "dataframe",
       "variable_name": "df_train"
      },
      "text/html": [
       "\n",
       "  <div id=\"df-a69d9040-67e9-44f8-9494-2805cebf06f9\" class=\"colab-df-container\">\n",
       "    <div>\n",
       "<style scoped>\n",
       "    .dataframe tbody tr th:only-of-type {\n",
       "        vertical-align: middle;\n",
       "    }\n",
       "\n",
       "    .dataframe tbody tr th {\n",
       "        vertical-align: top;\n",
       "    }\n",
       "\n",
       "    .dataframe thead th {\n",
       "        text-align: right;\n",
       "    }\n",
       "</style>\n",
       "<table border=\"1\" class=\"dataframe\">\n",
       "  <thead>\n",
       "    <tr style=\"text-align: right;\">\n",
       "      <th></th>\n",
       "      <th>reviews</th>\n",
       "      <th>sentiment</th>\n",
       "    </tr>\n",
       "  </thead>\n",
       "  <tbody>\n",
       "    <tr>\n",
       "      <th>0</th>\n",
       "      <td>Because some people, like me, like to know EVE...</td>\n",
       "      <td>0</td>\n",
       "    </tr>\n",
       "    <tr>\n",
       "      <th>1</th>\n",
       "      <td>Yeah, Madsen's character - whilst talking to t...</td>\n",
       "      <td>0</td>\n",
       "    </tr>\n",
       "    <tr>\n",
       "      <th>2</th>\n",
       "      <td>\"Journey of Hope\" tells of a poor Turkish fami...</td>\n",
       "      <td>1</td>\n",
       "    </tr>\n",
       "    <tr>\n",
       "      <th>3</th>\n",
       "      <td>Easily the worst movie I have ever seen in my ...</td>\n",
       "      <td>0</td>\n",
       "    </tr>\n",
       "    <tr>\n",
       "      <th>4</th>\n",
       "      <td>An OK flick, set in Mexico, about a hit-man (S...</td>\n",
       "      <td>0</td>\n",
       "    </tr>\n",
       "  </tbody>\n",
       "</table>\n",
       "</div>\n",
       "    <div class=\"colab-df-buttons\">\n",
       "\n",
       "  <div class=\"colab-df-container\">\n",
       "    <button class=\"colab-df-convert\" onclick=\"convertToInteractive('df-a69d9040-67e9-44f8-9494-2805cebf06f9')\"\n",
       "            title=\"Convert this dataframe to an interactive table.\"\n",
       "            style=\"display:none;\">\n",
       "\n",
       "  <svg xmlns=\"http://www.w3.org/2000/svg\" height=\"24px\" viewBox=\"0 -960 960 960\">\n",
       "    <path d=\"M120-120v-720h720v720H120Zm60-500h600v-160H180v160Zm220 220h160v-160H400v160Zm0 220h160v-160H400v160ZM180-400h160v-160H180v160Zm440 0h160v-160H620v160ZM180-180h160v-160H180v160Zm440 0h160v-160H620v160Z\"/>\n",
       "  </svg>\n",
       "    </button>\n",
       "\n",
       "  <style>\n",
       "    .colab-df-container {\n",
       "      display:flex;\n",
       "      gap: 12px;\n",
       "    }\n",
       "\n",
       "    .colab-df-convert {\n",
       "      background-color: #E8F0FE;\n",
       "      border: none;\n",
       "      border-radius: 50%;\n",
       "      cursor: pointer;\n",
       "      display: none;\n",
       "      fill: #1967D2;\n",
       "      height: 32px;\n",
       "      padding: 0 0 0 0;\n",
       "      width: 32px;\n",
       "    }\n",
       "\n",
       "    .colab-df-convert:hover {\n",
       "      background-color: #E2EBFA;\n",
       "      box-shadow: 0px 1px 2px rgba(60, 64, 67, 0.3), 0px 1px 3px 1px rgba(60, 64, 67, 0.15);\n",
       "      fill: #174EA6;\n",
       "    }\n",
       "\n",
       "    .colab-df-buttons div {\n",
       "      margin-bottom: 4px;\n",
       "    }\n",
       "\n",
       "    [theme=dark] .colab-df-convert {\n",
       "      background-color: #3B4455;\n",
       "      fill: #D2E3FC;\n",
       "    }\n",
       "\n",
       "    [theme=dark] .colab-df-convert:hover {\n",
       "      background-color: #434B5C;\n",
       "      box-shadow: 0px 1px 3px 1px rgba(0, 0, 0, 0.15);\n",
       "      filter: drop-shadow(0px 1px 2px rgba(0, 0, 0, 0.3));\n",
       "      fill: #FFFFFF;\n",
       "    }\n",
       "  </style>\n",
       "\n",
       "    <script>\n",
       "      const buttonEl =\n",
       "        document.querySelector('#df-a69d9040-67e9-44f8-9494-2805cebf06f9 button.colab-df-convert');\n",
       "      buttonEl.style.display =\n",
       "        google.colab.kernel.accessAllowed ? 'block' : 'none';\n",
       "\n",
       "      async function convertToInteractive(key) {\n",
       "        const element = document.querySelector('#df-a69d9040-67e9-44f8-9494-2805cebf06f9');\n",
       "        const dataTable =\n",
       "          await google.colab.kernel.invokeFunction('convertToInteractive',\n",
       "                                                    [key], {});\n",
       "        if (!dataTable) return;\n",
       "\n",
       "        const docLinkHtml = 'Like what you see? Visit the ' +\n",
       "          '<a target=\"_blank\" href=https://colab.research.google.com/notebooks/data_table.ipynb>data table notebook</a>'\n",
       "          + ' to learn more about interactive tables.';\n",
       "        element.innerHTML = '';\n",
       "        dataTable['output_type'] = 'display_data';\n",
       "        await google.colab.output.renderOutput(dataTable, element);\n",
       "        const docLink = document.createElement('div');\n",
       "        docLink.innerHTML = docLinkHtml;\n",
       "        element.appendChild(docLink);\n",
       "      }\n",
       "    </script>\n",
       "  </div>\n",
       "\n",
       "\n",
       "<div id=\"df-53a459bb-7ece-4fd9-8a16-83b110b463f9\">\n",
       "  <button class=\"colab-df-quickchart\" onclick=\"quickchart('df-53a459bb-7ece-4fd9-8a16-83b110b463f9')\"\n",
       "            title=\"Suggest charts\"\n",
       "            style=\"display:none;\">\n",
       "\n",
       "<svg xmlns=\"http://www.w3.org/2000/svg\" height=\"24px\"viewBox=\"0 0 24 24\"\n",
       "     width=\"24px\">\n",
       "    <g>\n",
       "        <path d=\"M19 3H5c-1.1 0-2 .9-2 2v14c0 1.1.9 2 2 2h14c1.1 0 2-.9 2-2V5c0-1.1-.9-2-2-2zM9 17H7v-7h2v7zm4 0h-2V7h2v10zm4 0h-2v-4h2v4z\"/>\n",
       "    </g>\n",
       "</svg>\n",
       "  </button>\n",
       "\n",
       "<style>\n",
       "  .colab-df-quickchart {\n",
       "      --bg-color: #E8F0FE;\n",
       "      --fill-color: #1967D2;\n",
       "      --hover-bg-color: #E2EBFA;\n",
       "      --hover-fill-color: #174EA6;\n",
       "      --disabled-fill-color: #AAA;\n",
       "      --disabled-bg-color: #DDD;\n",
       "  }\n",
       "\n",
       "  [theme=dark] .colab-df-quickchart {\n",
       "      --bg-color: #3B4455;\n",
       "      --fill-color: #D2E3FC;\n",
       "      --hover-bg-color: #434B5C;\n",
       "      --hover-fill-color: #FFFFFF;\n",
       "      --disabled-bg-color: #3B4455;\n",
       "      --disabled-fill-color: #666;\n",
       "  }\n",
       "\n",
       "  .colab-df-quickchart {\n",
       "    background-color: var(--bg-color);\n",
       "    border: none;\n",
       "    border-radius: 50%;\n",
       "    cursor: pointer;\n",
       "    display: none;\n",
       "    fill: var(--fill-color);\n",
       "    height: 32px;\n",
       "    padding: 0;\n",
       "    width: 32px;\n",
       "  }\n",
       "\n",
       "  .colab-df-quickchart:hover {\n",
       "    background-color: var(--hover-bg-color);\n",
       "    box-shadow: 0 1px 2px rgba(60, 64, 67, 0.3), 0 1px 3px 1px rgba(60, 64, 67, 0.15);\n",
       "    fill: var(--button-hover-fill-color);\n",
       "  }\n",
       "\n",
       "  .colab-df-quickchart-complete:disabled,\n",
       "  .colab-df-quickchart-complete:disabled:hover {\n",
       "    background-color: var(--disabled-bg-color);\n",
       "    fill: var(--disabled-fill-color);\n",
       "    box-shadow: none;\n",
       "  }\n",
       "\n",
       "  .colab-df-spinner {\n",
       "    border: 2px solid var(--fill-color);\n",
       "    border-color: transparent;\n",
       "    border-bottom-color: var(--fill-color);\n",
       "    animation:\n",
       "      spin 1s steps(1) infinite;\n",
       "  }\n",
       "\n",
       "  @keyframes spin {\n",
       "    0% {\n",
       "      border-color: transparent;\n",
       "      border-bottom-color: var(--fill-color);\n",
       "      border-left-color: var(--fill-color);\n",
       "    }\n",
       "    20% {\n",
       "      border-color: transparent;\n",
       "      border-left-color: var(--fill-color);\n",
       "      border-top-color: var(--fill-color);\n",
       "    }\n",
       "    30% {\n",
       "      border-color: transparent;\n",
       "      border-left-color: var(--fill-color);\n",
       "      border-top-color: var(--fill-color);\n",
       "      border-right-color: var(--fill-color);\n",
       "    }\n",
       "    40% {\n",
       "      border-color: transparent;\n",
       "      border-right-color: var(--fill-color);\n",
       "      border-top-color: var(--fill-color);\n",
       "    }\n",
       "    60% {\n",
       "      border-color: transparent;\n",
       "      border-right-color: var(--fill-color);\n",
       "    }\n",
       "    80% {\n",
       "      border-color: transparent;\n",
       "      border-right-color: var(--fill-color);\n",
       "      border-bottom-color: var(--fill-color);\n",
       "    }\n",
       "    90% {\n",
       "      border-color: transparent;\n",
       "      border-bottom-color: var(--fill-color);\n",
       "    }\n",
       "  }\n",
       "</style>\n",
       "\n",
       "  <script>\n",
       "    async function quickchart(key) {\n",
       "      const quickchartButtonEl =\n",
       "        document.querySelector('#' + key + ' button');\n",
       "      quickchartButtonEl.disabled = true;  // To prevent multiple clicks.\n",
       "      quickchartButtonEl.classList.add('colab-df-spinner');\n",
       "      try {\n",
       "        const charts = await google.colab.kernel.invokeFunction(\n",
       "            'suggestCharts', [key], {});\n",
       "      } catch (error) {\n",
       "        console.error('Error during call to suggestCharts:', error);\n",
       "      }\n",
       "      quickchartButtonEl.classList.remove('colab-df-spinner');\n",
       "      quickchartButtonEl.classList.add('colab-df-quickchart-complete');\n",
       "    }\n",
       "    (() => {\n",
       "      let quickchartButtonEl =\n",
       "        document.querySelector('#df-53a459bb-7ece-4fd9-8a16-83b110b463f9 button');\n",
       "      quickchartButtonEl.style.display =\n",
       "        google.colab.kernel.accessAllowed ? 'block' : 'none';\n",
       "    })();\n",
       "  </script>\n",
       "</div>\n",
       "    </div>\n",
       "  </div>\n"
      ],
      "text/plain": [
       "                                             reviews  sentiment\n",
       "0  Because some people, like me, like to know EVE...          0\n",
       "1  Yeah, Madsen's character - whilst talking to t...          0\n",
       "2  \"Journey of Hope\" tells of a poor Turkish fami...          1\n",
       "3  Easily the worst movie I have ever seen in my ...          0\n",
       "4  An OK flick, set in Mexico, about a hit-man (S...          0"
      ]
     },
     "execution_count": 32,
     "metadata": {},
     "output_type": "execute_result"
    }
   ],
   "source": [
    "from sklearn.utils import shuffle\n",
    "\n",
    "# Shuffle dataframes because they are sorted.\n",
    "df_train = shuffle(df_train)\n",
    "df_train.reset_index(inplace=True, drop=True)\n",
    "df_test = shuffle(df_test)\n",
    "df_test.reset_index(inplace=True, drop=True)\n",
    "\n",
    "df_train.head()"
   ]
  },
  {
   "cell_type": "code",
   "execution_count": 45,
   "metadata": {
    "id": "5oWNlLnyXMc6"
   },
   "outputs": [],
   "source": [
    "x_train = df_train.reviews\n",
    "y_train = df_train.sentiment"
   ]
  },
  {
   "cell_type": "markdown",
   "metadata": {
    "id": "ruvmGhVIV4db"
   },
   "source": [
    "* Now lets split our test data to development and test"
   ]
  },
  {
   "cell_type": "code",
   "execution_count": 46,
   "metadata": {
    "colab": {
     "base_uri": "https://localhost:8080/"
    },
    "id": "iTc9iDqGlKzO",
    "outputId": "df6210a7-bc93-45aa-8aca-f0934b8ac677"
   },
   "outputs": [
    {
     "name": "stdout",
     "output_type": "stream",
     "text": [
      "Number of observations in dev set: 10000\n",
      "Number of observations in test set: 10000\n"
     ]
    }
   ],
   "source": [
    "# Split dev and test data\n",
    "from sklearn.model_selection import train_test_split\n",
    "\n",
    "x_dev, x_test, y_dev, y_test = train_test_split(df_test.reviews[5000:], df_test.sentiment[5000:], test_size=0.5, random_state=42)\n",
    "print(f\"Number of observations in dev set: {x_dev.shape[0]}\")\n",
    "print(f\"Number of observations in test set: {x_test.shape[0]}\")"
   ]
  },
  {
   "cell_type": "markdown",
   "metadata": {
    "id": "0XdLCeHZ50CG"
   },
   "source": [
    "## Plot the length of each class (positive or negative) for every set"
   ]
  },
  {
   "cell_type": "code",
   "execution_count": 9,
   "metadata": {
    "colab": {
     "base_uri": "https://localhost:8080/",
     "height": 559
    },
    "id": "WB0YlyBbs63g",
    "outputId": "d278e855-665f-46c3-c168-cb7d81a08ee0"
   },
   "outputs": [
    {
     "data": {
      "image/png": "[encoded data removed]",
      "text/plain": [
       "<Figure size 1000x600 with 1 Axes>"
      ]
     },
     "metadata": {},
     "output_type": "display_data"
    }
   ],
   "source": [
    "\n",
    "# Count the values of the ground truth (sentiments)\n",
    "train_counts = y_train.value_counts()\n",
    "test_counts = y_test.value_counts()\n",
    "dev_counts = y_dev.value_counts()\n",
    "\n",
    "\n",
    "# Create a DataFrame with the counts\n",
    "counts_df = pd.DataFrame({'Train': train_counts, 'Test': test_counts, 'Dev': dev_counts})\n",
    "\n",
    "# Plot the bar plot\n",
    "counts_df.plot(kind='bar', figsize=(10, 6))\n",
    "plt.title('Value Counts of Target Variable in Different Dataframes')\n",
    "plt.xlabel('Target Variable')\n",
    "plt.ylabel('Count')\n",
    "plt.show()\n"
   ]
  },
  {
   "cell_type": "markdown",
   "metadata": {
    "id": "6_6Oh3bXthnz"
   },
   "source": [
    "### Comments\n",
    "\n",
    "* As we can observe via the above results we have very well balanced classes, thus we can proceed to the preprocessing of our data."
   ]
  },
  {
   "cell_type": "markdown",
   "metadata": {
    "id": "tDS0EAzM7VDO"
   },
   "source": [
    "## Plot the size of each text for every set"
   ]
  },
  {
   "cell_type": "code",
   "execution_count": 10,
   "metadata": {
    "colab": {
     "base_uri": "https://localhost:8080/",
     "height": 407
    },
    "id": "4HmbL2Ft4XDo",
    "outputId": "aab6d907-ac6d-4079-a2c8-850d6846cf34"
   },
   "outputs": [
    {
     "data": {
      "image/png": "[encoded data removed]",
      "text/plain": [
       "<Figure size 1200x400 with 3 Axes>"
      ]
     },
     "metadata": {},
     "output_type": "display_data"
    }
   ],
   "source": [
    "# Function to plot text lengths\n",
    "def plot_text_lengths(ax, texts, title):\n",
    "    text_lengths = [len(text) for text in texts]\n",
    "    ax.hist(text_lengths)\n",
    "    ax.set_xlabel('Length')\n",
    "    ax.set_ylabel('Text')\n",
    "    ax.set_title(title)\n",
    "\n",
    "# Create subplots\n",
    "fig, (ax1, ax2, ax3) = plt.subplots(1,3, figsize=(12, 4))\n",
    "\n",
    "# Plot for texts1\n",
    "plot_text_lengths(ax1, x_train, 'Train')\n",
    "\n",
    "# Plot for texts2\n",
    "plot_text_lengths(ax2, x_dev, 'Development')\n",
    "\n",
    "plot_text_lengths(ax3, x_test, 'Test')\n",
    "\n",
    "# Adjust layout for better spacing\n",
    "plt.tight_layout()\n",
    "\n",
    "# Show the plots\n",
    "plt.show()"
   ]
  },
  {
   "cell_type": "markdown",
   "metadata": {
    "id": "5qcGL_-ntot1"
   },
   "source": [
    "# Preprocessing"
   ]
  },
  {
   "cell_type": "markdown",
   "metadata": {
    "id": "oFRJetl-WSQi"
   },
   "source": [
    "* Replace non-word characters and numbers with empty string.\n",
    "* Substitute multiple spaces with single space.\n",
    "* Convert to lowercase.\n",
    "* Remove stop words.\n",
    "* Stemming with WordNetLemmatizer."
   ]
  },
  {
   "cell_type": "code",
   "execution_count": 47,
   "metadata": {
    "colab": {
     "base_uri": "https://localhost:8080/"
    },
    "id": "CM42ItjAiUSx",
    "outputId": "cfd175ac-3026-480d-94a6-9910d8efe2be"
   },
   "outputs": [
    {
     "name": "stderr",
     "output_type": "stream",
     "text": [
      "[nltk_data] Downloading package punkt to /root/nltk_data...\n",
      "[nltk_data]   Package punkt is already up-to-date!\n",
      "[nltk_data] Downloading package wordnet to /root/nltk_data...\n",
      "[nltk_data]   Package wordnet is already up-to-date!\n",
      "[nltk_data] Downloading package stopwords to /root/nltk_data...\n",
      "[nltk_data]   Package stopwords is already up-to-date!\n"
     ]
    }
   ],
   "source": [
    "# Imports we need for preprocessing\n",
    "import re\n",
    "import nltk\n",
    "nltk.download('punkt')\n",
    "nltk.download('wordnet')\n",
    "nltk.download('stopwords')\n",
    "from nltk.tokenize import word_tokenize\n",
    "from nltk.stem import WordNetLemmatizer\n",
    "from nltk.stem import PorterStemmer\n",
    "\n",
    "stemmer = WordNetLemmatizer()\n",
    "\n",
    "# Import stop words for preprocessing\n",
    "from nltk.corpus import stopwords\n",
    "stop_words = set(stopwords.words('english'))"
   ]
  },
  {
   "cell_type": "code",
   "execution_count": 48,
   "metadata": {
    "id": "vpKBqjHsoFLB"
   },
   "outputs": [],
   "source": [
    "def preprocess(contents):\n",
    "  \"\"\"\n",
    "    Preprocesses a list of texts by removing non-word characters, single characters, extra spaces,\n",
    "    converting to lowercase, splitting into words, lemmatizing, and reconstructing the documents.\n",
    "\n",
    "    Parameters:\n",
    "    - contents (list): A list of texts to be preprocessed.\n",
    "\n",
    "    Returns:\n",
    "    - pd.Series: A Pandas Series containing preprocessed documents.\n",
    "    \"\"\"\n",
    "\n",
    "  docs = []\n",
    "\n",
    "  for doc in contents:\n",
    "\n",
    "      # Remove non-word (special) characters such as punctuation, numbers etc\n",
    "      document = re.sub(r'\\W', ' ', str(doc))\n",
    "\n",
    "      # Remove HTML <BR>\n",
    "      document = re.sub(r'\\s+br\\s+',' ', str(document))\n",
    "\n",
    "      # Remove all single characters\n",
    "      document = re.sub(r'\\s+[a-zA-Z]\\s+', ' ', document)\n",
    "\n",
    "      # Remove numbers\n",
    "      document = re.sub(r'\\b\\d+\\b', ' ', document)\n",
    "\n",
    "      # Substitute multiple spaces with single space\n",
    "      document = re.sub(r'\\s+', ' ', document, flags=re.I) #re.I -> ignore case\n",
    "\n",
    "      # Convert to Lowercase\n",
    "      document = document.lower()\n",
    "\n",
    "      # Split the document based on whitespaces (--> List of words)\n",
    "      word_list = word_tokenize(document)\n",
    "\n",
    "      # word_list = document.split()\n",
    "\n",
    "      word_list = [word for word in word_list if word not in (stop_words)]\n",
    "\n",
    "      # Lemmatization\n",
    "      # word_list = [stemmer.lemmatize(word) for word in word_list]\n",
    "\n",
    "      # # Reconstruct the document by joining the words on each whitespace\n",
    "      document = ' '.join(word_list)\n",
    "\n",
    "      # Append all documents into a list 'docs'\n",
    "      docs.append(document)\n",
    "  return pd.Series(docs)"
   ]
  },
  {
   "cell_type": "code",
   "execution_count": 49,
   "metadata": {
    "id": "rVwcei1UoFNb"
   },
   "outputs": [],
   "source": [
    "# Preprocess texts\n",
    "x_train = preprocess(x_train)\n",
    "x_dev = preprocess(x_dev)\n",
    "x_test = preprocess(x_test)"
   ]
  },
  {
   "cell_type": "markdown",
   "metadata": {
    "id": "pe7VTNcRrzA-"
   },
   "source": [
    "## Example of the processed text"
   ]
  },
  {
   "cell_type": "code",
   "execution_count": 50,
   "metadata": {
    "colab": {
     "base_uri": "https://localhost:8080/"
    },
    "id": "CdGSkUiToFQN",
    "outputId": "87118b10-d543-42cc-9317-21312ce25ed3"
   },
   "outputs": [
    {
     "name": "stdout",
     "output_type": "stream",
     "text": [
      "The non processed text:\n",
      " The movie was not a waste except for some boring scenes in between.But the women cast gave a pretty good show than the males who were laughable. <br /><br />But Krista Allen really rocked in the movie .Her voice was so seducing and sexy.The scenes in the bed involving Krista should have shortened but she made it so watchable and sexier than any one could do.Krista really is one of the best in such roles.She also enacted quiet well as the baddie in the last 5 minutes,which is the interesting part of the movie.<br /><br />Burt Reynolds was not that good and this was not his best as an action star.He could have chosen a better script than this.Ireally think he did for money.\n",
      "------------------------------------------------------------------------------------\n",
      "VS\n",
      "------------------------------------------------------------------------------------\n",
      "The processed text:\n",
      " movie waste except boring scenes women cast gave pretty good show males laughable br krista allen really rocked movie voice seducing sexy scenes bed involving krista shortened made watchable sexier one could krista really one best roles also enacted quiet well baddie last minutes interesting part movie br burt reynolds good best action star could chosen better script ireally think money\n"
     ]
    }
   ],
   "source": [
    "# Example of a preprocessed text\n",
    "print(f'The non processed text:\\n {df_train.reviews.iloc[10]}')\n",
    "print('------------------------------------------------------------------------------------')\n",
    "print('VS')\n",
    "print('------------------------------------------------------------------------------------')\n",
    "print(f'The processed text:\\n {x_train[10]}')"
   ]
  },
  {
   "cell_type": "markdown",
   "metadata": {
    "id": "YfSwWgw9VQAo"
   },
   "source": [
    "# TF-IDF Vectorization\n"
   ]
  },
  {
   "cell_type": "code",
   "execution_count": 51,
   "metadata": {
    "colab": {
     "base_uri": "https://localhost:8080/"
    },
    "id": "3RBE1yk_VPAD",
    "outputId": "2facffb5-ada1-492c-c416-812f200707dd"
   },
   "outputs": [
    {
     "name": "stdout",
     "output_type": "stream",
     "text": [
      "(30000, 5000) <class 'scipy.sparse._csr.csr_matrix'>\n"
     ]
    }
   ],
   "source": [
    "from sklearn.feature_extraction.text import TfidfVectorizer\n",
    "\n",
    "# Use unigram & bi-gram tf*idf features\n",
    "vectorizer = TfidfVectorizer(ngram_range=(1, 3),\n",
    "                             max_features = 5000, sublinear_tf=True)\n",
    "\n",
    "x_train_tfidf = vectorizer.fit_transform(x_train)\n",
    "x_val_tfidf = vectorizer.transform(x_dev)\n",
    "x_test_tfidf = vectorizer.transform(x_test)\n",
    "\n",
    "print(x_train_tfidf.shape, type(x_train_tfidf))"
   ]
  },
  {
   "cell_type": "markdown",
   "metadata": {
    "id": "bh-xhp4Q7VDP"
   },
   "source": [
    "## Dimensionality reduction via SVD method"
   ]
  },
  {
   "cell_type": "code",
   "execution_count": 52,
   "metadata": {
    "colab": {
     "base_uri": "https://localhost:8080/"
    },
    "id": "EvF3Af8a7VDP",
    "outputId": "9d337f67-2c13-4edf-b4f3-712281077471"
   },
   "outputs": [
    {
     "name": "stdout",
     "output_type": "stream",
     "text": [
      "(30000, 1000) <class 'numpy.ndarray'>\n"
     ]
    }
   ],
   "source": [
    "# Reduce dimensionality using SVD 5000 --> 500\n",
    "from sklearn.decomposition import TruncatedSVD\n",
    "\n",
    "svd = TruncatedSVD(n_components=1000, random_state=4321)\n",
    "x_train_svd = svd.fit_transform(x_train_tfidf)\n",
    "x_val_svd = svd.transform(x_val_tfidf)\n",
    "x_test_svd = svd.transform(x_test_tfidf)\n",
    "\n",
    "print(x_train_svd.shape, type(x_train_svd))"
   ]
  },
  {
   "cell_type": "markdown",
   "metadata": {
    "id": "mi2sa72s7VDQ"
   },
   "source": [
    "## Baseline Model\n",
    "\n",
    "### Logistic Regression baseline"
   ]
  },
  {
   "cell_type": "code",
   "execution_count": 53,
   "metadata": {
    "colab": {
     "base_uri": "https://localhost:8080/"
    },
    "id": "hUU00Mws7VDQ",
    "outputId": "c32b5dfe-839e-4957-bccf-04f1ac7112ca"
   },
   "outputs": [
    {
     "name": "stdout",
     "output_type": "stream",
     "text": [
      "              precision    recall  f1-score   support\n",
      "\n",
      "           0       0.90      0.88      0.89      5005\n",
      "           1       0.88      0.90      0.89      4995\n",
      "\n",
      "    accuracy                           0.89     10000\n",
      "   macro avg       0.89      0.89      0.89     10000\n",
      "weighted avg       0.89      0.89      0.89     10000\n",
      "\n",
      "              precision    recall  f1-score   support\n",
      "\n",
      "           0       0.90      0.88      0.89      5025\n",
      "           1       0.88      0.90      0.89      4975\n",
      "\n",
      "    accuracy                           0.89     10000\n",
      "   macro avg       0.89      0.89      0.89     10000\n",
      "weighted avg       0.89      0.89      0.89     10000\n",
      "\n"
     ]
    }
   ],
   "source": [
    "from sklearn.linear_model import LogisticRegression\n",
    "from sklearn.metrics import classification_report\n",
    "from sklearn.metrics import precision_recall_curve, auc\n",
    "clf = LogisticRegression()\n",
    "clf.fit(x_train_svd, y_train)\n",
    "\n",
    "# Validation set prediction\n",
    "predictions = clf.predict(x_val_svd)\n",
    "print(classification_report(y_dev, predictions))\n",
    "\n",
    "# Test set prediction\n",
    "predictions2 = clf.predict(x_test_svd)\n",
    "print(classification_report(y_test, predictions2))\n"
   ]
  },
  {
   "cell_type": "markdown",
   "metadata": {
    "id": "jTpUCTRI5itD"
   },
   "source": [
    "# Building our model"
   ]
  },
  {
   "cell_type": "code",
   "execution_count": 54,
   "metadata": {
    "id": "QfkHxVZTDD_P"
   },
   "outputs": [],
   "source": [
    "# Import libraries\n",
    "import keras\n",
    "from keras.layers import InputLayer\n",
    "from keras.layers import Activation, Dropout, Dense, Input,BatchNormalization, Flatten, Embedding\n",
    "from keras.models import Model, Sequential\n",
    "from keras.optimizers import Adam\n",
    "from keras.preprocessing.text import Tokenizer\n",
    "from keras.preprocessing.sequence import pad_sequences\n",
    "from keras.callbacks import ModelCheckpoint, EarlyStopping, Callback\n",
    "from sklearn.preprocessing import LabelBinarizer\n",
    "from sklearn.model_selection import train_test_split\n",
    "\n",
    "\n",
    "def create_MLP_model(input_dim, activation_dense_layers):\n",
    "    \"\"\"\n",
    "    Create a deep feed forward network with Dense layers\n",
    "    Add techniques such as dropout and Batch Normalization\n",
    "    :param input_dum: integer for the dimension of the input layer)\n",
    "    :param  activation_dense_layers: string, for the activation function\n",
    "    :return: class keras.src.engine\n",
    "\n",
    "    \"\"\"\n",
    "    mlp_model = Sequential()\n",
    "\n",
    "    # Add InputLayer with specified input dimension\n",
    "    mlp_model.add(InputLayer(input_shape=(input_dim,)))\n",
    "\n",
    "    # First Layer\n",
    "    mlp_model.add(Dense(128, activation='relu'))\n",
    "    mlp_model.add(BatchNormalization())\n",
    "    mlp_model.add(Dropout(0.4))\n",
    "    # Second Layer\n",
    "    mlp_model.add(Dense(512, activation='relu'))\n",
    "    mlp_model.add(BatchNormalization())\n",
    "    mlp_model.add(Dropout(0.5))\n",
    "    # Third Layer\n",
    "    mlp_model.add(Dense(128, activation='relu'))\n",
    "    mlp_model.add(BatchNormalization())\n",
    "    mlp_model.add(Dropout(0.4))\n",
    "    # Output Layer\n",
    "    mlp_model.add(Dense(1, activation='sigmoid'))\n",
    "\n",
    "\n",
    "    return mlp_model\n"
   ]
  },
  {
   "cell_type": "markdown",
   "metadata": {
    "id": "aEjGl7VK7VDQ"
   },
   "source": [
    "### Custom Keras callback for calculating F1, precision, recall at the end of each epoch"
   ]
  },
  {
   "cell_type": "code",
   "execution_count": 55,
   "metadata": {
    "id": "rztqXeR-7VDQ"
   },
   "outputs": [],
   "source": [
    "class Metrics(Callback):\n",
    "    def __init__(self, valid_data):\n",
    "        super(Metrics, self).__init__()\n",
    "        self.validation_data = valid_data\n",
    "\n",
    "    def on_epoch_end(self, epoch, logs=None):\n",
    "        logs = logs or {}\n",
    "        val_predict_proba = self.model.predict(self.validation_data[0])\n",
    "        val_predict = (val_predict_proba > 0.5).astype(int)  # Convert probabilities to classes\n",
    "\n",
    "        val_targ = self.validation_data[1]\n",
    "\n",
    "        _val_f1 = f1_score(val_targ, val_predict, average=\"binary\")\n",
    "        _val_recall = recall_score(val_targ, val_predict, average=\"binary\")\n",
    "        _val_precision = precision_score(val_targ, val_predict, average=\"binary\")\n",
    "\n",
    "        logs['val_f1'] = _val_f1\n",
    "        logs['val_recall'] = _val_recall\n",
    "        logs['val_precision'] = _val_precision\n",
    "        print(\" — val_f1: %.3f — val_precision: %.3f — val_recall: %.3f\" % (_val_f1, _val_precision, _val_recall))\n"
   ]
  },
  {
   "cell_type": "code",
   "execution_count": 56,
   "metadata": {
    "colab": {
     "base_uri": "https://localhost:8080/"
    },
    "id": "fCtT97El7VDR",
    "outputId": "c7cd76bc-b4c3-4a09-80aa-957a805366ff"
   },
   "outputs": [
    {
     "name": "stdout",
     "output_type": "stream",
     "text": [
      "Model: \"sequential_2\"\n",
      "_________________________________________________________________\n",
      " Layer (type)                Output Shape              Param #   \n",
      "=================================================================\n",
      " dense_8 (Dense)             (None, 128)               128128    \n",
      "                                                                 \n",
      " batch_normalization_6 (Bat  (None, 128)               512       \n",
      " chNormalization)                                                \n",
      "                                                                 \n",
      " dropout_6 (Dropout)         (None, 128)               0         \n",
      "                                                                 \n",
      " dense_9 (Dense)             (None, 512)               66048     \n",
      "                                                                 \n",
      " batch_normalization_7 (Bat  (None, 512)               2048      \n",
      " chNormalization)                                                \n",
      "                                                                 \n",
      " dropout_7 (Dropout)         (None, 512)               0         \n",
      "                                                                 \n",
      " dense_10 (Dense)            (None, 128)               65664     \n",
      "                                                                 \n",
      " batch_normalization_8 (Bat  (None, 128)               512       \n",
      " chNormalization)                                                \n",
      "                                                                 \n",
      " dropout_8 (Dropout)         (None, 128)               0         \n",
      "                                                                 \n",
      " dense_11 (Dense)            (None, 1)                 129       \n",
      "                                                                 \n",
      "=================================================================\n",
      "Total params: 263041 (1.00 MB)\n",
      "Trainable params: 261505 (1021.50 KB)\n",
      "Non-trainable params: 1536 (6.00 KB)\n",
      "_________________________________________________________________\n",
      "None\n",
      "Epoch 1/200\n",
      "235/235 [==============================] - 5s 10ms/step - loss: 0.8975 - accuracy: 0.5258 - val_loss: 0.7021 - val_accuracy: 0.5005\n",
      "Epoch 2/200\n",
      "235/235 [==============================] - 2s 9ms/step - loss: 0.8219 - accuracy: 0.5649 - val_loss: 0.6585 - val_accuracy: 0.6183\n",
      "Epoch 3/200\n",
      "235/235 [==============================] - 2s 10ms/step - loss: 0.7597 - accuracy: 0.6021 - val_loss: 0.5853 - val_accuracy: 0.6954\n",
      "Epoch 4/200\n",
      "235/235 [==============================] - 2s 10ms/step - loss: 0.7049 - accuracy: 0.6358 - val_loss: 0.5237 - val_accuracy: 0.7411\n",
      "Epoch 5/200\n",
      "235/235 [==============================] - 2s 9ms/step - loss: 0.6599 - accuracy: 0.6639 - val_loss: 0.4767 - val_accuracy: 0.7768\n",
      "Epoch 6/200\n",
      "235/235 [==============================] - 2s 8ms/step - loss: 0.6077 - accuracy: 0.7053 - val_loss: 0.4375 - val_accuracy: 0.8028\n",
      "Epoch 7/200\n",
      "235/235 [==============================] - 2s 9ms/step - loss: 0.5619 - accuracy: 0.7295 - val_loss: 0.4046 - val_accuracy: 0.8210\n",
      "Epoch 8/200\n",
      "235/235 [==============================] - 2s 8ms/step - loss: 0.5237 - accuracy: 0.7543 - val_loss: 0.3750 - val_accuracy: 0.8414\n",
      "Epoch 9/200\n",
      "235/235 [==============================] - 4s 16ms/step - loss: 0.4917 - accuracy: 0.7711 - val_loss: 0.3530 - val_accuracy: 0.8507\n",
      "Epoch 10/200\n",
      "235/235 [==============================] - 4s 15ms/step - loss: 0.4549 - accuracy: 0.7922 - val_loss: 0.3337 - val_accuracy: 0.8596\n",
      "Epoch 11/200\n",
      "235/235 [==============================] - 3s 12ms/step - loss: 0.4380 - accuracy: 0.8021 - val_loss: 0.3207 - val_accuracy: 0.8652\n",
      "Epoch 12/200\n",
      "235/235 [==============================] - 2s 8ms/step - loss: 0.4166 - accuracy: 0.8153 - val_loss: 0.3082 - val_accuracy: 0.8712\n",
      "Epoch 13/200\n",
      "235/235 [==============================] - 2s 8ms/step - loss: 0.3983 - accuracy: 0.8255 - val_loss: 0.3009 - val_accuracy: 0.8752\n",
      "Epoch 14/200\n",
      "235/235 [==============================] - 3s 11ms/step - loss: 0.3869 - accuracy: 0.8299 - val_loss: 0.2934 - val_accuracy: 0.8793\n",
      "Epoch 15/200\n",
      "235/235 [==============================] - 2s 8ms/step - loss: 0.3704 - accuracy: 0.8397 - val_loss: 0.2873 - val_accuracy: 0.8803\n",
      "Epoch 16/200\n",
      "235/235 [==============================] - 2s 8ms/step - loss: 0.3602 - accuracy: 0.8455 - val_loss: 0.2814 - val_accuracy: 0.8831\n",
      "Epoch 17/200\n",
      "235/235 [==============================] - 2s 8ms/step - loss: 0.3457 - accuracy: 0.8508 - val_loss: 0.2792 - val_accuracy: 0.8838\n",
      "Epoch 18/200\n",
      "235/235 [==============================] - 2s 8ms/step - loss: 0.3409 - accuracy: 0.8555 - val_loss: 0.2753 - val_accuracy: 0.8841\n",
      "Epoch 19/200\n",
      "235/235 [==============================] - 2s 8ms/step - loss: 0.3317 - accuracy: 0.8577 - val_loss: 0.2731 - val_accuracy: 0.8850\n",
      "Epoch 20/200\n",
      "235/235 [==============================] - 2s 10ms/step - loss: 0.3215 - accuracy: 0.8629 - val_loss: 0.2704 - val_accuracy: 0.8857\n",
      "Epoch 21/200\n",
      "235/235 [==============================] - 2s 10ms/step - loss: 0.3217 - accuracy: 0.8619 - val_loss: 0.2690 - val_accuracy: 0.8858\n",
      "Epoch 22/200\n",
      "235/235 [==============================] - 2s 8ms/step - loss: 0.3161 - accuracy: 0.8666 - val_loss: 0.2668 - val_accuracy: 0.8871\n",
      "Epoch 23/200\n",
      "235/235 [==============================] - 2s 8ms/step - loss: 0.3095 - accuracy: 0.8677 - val_loss: 0.2659 - val_accuracy: 0.8875\n",
      "Epoch 24/200\n",
      "235/235 [==============================] - 2s 8ms/step - loss: 0.3048 - accuracy: 0.8716 - val_loss: 0.2644 - val_accuracy: 0.8888\n",
      "Epoch 25/200\n",
      "235/235 [==============================] - 2s 8ms/step - loss: 0.2986 - accuracy: 0.8735 - val_loss: 0.2632 - val_accuracy: 0.8884\n",
      "Epoch 26/200\n",
      "235/235 [==============================] - 2s 9ms/step - loss: 0.2942 - accuracy: 0.8764 - val_loss: 0.2618 - val_accuracy: 0.8899\n",
      "Epoch 27/200\n",
      "235/235 [==============================] - 3s 11ms/step - loss: 0.2917 - accuracy: 0.8771 - val_loss: 0.2615 - val_accuracy: 0.8901\n",
      "Epoch 28/200\n",
      "235/235 [==============================] - 2s 8ms/step - loss: 0.2855 - accuracy: 0.8792 - val_loss: 0.2604 - val_accuracy: 0.8906\n",
      "Epoch 29/200\n",
      "235/235 [==============================] - 2s 8ms/step - loss: 0.2837 - accuracy: 0.8798 - val_loss: 0.2595 - val_accuracy: 0.8909\n",
      "Epoch 30/200\n",
      "235/235 [==============================] - 2s 8ms/step - loss: 0.2800 - accuracy: 0.8812 - val_loss: 0.2594 - val_accuracy: 0.8908\n",
      "Epoch 31/200\n",
      "235/235 [==============================] - 3s 11ms/step - loss: 0.2769 - accuracy: 0.8837 - val_loss: 0.2591 - val_accuracy: 0.8910\n",
      "Epoch 32/200\n",
      "235/235 [==============================] - 2s 10ms/step - loss: 0.2726 - accuracy: 0.8848 - val_loss: 0.2585 - val_accuracy: 0.8912\n",
      "Epoch 33/200\n",
      "235/235 [==============================] - 3s 11ms/step - loss: 0.2747 - accuracy: 0.8843 - val_loss: 0.2574 - val_accuracy: 0.8917\n",
      "Epoch 34/200\n",
      "235/235 [==============================] - 2s 9ms/step - loss: 0.2670 - accuracy: 0.8865 - val_loss: 0.2570 - val_accuracy: 0.8910\n",
      "Epoch 35/200\n",
      "235/235 [==============================] - 2s 9ms/step - loss: 0.2630 - accuracy: 0.8912 - val_loss: 0.2561 - val_accuracy: 0.8911\n",
      "Epoch 36/200\n",
      "235/235 [==============================] - 2s 9ms/step - loss: 0.2602 - accuracy: 0.8908 - val_loss: 0.2552 - val_accuracy: 0.8926\n",
      "Epoch 37/200\n",
      "235/235 [==============================] - 2s 8ms/step - loss: 0.2625 - accuracy: 0.8894 - val_loss: 0.2553 - val_accuracy: 0.8916\n",
      "Epoch 38/200\n",
      "235/235 [==============================] - 3s 11ms/step - loss: 0.2560 - accuracy: 0.8936 - val_loss: 0.2545 - val_accuracy: 0.8926\n",
      "Epoch 39/200\n",
      "235/235 [==============================] - 2s 10ms/step - loss: 0.2547 - accuracy: 0.8928 - val_loss: 0.2545 - val_accuracy: 0.8915\n",
      "Epoch 40/200\n",
      "235/235 [==============================] - 2s 9ms/step - loss: 0.2516 - accuracy: 0.8961 - val_loss: 0.2540 - val_accuracy: 0.8921\n",
      "Epoch 41/200\n",
      "235/235 [==============================] - 2s 9ms/step - loss: 0.2494 - accuracy: 0.8953 - val_loss: 0.2536 - val_accuracy: 0.8934\n",
      "Epoch 42/200\n",
      "235/235 [==============================] - 2s 9ms/step - loss: 0.2451 - accuracy: 0.8962 - val_loss: 0.2531 - val_accuracy: 0.8927\n",
      "Epoch 43/200\n",
      "235/235 [==============================] - 2s 9ms/step - loss: 0.2431 - accuracy: 0.8995 - val_loss: 0.2529 - val_accuracy: 0.8931\n",
      "Epoch 44/200\n",
      "235/235 [==============================] - 3s 12ms/step - loss: 0.2451 - accuracy: 0.8991 - val_loss: 0.2526 - val_accuracy: 0.8930\n",
      "Epoch 45/200\n",
      "235/235 [==============================] - 2s 9ms/step - loss: 0.2362 - accuracy: 0.9009 - val_loss: 0.2527 - val_accuracy: 0.8931\n",
      "Epoch 46/200\n",
      "235/235 [==============================] - 2s 9ms/step - loss: 0.2356 - accuracy: 0.9036 - val_loss: 0.2533 - val_accuracy: 0.8928\n",
      "Epoch 47/200\n",
      "235/235 [==============================] - 2s 8ms/step - loss: 0.2325 - accuracy: 0.9050 - val_loss: 0.2521 - val_accuracy: 0.8939\n",
      "Epoch 48/200\n",
      "235/235 [==============================] - 2s 9ms/step - loss: 0.2321 - accuracy: 0.9038 - val_loss: 0.2516 - val_accuracy: 0.8935\n",
      "Epoch 49/200\n",
      "235/235 [==============================] - 2s 9ms/step - loss: 0.2268 - accuracy: 0.9055 - val_loss: 0.2509 - val_accuracy: 0.8941\n",
      "Epoch 50/200\n",
      "235/235 [==============================] - 3s 12ms/step - loss: 0.2228 - accuracy: 0.9077 - val_loss: 0.2515 - val_accuracy: 0.8931\n",
      "Epoch 51/200\n",
      "235/235 [==============================] - 2s 8ms/step - loss: 0.2203 - accuracy: 0.9101 - val_loss: 0.2509 - val_accuracy: 0.8949\n",
      "Epoch 52/200\n",
      "235/235 [==============================] - 2s 8ms/step - loss: 0.2167 - accuracy: 0.9098 - val_loss: 0.2511 - val_accuracy: 0.8945\n",
      "Epoch 53/200\n",
      "235/235 [==============================] - 2s 9ms/step - loss: 0.2151 - accuracy: 0.9111 - val_loss: 0.2517 - val_accuracy: 0.8948\n",
      "Epoch 54/200\n",
      "235/235 [==============================] - 2s 8ms/step - loss: 0.2158 - accuracy: 0.9127 - val_loss: 0.2517 - val_accuracy: 0.8948\n",
      "Epoch 55/200\n",
      "235/235 [==============================] - 2s 9ms/step - loss: 0.2145 - accuracy: 0.9113 - val_loss: 0.2520 - val_accuracy: 0.8948\n",
      "Epoch 56/200\n",
      "235/235 [==============================] - 3s 13ms/step - loss: 0.2090 - accuracy: 0.9142 - val_loss: 0.2519 - val_accuracy: 0.8949\n",
      "Epoch 57/200\n",
      "235/235 [==============================] - 2s 9ms/step - loss: 0.2081 - accuracy: 0.9152 - val_loss: 0.2524 - val_accuracy: 0.8950\n",
      "Epoch 58/200\n",
      "235/235 [==============================] - 2s 8ms/step - loss: 0.2042 - accuracy: 0.9160 - val_loss: 0.2525 - val_accuracy: 0.8947\n",
      "Epoch 59/200\n",
      "235/235 [==============================] - 2s 8ms/step - loss: 0.2035 - accuracy: 0.9168 - val_loss: 0.2520 - val_accuracy: 0.8959\n"
     ]
    }
   ],
   "source": [
    "from sklearn.metrics import f1_score, recall_score, precision_score\n",
    "\n",
    "adam = Adam(learning_rate = 0.00004)\n",
    "\n",
    "model = create_MLP_model(x_train_svd.shape[1],'relu')\n",
    "model.compile(\n",
    "    loss='binary_crossentropy',\n",
    "    optimizer=adam,\n",
    "    metrics=[\"accuracy\"]\n",
    "    )\n",
    "\n",
    "# Build the model and print the structure of our model before training\n",
    "model.build(x_train_svd.shape[1])  # We need to build our model in order to print the structure\n",
    "print(model.summary())\n",
    "\n",
    "# Add an early stopping callback to stop the epochs when we catch the best validation loss\n",
    "early_stopping_callback = EarlyStopping(\n",
    "    monitor='val_loss',  # Monitor validation loss for early stopping\n",
    "    patience=10,           # Number of epochs with no improvement after which training will be stopped\n",
    "    restore_best_weights=True  # Restore best model weights when early stopping is triggered\n",
    ")\n",
    "\n",
    "# Callback to save the Keras model or model weights at some frequency.\n",
    "MLP_checkpoint = ModelCheckpoint(\n",
    "    'checkpoints/weights.hdf5',\n",
    "    monitor='val_loss',\n",
    "    mode='min',\n",
    "    verbose=2,\n",
    "    save_best_only=True,\n",
    "    save_weights_only=True\n",
    "    )\n",
    "\n",
    "# Start our training\n",
    "history = model.fit(\n",
    "    x_train_svd,\n",
    "    y_train,\n",
    "    validation_data=(x_val_svd, y_dev),\n",
    "    batch_size=128,\n",
    "    epochs=200,\n",
    "    shuffle=True,\n",
    "    callbacks=[early_stopping_callback]\n",
    ")"
   ]
  },
  {
   "cell_type": "markdown",
   "metadata": {
    "id": "cRul3yx17VDR"
   },
   "source": [
    "## Visualize model's Training History"
   ]
  },
  {
   "cell_type": "code",
   "execution_count": 57,
   "metadata": {
    "colab": {
     "base_uri": "https://localhost:8080/"
    },
    "id": "Hh_Sp_7tvu2g",
    "outputId": "c1c59268-8737-446f-a8e5-ebafff0ad143"
   },
   "outputs": [
    {
     "name": "stdout",
     "output_type": "stream",
     "text": [
      "313/313 [==============================] - 1s 3ms/step - loss: 0.2552 - accuracy: 0.8952\n",
      "Test Set Evaluation:\n",
      "The loss of the test set is: 0.255,\n",
      "The accuracy of the test set is: 89.520%\n"
     ]
    }
   ],
   "source": [
    "# Evaluate in test set\n",
    "evaluation = model.evaluate(x_test_svd, y_test)\n",
    "print('Test Set Evaluation:')\n",
    "print(f\"The loss of the test set is:{evaluation[0]: .3f},\\nThe accuracy of the test set is:{evaluation[1]*100: .3f}%\")"
   ]
  },
  {
   "cell_type": "code",
   "execution_count": 22,
   "metadata": {
    "colab": {
     "base_uri": "https://localhost:8080/",
     "height": 472
    },
    "id": "IhhFH7NUWhx_",
    "outputId": "c6de9594-bb21-4e1e-9bea-e49c9a577d1a"
   },
   "outputs": [
    {
     "data": {
      "image/png": "[encoded data removed]",
      "text/plain": [
       "<Figure size 640x480 with 1 Axes>"
      ]
     },
     "metadata": {},
     "output_type": "display_data"
    }
   ],
   "source": [
    "import matplotlib.pyplot as plt\n",
    "\n",
    "# summarize history for loss\n",
    "plt.plot(history.history['loss'])\n",
    "plt.plot(history.history['val_loss'])\n",
    "plt.title('model loss')\n",
    "plt.ylabel('loss')\n",
    "plt.xlabel('epoch')\n",
    "plt.legend(['train', 'dev'], loc='upper right')\n",
    "plt.show()"
   ]
  },
  {
   "cell_type": "code",
   "execution_count": null,
   "metadata": {
    "id": "pRLjSgc9-cWL"
   },
   "outputs": [],
   "source": []
  },
  {
   "cell_type": "code",
   "execution_count": null,
   "metadata": {
    "id": "TbsDhgll-cYd"
   },
   "outputs": [],
   "source": []
  },
  {
   "cell_type": "code",
   "execution_count": null,
   "metadata": {
    "id": "UxojireB-caj"
   },
   "outputs": [],
   "source": []
  },
  {
   "cell_type": "markdown",
   "metadata": {
    "id": "uaIONQfLHUib"
   },
   "source": [
    "# Model 2"
   ]
  },
  {
   "cell_type": "markdown",
   "metadata": {
    "id": "LWZ-wCG6FKGm"
   },
   "source": [
    "## Tokenize Data"
   ]
  },
  {
   "cell_type": "code",
   "execution_count": 40,
   "metadata": {
    "colab": {
     "base_uri": "https://localhost:8080/"
    },
    "id": "JxecM2_nFL9O",
    "outputId": "059b34bf-13f5-49f5-c830-f947fc71e61b"
   },
   "outputs": [
    {
     "name": "stderr",
     "output_type": "stream",
     "text": [
      "  0%|          | 0/30000 [00:00<?, ?it/s]/usr/local/lib/python3.10/dist-packages/spacy/pipeline/lemmatizer.py:211: UserWarning: [W108] The rule-based lemmatizer did not find POS annotation for one or more tokens. Check that your pipeline includes components that assign token.pos, typically 'tagger'+'attribute_ruler' or 'morphologizer'.\n",
      "  warnings.warn(Warnings.W108)\n",
      "100%|██████████| 30000/30000 [07:24<00:00, 67.43it/s]\n",
      "100%|██████████| 10000/10000 [02:08<00:00, 78.01it/s]\n",
      "100%|██████████| 10000/10000 [01:54<00:00, 87.33it/s]\n"
     ]
    }
   ],
   "source": [
    "import spacy\n",
    "from spacy.lang.en.stop_words import STOP_WORDS\n",
    "from tqdm import tqdm\n",
    "\n",
    "nlp = spacy.load('en_core_web_sm', disable=[\"tagger\", \"parser\",\"ner\"])\n",
    "nlp.add_pipe('sentencizer')\n",
    "\n",
    "def tokenize_samples(samples):\n",
    "\n",
    "  tokenized_samples = []\n",
    "  for i in tqdm(range(len(samples))):\n",
    "    doc = nlp(samples[i])  # Tokenize the sample into sentences\n",
    "    tokens = []\n",
    "    for sent in doc.sents:\n",
    "      for tok in sent:  # Iterate through the words of the sentence\n",
    "        if '\\n' in tok.text or \"\\t\" in tok.text or \"--\" in tok.text or \"*\" in tok.text or tok.text.lower() in STOP_WORDS:\n",
    "          continue\n",
    "        if tok.text.strip():\n",
    "          tokens.append(tok.text.replace('\"',\"'\").strip())\n",
    "    tokenized_samples.append(tokens)\n",
    "\n",
    "  return tokenized_samples\n",
    "\n",
    "X_train_tokenized = tokenize_samples(x_train)\n",
    "X_val_tokenized = tokenize_samples(x_dev)\n",
    "X_test_tokenized = tokenize_samples(x_test)"
   ]
  },
  {
   "cell_type": "code",
   "execution_count": 84,
   "metadata": {
    "colab": {
     "base_uri": "https://localhost:8080/"
    },
    "id": "-GvCzMnxGNDl",
    "outputId": "073d54f0-b773-4808-9cda-eda8677ee938"
   },
   "outputs": [
    {
     "name": "stdout",
     "output_type": "stream",
     "text": [
      "------------------------------------------------------------------------------------\n",
      "The processed text:\n",
      " ['walk', 'theater', 'hour', 'seeing', 'people', 'cheating', 'wives', 'schtupping', 'like', 'dogs', 'rut', 'word', 'like', 'diabetic', 'equal', 'br', 'thanks', 'br', 'especially', 'frustrating', 'movie', 'lot', 'characters', 'interesting', 'given', 'fornicate', 'talk', 'swear', 'br', 'times', 'looked', 'sort', 'character', 'development', 'happened', 'sex', 'scene', 'plot', 'development', '1st', 'hour', 'summarized', 'murders', 'occur', 'vinnie', 'sees', 'murder', 'scene', 'vinnie', 'stares', 'moodily', 'atlantic', 'east', 'hudson', 'river', 'vinnie', 'cheats', 'wife', 'joey', 'sympathetic', 'character', 'gets', 'kicked', 'parents', 'house', 'wait', 'br', 'photography', 'interplay', 'characters', 'superb', 'flood', 'sex', 'vulgarity', 'hardly', 'worth', 'waiting', 'hour', 'happen', 'br', 'sorry', 'spike', 'lessons', 'notting', 'hill', 'shawshank', 'redemption', 'better', 'study', 'community', 'interpersonal', 'relationships']\n"
     ]
    }
   ],
   "source": [
    "print('------------------------------------------------------------------------------------')\n",
    "print(f'The processed text:\\n {X_train_tokenized[10]}')"
   ]
  },
  {
   "cell_type": "markdown",
   "metadata": {
    "id": "Z1aLYOjkBCLM"
   },
   "source": [
    "# FastText Initialization (Pre-trained model)"
   ]
  },
  {
   "cell_type": "code",
   "execution_count": 38,
   "metadata": {
    "colab": {
     "base_uri": "https://localhost:8080/"
    },
    "id": "EEmNwerXBNFQ",
    "outputId": "08187145-35b0-4f91-8f61-c2bbaea5164a"
   },
   "outputs": [
    {
     "name": "stdout",
     "output_type": "stream",
     "text": [
      "Collecting fasttext\n",
      "  Downloading fasttext-0.9.2.tar.gz (68 kB)\n",
      "\u001b[?25l     \u001b[90m━━━━━━━━━━━━━━━━━━━━━━━━━━━━━━━━━━━━━━━━\u001b[0m \u001b[32m0.0/68.8 kB\u001b[0m \u001b[31m?\u001b[0m eta \u001b[36m-:--:--\u001b[0m\r",
      "\u001b[2K     \u001b[91m━━━━━━━━━━━━━━━━━━━━━━━━━━━━━━━━━━━\u001b[0m\u001b[91m╸\u001b[0m\u001b[90m━━━━\u001b[0m \u001b[32m61.4/68.8 kB\u001b[0m \u001b[31m1.8 MB/s\u001b[0m eta \u001b[36m0:00:01\u001b[0m\r",
      "\u001b[2K     \u001b[90m━━━━━━━━━━━━━━━━━━━━━━━━━━━━━━━━━━━━━━━━\u001b[0m \u001b[32m68.8/68.8 kB\u001b[0m \u001b[31m1.6 MB/s\u001b[0m eta \u001b[36m0:00:00\u001b[0m\n",
      "\u001b[?25h  Preparing metadata (setup.py) ... \u001b[?25l\u001b[?25hdone\n",
      "Collecting pybind11>=2.2 (from fasttext)\n",
      "  Using cached pybind11-2.11.1-py3-none-any.whl (227 kB)\n",
      "Requirement already satisfied: setuptools>=0.7.0 in /usr/local/lib/python3.10/dist-packages (from fasttext) (67.7.2)\n",
      "Requirement already satisfied: numpy in /usr/local/lib/python3.10/dist-packages (from fasttext) (1.25.2)\n",
      "Building wheels for collected packages: fasttext\n",
      "  Building wheel for fasttext (setup.py) ... \u001b[?25l\u001b[?25hdone\n",
      "  Created wheel for fasttext: filename=fasttext-0.9.2-cp310-cp310-linux_x86_64.whl size=4199773 sha256=e145241771152e76a67997a49dcca0f3e0ef9455bc289498091db757bf980e37\n",
      "  Stored in directory: /root/.cache/pip/wheels/a5/13/75/f811c84a8ab36eedbaef977a6a58a98990e8e0f1967f98f394\n",
      "Successfully built fasttext\n",
      "Installing collected packages: pybind11, fasttext\n",
      "Successfully installed fasttext-0.9.2 pybind11-2.11.1\n",
      "--2024-02-14 08:44:01--  https://dl.fbaipublicfiles.com/fasttext/vectors-crawl/cc.en.300.bin.gz\n",
      "Resolving dl.fbaipublicfiles.com (dl.fbaipublicfiles.com)... 13.35.7.128, 13.35.7.82, 13.35.7.38, ...\n",
      "Connecting to dl.fbaipublicfiles.com (dl.fbaipublicfiles.com)|13.35.7.128|:443... connected.\n",
      "HTTP request sent, awaiting response... 200 OK\n",
      "Length: 4503593528 (4.2G) [application/octet-stream]\n",
      "Saving to: ‘cc.en.300.bin.gz’\n",
      "\n",
      "cc.en.300.bin.gz    100%[===================>]   4.19G   127MB/s    in 51s     \n",
      "\n",
      "2024-02-14 08:44:53 (83.8 MB/s) - ‘cc.en.300.bin.gz’ saved [4503593528/4503593528]\n",
      "\n"
     ]
    },
    {
     "name": "stderr",
     "output_type": "stream",
     "text": [
      "Warning : `load_model` does not return WordVectorModel or SupervisedModel any more, but a `FastText` object which is very similar.\n"
     ]
    }
   ],
   "source": [
    "!pip install fasttext\n",
    "\n",
    "!wget https://dl.fbaipublicfiles.com/fasttext/vectors-crawl/cc.en.300.bin.gz\n",
    "!gzip -d cc.en.300.bin.gz\n",
    "import fasttext\n",
    "\n",
    "\n",
    "# Load and Initialize a object for a pre-trained fasttext model\n",
    "fasttext_model = fasttext.load_model('cc.en.300.bin')"
   ]
  },
  {
   "cell_type": "markdown",
   "metadata": {
    "id": "gBT_p3CIIJcl"
   },
   "source": [
    "### Calculate centroids"
   ]
  },
  {
   "cell_type": "code",
   "execution_count": 39,
   "metadata": {
    "id": "J6wAll1ZIJHh"
   },
   "outputs": [],
   "source": [
    "import numpy as np\n",
    "from spacy.lang.en.stop_words import STOP_WORDS\n",
    "\n",
    "def text_centroid(text, model):\n",
    "  text_vec = []\n",
    "  counter = 0\n",
    "  for word in text:\n",
    "    if word in STOP_WORDS:\n",
    "          continue\n",
    "    if counter == 0:\n",
    "      text_vec = model.get_word_vector(word=word.lower())\n",
    "    else:\n",
    "      text_vec = np.add(text_vec, model.get_word_vector(word=word.lower()))\n",
    "    counter += 1\n",
    "\n",
    "  return np.asarray(text_vec) / counter\n",
    "\n",
    "# ...calculate embeddings for whole corpus\n"
   ]
  },
  {
   "cell_type": "code",
   "execution_count": 43,
   "metadata": {
    "colab": {
     "base_uri": "https://localhost:8080/"
    },
    "id": "UEAcrktNEiAu",
    "outputId": "05bb3ed7-591e-4da9-e413-fd7f6660dab5"
   },
   "outputs": [
    {
     "name": "stderr",
     "output_type": "stream",
     "text": [
      "100%|██████████| 30000/30000 [01:15<00:00, 397.15it/s]\n",
      "100%|██████████| 10000/10000 [00:14<00:00, 699.32it/s]\n",
      "100%|██████████| 10000/10000 [00:15<00:00, 662.12it/s]"
     ]
    },
    {
     "name": "stdout",
     "output_type": "stream",
     "text": [
      "(30000, 300)\n"
     ]
    },
    {
     "name": "stderr",
     "output_type": "stream",
     "text": [
      "\n"
     ]
    }
   ],
   "source": [
    "from tqdm import tqdm\n",
    "\n",
    "# Calculate centroids for train and val documents\n",
    "\n",
    "X_train_centroids = [text_centroid(sent, fasttext_model) for sent in\n",
    "                     tqdm(X_train_tokenized)]\n",
    "X_train_centroids = np.stack(X_train_centroids, axis=0)\n",
    "\n",
    "X_val_centroids = [text_centroid(sent, fasttext_model) for sent in tqdm(X_val_tokenized)]\n",
    "X_val_centroids = np.stack(X_val_centroids, axis=0)\n",
    "\n",
    "X_test_centroids = [text_centroid(sent, fasttext_model) for sent in tqdm(X_test_tokenized)]\n",
    "X_test_centroids = np.stack(X_test_centroids, axis=0)\n",
    "\n",
    "\n",
    "print(X_train_centroids.shape)\n",
    "\n",
    "del fasttext_model # free up memory"
   ]
  },
  {
   "cell_type": "code",
   "execution_count": 64,
   "metadata": {
    "colab": {
     "base_uri": "https://localhost:8080/"
    },
    "id": "XnpTi7Mt3BOd",
    "outputId": "c70cd7ca-7be6-473f-b31e-4c997d6dbc38"
   },
   "outputs": [
    {
     "data": {
      "text/plain": [
       "300"
      ]
     },
     "execution_count": 64,
     "metadata": {},
     "output_type": "execute_result"
    }
   ],
   "source": [
    "X_train_centroids.shape[1]"
   ]
  },
  {
   "cell_type": "markdown",
   "metadata": {
    "id": "LgEMSFZt7VDR"
   },
   "source": [
    "# Fasttext (centroids) based MLP build and validation\n"
   ]
  },
  {
   "cell_type": "code",
   "execution_count": 68,
   "metadata": {
    "colab": {
     "base_uri": "https://localhost:8080/"
    },
    "id": "c479iaTLKFHy",
    "outputId": "1a8423d9-bf35-420f-bd4e-17058df9921b"
   },
   "outputs": [
    {
     "name": "stdout",
     "output_type": "stream",
     "text": [
      "Model: \"sequential\"\n",
      "_________________________________________________________________\n",
      " Layer (type)                Output Shape              Param #   \n",
      "=================================================================\n",
      " dense (Dense)               (None, 128)               64128     \n",
      "                                                                 \n",
      " batch_normalization (Batch  (None, 128)               512       \n",
      " Normalization)                                                  \n",
      "                                                                 \n",
      " dropout (Dropout)           (None, 128)               0         \n",
      "                                                                 \n",
      " dense_1 (Dense)             (None, 512)               66048     \n",
      "                                                                 \n",
      " batch_normalization_1 (Bat  (None, 512)               2048      \n",
      " chNormalization)                                                \n",
      "                                                                 \n",
      " dropout_1 (Dropout)         (None, 512)               0         \n",
      "                                                                 \n",
      " dense_2 (Dense)             (None, 128)               65664     \n",
      "                                                                 \n",
      " batch_normalization_2 (Bat  (None, 128)               512       \n",
      " chNormalization)                                                \n",
      "                                                                 \n",
      " dropout_2 (Dropout)         (None, 128)               0         \n",
      "                                                                 \n",
      " dense_3 (Dense)             (None, 1)                 129       \n",
      "                                                                 \n",
      "=================================================================\n",
      "Total params: 199041 (777.50 KB)\n",
      "Trainable params: 197505 (771.50 KB)\n",
      "Non-trainable params: 1536 (6.00 KB)\n",
      "_________________________________________________________________\n",
      "None\n",
      "Epoch 1/200\n",
      "235/235 [==============================] - 6s 17ms/step - loss: 0.8084 - accuracy: 0.5841 - val_loss: 0.6815 - val_accuracy: 0.5062\n",
      "Epoch 2/200\n",
      "235/235 [==============================] - 3s 12ms/step - loss: 0.6852 - accuracy: 0.6677 - val_loss: 0.5732 - val_accuracy: 0.7453\n",
      "Epoch 3/200\n",
      "235/235 [==============================] - 3s 12ms/step - loss: 0.6316 - accuracy: 0.7019 - val_loss: 0.4613 - val_accuracy: 0.7868\n",
      "Epoch 4/200\n",
      "235/235 [==============================] - 3s 12ms/step - loss: 0.5882 - accuracy: 0.7278 - val_loss: 0.4346 - val_accuracy: 0.7972\n",
      "Epoch 5/200\n",
      "235/235 [==============================] - 4s 16ms/step - loss: 0.5648 - accuracy: 0.7408 - val_loss: 0.4227 - val_accuracy: 0.8056\n",
      "Epoch 6/200\n",
      "235/235 [==============================] - 3s 13ms/step - loss: 0.5413 - accuracy: 0.7530 - val_loss: 0.4134 - val_accuracy: 0.8124\n",
      "Epoch 7/200\n",
      "235/235 [==============================] - 3s 12ms/step - loss: 0.5266 - accuracy: 0.7619 - val_loss: 0.4067 - val_accuracy: 0.8152\n",
      "Epoch 8/200\n",
      "235/235 [==============================] - 3s 12ms/step - loss: 0.5113 - accuracy: 0.7727 - val_loss: 0.4009 - val_accuracy: 0.8192\n",
      "Epoch 9/200\n",
      "235/235 [==============================] - 3s 13ms/step - loss: 0.5025 - accuracy: 0.7729 - val_loss: 0.3966 - val_accuracy: 0.8200\n",
      "Epoch 10/200\n",
      "235/235 [==============================] - 3s 15ms/step - loss: 0.4934 - accuracy: 0.7745 - val_loss: 0.3928 - val_accuracy: 0.8229\n",
      "Epoch 11/200\n",
      "235/235 [==============================] - 3s 11ms/step - loss: 0.4815 - accuracy: 0.7836 - val_loss: 0.3893 - val_accuracy: 0.8234\n",
      "Epoch 12/200\n",
      "235/235 [==============================] - 3s 11ms/step - loss: 0.4752 - accuracy: 0.7883 - val_loss: 0.3869 - val_accuracy: 0.8259\n",
      "Epoch 13/200\n",
      "235/235 [==============================] - 3s 11ms/step - loss: 0.4645 - accuracy: 0.7913 - val_loss: 0.3846 - val_accuracy: 0.8253\n",
      "Epoch 14/200\n",
      "235/235 [==============================] - 4s 17ms/step - loss: 0.4619 - accuracy: 0.7937 - val_loss: 0.3818 - val_accuracy: 0.8287\n",
      "Epoch 15/200\n",
      "235/235 [==============================] - 3s 12ms/step - loss: 0.4555 - accuracy: 0.7961 - val_loss: 0.3799 - val_accuracy: 0.8318\n",
      "Epoch 16/200\n",
      "235/235 [==============================] - 3s 12ms/step - loss: 0.4498 - accuracy: 0.8014 - val_loss: 0.3779 - val_accuracy: 0.8315\n",
      "Epoch 17/200\n",
      "235/235 [==============================] - 3s 12ms/step - loss: 0.4439 - accuracy: 0.7976 - val_loss: 0.3766 - val_accuracy: 0.8326\n",
      "Epoch 18/200\n",
      "235/235 [==============================] - 4s 16ms/step - loss: 0.4435 - accuracy: 0.7988 - val_loss: 0.3749 - val_accuracy: 0.8347\n",
      "Epoch 19/200\n",
      "235/235 [==============================] - 3s 12ms/step - loss: 0.4363 - accuracy: 0.8035 - val_loss: 0.3737 - val_accuracy: 0.8350\n",
      "Epoch 20/200\n",
      "235/235 [==============================] - 3s 12ms/step - loss: 0.4278 - accuracy: 0.8100 - val_loss: 0.3725 - val_accuracy: 0.8343\n",
      "Epoch 21/200\n",
      "235/235 [==============================] - 3s 12ms/step - loss: 0.4247 - accuracy: 0.8108 - val_loss: 0.3715 - val_accuracy: 0.8349\n",
      "Epoch 22/200\n",
      "235/235 [==============================] - 3s 14ms/step - loss: 0.4207 - accuracy: 0.8132 - val_loss: 0.3699 - val_accuracy: 0.8370\n",
      "Epoch 23/200\n",
      "235/235 [==============================] - 3s 14ms/step - loss: 0.4186 - accuracy: 0.8129 - val_loss: 0.3691 - val_accuracy: 0.8386\n",
      "Epoch 24/200\n",
      "235/235 [==============================] - 3s 12ms/step - loss: 0.4210 - accuracy: 0.8123 - val_loss: 0.3683 - val_accuracy: 0.8377\n",
      "Epoch 25/200\n",
      "235/235 [==============================] - 3s 12ms/step - loss: 0.4135 - accuracy: 0.8165 - val_loss: 0.3675 - val_accuracy: 0.8382\n",
      "Epoch 26/200\n",
      "235/235 [==============================] - 3s 12ms/step - loss: 0.4097 - accuracy: 0.8196 - val_loss: 0.3670 - val_accuracy: 0.8395\n",
      "Epoch 27/200\n",
      "235/235 [==============================] - 4s 16ms/step - loss: 0.4072 - accuracy: 0.8176 - val_loss: 0.3662 - val_accuracy: 0.8389\n",
      "Epoch 28/200\n",
      "235/235 [==============================] - 3s 12ms/step - loss: 0.4029 - accuracy: 0.8215 - val_loss: 0.3655 - val_accuracy: 0.8399\n",
      "Epoch 29/200\n",
      "235/235 [==============================] - 3s 12ms/step - loss: 0.4043 - accuracy: 0.8202 - val_loss: 0.3663 - val_accuracy: 0.8405\n",
      "Epoch 30/200\n",
      "235/235 [==============================] - 3s 12ms/step - loss: 0.3994 - accuracy: 0.8246 - val_loss: 0.3649 - val_accuracy: 0.8392\n",
      "Epoch 31/200\n",
      "235/235 [==============================] - 4s 18ms/step - loss: 0.3972 - accuracy: 0.8230 - val_loss: 0.3646 - val_accuracy: 0.8400\n",
      "Epoch 32/200\n",
      "235/235 [==============================] - 3s 12ms/step - loss: 0.3991 - accuracy: 0.8258 - val_loss: 0.3639 - val_accuracy: 0.8401\n",
      "Epoch 33/200\n",
      "235/235 [==============================] - 3s 12ms/step - loss: 0.3951 - accuracy: 0.8239 - val_loss: 0.3650 - val_accuracy: 0.8399\n",
      "Epoch 34/200\n",
      "235/235 [==============================] - 4s 16ms/step - loss: 0.3988 - accuracy: 0.8206 - val_loss: 0.3629 - val_accuracy: 0.8402\n",
      "Epoch 35/200\n",
      "235/235 [==============================] - 4s 18ms/step - loss: 0.3927 - accuracy: 0.8252 - val_loss: 0.3625 - val_accuracy: 0.8408\n",
      "Epoch 36/200\n",
      "235/235 [==============================] - 3s 12ms/step - loss: 0.3883 - accuracy: 0.8270 - val_loss: 0.3625 - val_accuracy: 0.8410\n",
      "Epoch 37/200\n",
      "235/235 [==============================] - 3s 12ms/step - loss: 0.3852 - accuracy: 0.8312 - val_loss: 0.3616 - val_accuracy: 0.8410\n",
      "Epoch 38/200\n",
      "235/235 [==============================] - 3s 12ms/step - loss: 0.3871 - accuracy: 0.8309 - val_loss: 0.3612 - val_accuracy: 0.8409\n",
      "Epoch 39/200\n",
      "235/235 [==============================] - 4s 18ms/step - loss: 0.3886 - accuracy: 0.8294 - val_loss: 0.3607 - val_accuracy: 0.8413\n",
      "Epoch 40/200\n",
      "235/235 [==============================] - 3s 12ms/step - loss: 0.3854 - accuracy: 0.8275 - val_loss: 0.3599 - val_accuracy: 0.8413\n",
      "Epoch 41/200\n",
      "235/235 [==============================] - 3s 12ms/step - loss: 0.3854 - accuracy: 0.8298 - val_loss: 0.3599 - val_accuracy: 0.8419\n",
      "Epoch 42/200\n",
      "235/235 [==============================] - 3s 12ms/step - loss: 0.3830 - accuracy: 0.8299 - val_loss: 0.3598 - val_accuracy: 0.8420\n",
      "Epoch 43/200\n",
      "235/235 [==============================] - 4s 16ms/step - loss: 0.3820 - accuracy: 0.8331 - val_loss: 0.3595 - val_accuracy: 0.8423\n",
      "Epoch 44/200\n",
      "235/235 [==============================] - 3s 13ms/step - loss: 0.3764 - accuracy: 0.8322 - val_loss: 0.3591 - val_accuracy: 0.8423\n",
      "Epoch 45/200\n",
      "235/235 [==============================] - 3s 12ms/step - loss: 0.3784 - accuracy: 0.8342 - val_loss: 0.3589 - val_accuracy: 0.8426\n",
      "Epoch 46/200\n",
      "235/235 [==============================] - 3s 12ms/step - loss: 0.3810 - accuracy: 0.8327 - val_loss: 0.3585 - val_accuracy: 0.8423\n",
      "Epoch 47/200\n",
      "235/235 [==============================] - 3s 13ms/step - loss: 0.3768 - accuracy: 0.8328 - val_loss: 0.3585 - val_accuracy: 0.8416\n",
      "Epoch 48/200\n",
      "235/235 [==============================] - 4s 15ms/step - loss: 0.3759 - accuracy: 0.8345 - val_loss: 0.3574 - val_accuracy: 0.8416\n",
      "Epoch 49/200\n",
      "235/235 [==============================] - 3s 12ms/step - loss: 0.3748 - accuracy: 0.8355 - val_loss: 0.3579 - val_accuracy: 0.8418\n",
      "Epoch 50/200\n",
      "235/235 [==============================] - 3s 12ms/step - loss: 0.3729 - accuracy: 0.8370 - val_loss: 0.3574 - val_accuracy: 0.8417\n",
      "Epoch 51/200\n",
      "235/235 [==============================] - 3s 12ms/step - loss: 0.3726 - accuracy: 0.8367 - val_loss: 0.3574 - val_accuracy: 0.8427\n",
      "Epoch 52/200\n",
      "235/235 [==============================] - 4s 17ms/step - loss: 0.3729 - accuracy: 0.8367 - val_loss: 0.3570 - val_accuracy: 0.8421\n",
      "Epoch 53/200\n",
      "235/235 [==============================] - 3s 12ms/step - loss: 0.3710 - accuracy: 0.8379 - val_loss: 0.3575 - val_accuracy: 0.8429\n",
      "Epoch 54/200\n",
      "235/235 [==============================] - 3s 12ms/step - loss: 0.3681 - accuracy: 0.8380 - val_loss: 0.3572 - val_accuracy: 0.8432\n",
      "Epoch 55/200\n",
      "235/235 [==============================] - 3s 12ms/step - loss: 0.3666 - accuracy: 0.8383 - val_loss: 0.3579 - val_accuracy: 0.8432\n",
      "Epoch 56/200\n",
      "235/235 [==============================] - 4s 18ms/step - loss: 0.3687 - accuracy: 0.8384 - val_loss: 0.3568 - val_accuracy: 0.8430\n",
      "Epoch 57/200\n",
      "235/235 [==============================] - 3s 12ms/step - loss: 0.3688 - accuracy: 0.8370 - val_loss: 0.3563 - val_accuracy: 0.8437\n",
      "Epoch 58/200\n",
      "235/235 [==============================] - 3s 12ms/step - loss: 0.3664 - accuracy: 0.8386 - val_loss: 0.3556 - val_accuracy: 0.8438\n",
      "Epoch 59/200\n",
      "235/235 [==============================] - 3s 11ms/step - loss: 0.3661 - accuracy: 0.8392 - val_loss: 0.3553 - val_accuracy: 0.8429\n",
      "Epoch 60/200\n",
      "235/235 [==============================] - 4s 16ms/step - loss: 0.3646 - accuracy: 0.8389 - val_loss: 0.3552 - val_accuracy: 0.8447\n",
      "Epoch 61/200\n",
      "235/235 [==============================] - 3s 13ms/step - loss: 0.3659 - accuracy: 0.8386 - val_loss: 0.3553 - val_accuracy: 0.8438\n",
      "Epoch 62/200\n",
      "235/235 [==============================] - 3s 12ms/step - loss: 0.3641 - accuracy: 0.8414 - val_loss: 0.3551 - val_accuracy: 0.8440\n",
      "Epoch 63/200\n",
      "235/235 [==============================] - 3s 12ms/step - loss: 0.3632 - accuracy: 0.8407 - val_loss: 0.3567 - val_accuracy: 0.8425\n",
      "Epoch 64/200\n",
      "235/235 [==============================] - 4s 16ms/step - loss: 0.3617 - accuracy: 0.8413 - val_loss: 0.3554 - val_accuracy: 0.8445\n",
      "Epoch 65/200\n",
      "235/235 [==============================] - 3s 14ms/step - loss: 0.3634 - accuracy: 0.8399 - val_loss: 0.3541 - val_accuracy: 0.8440\n",
      "Epoch 66/200\n",
      "235/235 [==============================] - 3s 12ms/step - loss: 0.3612 - accuracy: 0.8413 - val_loss: 0.3539 - val_accuracy: 0.8441\n",
      "Epoch 67/200\n",
      "235/235 [==============================] - 3s 12ms/step - loss: 0.3612 - accuracy: 0.8432 - val_loss: 0.3545 - val_accuracy: 0.8446\n",
      "Epoch 68/200\n",
      "235/235 [==============================] - 3s 13ms/step - loss: 0.3589 - accuracy: 0.8419 - val_loss: 0.3543 - val_accuracy: 0.8462\n",
      "Epoch 69/200\n",
      "235/235 [==============================] - 4s 16ms/step - loss: 0.3599 - accuracy: 0.8430 - val_loss: 0.3537 - val_accuracy: 0.8451\n",
      "Epoch 70/200\n",
      "235/235 [==============================] - 3s 12ms/step - loss: 0.3596 - accuracy: 0.8419 - val_loss: 0.3540 - val_accuracy: 0.8428\n",
      "Epoch 71/200\n",
      "235/235 [==============================] - 3s 12ms/step - loss: 0.3574 - accuracy: 0.8435 - val_loss: 0.3538 - val_accuracy: 0.8453\n",
      "Epoch 72/200\n",
      "235/235 [==============================] - 3s 12ms/step - loss: 0.3582 - accuracy: 0.8434 - val_loss: 0.3535 - val_accuracy: 0.8451\n",
      "Epoch 73/200\n",
      "235/235 [==============================] - 4s 17ms/step - loss: 0.3577 - accuracy: 0.8435 - val_loss: 0.3536 - val_accuracy: 0.8453\n",
      "Epoch 74/200\n",
      "235/235 [==============================] - 3s 11ms/step - loss: 0.3565 - accuracy: 0.8432 - val_loss: 0.3532 - val_accuracy: 0.8457\n",
      "Epoch 75/200\n",
      "235/235 [==============================] - 3s 12ms/step - loss: 0.3532 - accuracy: 0.8457 - val_loss: 0.3531 - val_accuracy: 0.8446\n",
      "Epoch 76/200\n",
      "235/235 [==============================] - 3s 12ms/step - loss: 0.3573 - accuracy: 0.8430 - val_loss: 0.3529 - val_accuracy: 0.8465\n",
      "Epoch 77/200\n",
      "235/235 [==============================] - 6s 24ms/step - loss: 0.3544 - accuracy: 0.8450 - val_loss: 0.3525 - val_accuracy: 0.8464\n",
      "Epoch 78/200\n",
      "235/235 [==============================] - 5s 20ms/step - loss: 0.3526 - accuracy: 0.8452 - val_loss: 0.3524 - val_accuracy: 0.8453\n",
      "Epoch 79/200\n",
      "235/235 [==============================] - 4s 15ms/step - loss: 0.3519 - accuracy: 0.8461 - val_loss: 0.3525 - val_accuracy: 0.8453\n",
      "Epoch 80/200\n",
      "235/235 [==============================] - 4s 17ms/step - loss: 0.3554 - accuracy: 0.8438 - val_loss: 0.3527 - val_accuracy: 0.8448\n",
      "Epoch 81/200\n",
      "235/235 [==============================] - 3s 12ms/step - loss: 0.3524 - accuracy: 0.8439 - val_loss: 0.3522 - val_accuracy: 0.8465\n",
      "Epoch 82/200\n",
      "235/235 [==============================] - 3s 12ms/step - loss: 0.3481 - accuracy: 0.8468 - val_loss: 0.3523 - val_accuracy: 0.8463\n",
      "Epoch 83/200\n",
      "235/235 [==============================] - 3s 12ms/step - loss: 0.3475 - accuracy: 0.8485 - val_loss: 0.3530 - val_accuracy: 0.8450\n",
      "Epoch 84/200\n",
      "235/235 [==============================] - 3s 14ms/step - loss: 0.3500 - accuracy: 0.8474 - val_loss: 0.3517 - val_accuracy: 0.8455\n",
      "Epoch 85/200\n",
      "235/235 [==============================] - 3s 15ms/step - loss: 0.3484 - accuracy: 0.8483 - val_loss: 0.3517 - val_accuracy: 0.8462\n",
      "Epoch 86/200\n",
      "235/235 [==============================] - 3s 12ms/step - loss: 0.3485 - accuracy: 0.8481 - val_loss: 0.3526 - val_accuracy: 0.8467\n",
      "Epoch 87/200\n",
      "235/235 [==============================] - 3s 12ms/step - loss: 0.3477 - accuracy: 0.8470 - val_loss: 0.3520 - val_accuracy: 0.8450\n",
      "Epoch 88/200\n",
      "235/235 [==============================] - 3s 13ms/step - loss: 0.3465 - accuracy: 0.8474 - val_loss: 0.3522 - val_accuracy: 0.8452\n",
      "Epoch 89/200\n",
      "235/235 [==============================] - 4s 16ms/step - loss: 0.3467 - accuracy: 0.8481 - val_loss: 0.3514 - val_accuracy: 0.8450\n",
      "Epoch 90/200\n",
      "235/235 [==============================] - 3s 11ms/step - loss: 0.3454 - accuracy: 0.8488 - val_loss: 0.3510 - val_accuracy: 0.8467\n",
      "Epoch 91/200\n",
      "235/235 [==============================] - 3s 12ms/step - loss: 0.3433 - accuracy: 0.8507 - val_loss: 0.3508 - val_accuracy: 0.8463\n",
      "Epoch 92/200\n",
      "235/235 [==============================] - 3s 13ms/step - loss: 0.3424 - accuracy: 0.8511 - val_loss: 0.3509 - val_accuracy: 0.8470\n",
      "Epoch 93/200\n",
      "235/235 [==============================] - 4s 17ms/step - loss: 0.3438 - accuracy: 0.8504 - val_loss: 0.3510 - val_accuracy: 0.8462\n",
      "Epoch 94/200\n",
      "235/235 [==============================] - 4s 16ms/step - loss: 0.3411 - accuracy: 0.8525 - val_loss: 0.3514 - val_accuracy: 0.8465\n",
      "Epoch 95/200\n",
      "235/235 [==============================] - 3s 13ms/step - loss: 0.3414 - accuracy: 0.8499 - val_loss: 0.3511 - val_accuracy: 0.8468\n",
      "Epoch 96/200\n",
      "235/235 [==============================] - 3s 12ms/step - loss: 0.3436 - accuracy: 0.8505 - val_loss: 0.3506 - val_accuracy: 0.8480\n",
      "Epoch 97/200\n",
      "235/235 [==============================] - 4s 17ms/step - loss: 0.3396 - accuracy: 0.8522 - val_loss: 0.3515 - val_accuracy: 0.8465\n",
      "Epoch 98/200\n",
      "235/235 [==============================] - 3s 11ms/step - loss: 0.3384 - accuracy: 0.8509 - val_loss: 0.3516 - val_accuracy: 0.8469\n",
      "Epoch 99/200\n",
      "235/235 [==============================] - 3s 12ms/step - loss: 0.3394 - accuracy: 0.8531 - val_loss: 0.3508 - val_accuracy: 0.8465\n",
      "Epoch 100/200\n",
      "235/235 [==============================] - 3s 12ms/step - loss: 0.3372 - accuracy: 0.8548 - val_loss: 0.3508 - val_accuracy: 0.8472\n",
      "Epoch 101/200\n",
      "235/235 [==============================] - 4s 17ms/step - loss: 0.3369 - accuracy: 0.8532 - val_loss: 0.3508 - val_accuracy: 0.8464\n",
      "Epoch 102/200\n",
      "235/235 [==============================] - 3s 12ms/step - loss: 0.3370 - accuracy: 0.8548 - val_loss: 0.3502 - val_accuracy: 0.8462\n",
      "Epoch 103/200\n",
      "235/235 [==============================] - 3s 12ms/step - loss: 0.3370 - accuracy: 0.8529 - val_loss: 0.3505 - val_accuracy: 0.8475\n",
      "Epoch 104/200\n",
      "235/235 [==============================] - 3s 12ms/step - loss: 0.3354 - accuracy: 0.8547 - val_loss: 0.3497 - val_accuracy: 0.8470\n",
      "Epoch 105/200\n",
      "235/235 [==============================] - 4s 15ms/step - loss: 0.3367 - accuracy: 0.8555 - val_loss: 0.3504 - val_accuracy: 0.8476\n",
      "Epoch 106/200\n",
      "235/235 [==============================] - 3s 14ms/step - loss: 0.3360 - accuracy: 0.8529 - val_loss: 0.3506 - val_accuracy: 0.8478\n",
      "Epoch 107/200\n",
      "235/235 [==============================] - 3s 12ms/step - loss: 0.3330 - accuracy: 0.8556 - val_loss: 0.3498 - val_accuracy: 0.8470\n",
      "Epoch 108/200\n",
      "235/235 [==============================] - 3s 12ms/step - loss: 0.3322 - accuracy: 0.8553 - val_loss: 0.3513 - val_accuracy: 0.8470\n",
      "Epoch 109/200\n",
      "235/235 [==============================] - 3s 14ms/step - loss: 0.3309 - accuracy: 0.8556 - val_loss: 0.3515 - val_accuracy: 0.8487\n",
      "Epoch 110/200\n",
      "235/235 [==============================] - 4s 16ms/step - loss: 0.3328 - accuracy: 0.8542 - val_loss: 0.3503 - val_accuracy: 0.8472\n",
      "Epoch 111/200\n",
      "235/235 [==============================] - 3s 12ms/step - loss: 0.3321 - accuracy: 0.8541 - val_loss: 0.3507 - val_accuracy: 0.8490\n",
      "Epoch 112/200\n",
      "235/235 [==============================] - 3s 12ms/step - loss: 0.3311 - accuracy: 0.8559 - val_loss: 0.3498 - val_accuracy: 0.8489\n",
      "Epoch 113/200\n",
      "235/235 [==============================] - 3s 12ms/step - loss: 0.3287 - accuracy: 0.8578 - val_loss: 0.3498 - val_accuracy: 0.8484\n",
      "Epoch 114/200\n",
      "235/235 [==============================] - 4s 18ms/step - loss: 0.3271 - accuracy: 0.8575 - val_loss: 0.3492 - val_accuracy: 0.8490\n",
      "Epoch 115/200\n",
      "235/235 [==============================] - 3s 12ms/step - loss: 0.3304 - accuracy: 0.8552 - val_loss: 0.3494 - val_accuracy: 0.8484\n",
      "Epoch 116/200\n",
      "235/235 [==============================] - 3s 12ms/step - loss: 0.3256 - accuracy: 0.8600 - val_loss: 0.3493 - val_accuracy: 0.8490\n",
      "Epoch 117/200\n",
      "235/235 [==============================] - 3s 12ms/step - loss: 0.3294 - accuracy: 0.8599 - val_loss: 0.3500 - val_accuracy: 0.8495\n",
      "Epoch 118/200\n",
      "235/235 [==============================] - 4s 17ms/step - loss: 0.3284 - accuracy: 0.8574 - val_loss: 0.3487 - val_accuracy: 0.8488\n",
      "Epoch 119/200\n",
      "235/235 [==============================] - 3s 12ms/step - loss: 0.3279 - accuracy: 0.8605 - val_loss: 0.3490 - val_accuracy: 0.8497\n",
      "Epoch 120/200\n",
      "235/235 [==============================] - 3s 12ms/step - loss: 0.3262 - accuracy: 0.8566 - val_loss: 0.3486 - val_accuracy: 0.8481\n",
      "Epoch 121/200\n",
      "235/235 [==============================] - 3s 12ms/step - loss: 0.3257 - accuracy: 0.8583 - val_loss: 0.3503 - val_accuracy: 0.8498\n",
      "Epoch 122/200\n",
      "235/235 [==============================] - 4s 17ms/step - loss: 0.3233 - accuracy: 0.8593 - val_loss: 0.3497 - val_accuracy: 0.8496\n",
      "Epoch 123/200\n",
      "235/235 [==============================] - 3s 12ms/step - loss: 0.3247 - accuracy: 0.8589 - val_loss: 0.3492 - val_accuracy: 0.8493\n",
      "Epoch 124/200\n",
      "235/235 [==============================] - 3s 12ms/step - loss: 0.3216 - accuracy: 0.8610 - val_loss: 0.3493 - val_accuracy: 0.8498\n",
      "Epoch 125/200\n",
      "235/235 [==============================] - 3s 12ms/step - loss: 0.3239 - accuracy: 0.8616 - val_loss: 0.3494 - val_accuracy: 0.8511\n",
      "Epoch 126/200\n",
      "235/235 [==============================] - 3s 14ms/step - loss: 0.3199 - accuracy: 0.8590 - val_loss: 0.3491 - val_accuracy: 0.8500\n",
      "Epoch 127/200\n",
      "235/235 [==============================] - 3s 15ms/step - loss: 0.3218 - accuracy: 0.8601 - val_loss: 0.3483 - val_accuracy: 0.8513\n",
      "Epoch 128/200\n",
      "235/235 [==============================] - 3s 13ms/step - loss: 0.3211 - accuracy: 0.8601 - val_loss: 0.3481 - val_accuracy: 0.8489\n",
      "Epoch 129/200\n",
      "235/235 [==============================] - 3s 12ms/step - loss: 0.3194 - accuracy: 0.8605 - val_loss: 0.3499 - val_accuracy: 0.8498\n",
      "Epoch 130/200\n",
      "235/235 [==============================] - 3s 15ms/step - loss: 0.3188 - accuracy: 0.8624 - val_loss: 0.3484 - val_accuracy: 0.8497\n",
      "Epoch 131/200\n",
      "235/235 [==============================] - 3s 15ms/step - loss: 0.3180 - accuracy: 0.8622 - val_loss: 0.3493 - val_accuracy: 0.8502\n",
      "Epoch 132/200\n",
      "235/235 [==============================] - 3s 12ms/step - loss: 0.3186 - accuracy: 0.8636 - val_loss: 0.3492 - val_accuracy: 0.8495\n",
      "Epoch 133/200\n",
      "235/235 [==============================] - 3s 12ms/step - loss: 0.3171 - accuracy: 0.8644 - val_loss: 0.3486 - val_accuracy: 0.8517\n",
      "Epoch 134/200\n",
      "235/235 [==============================] - 3s 12ms/step - loss: 0.3188 - accuracy: 0.8600 - val_loss: 0.3492 - val_accuracy: 0.8509\n",
      "Epoch 135/200\n",
      "235/235 [==============================] - 4s 17ms/step - loss: 0.3149 - accuracy: 0.8669 - val_loss: 0.3487 - val_accuracy: 0.8495\n",
      "Epoch 136/200\n",
      "235/235 [==============================] - 3s 12ms/step - loss: 0.3147 - accuracy: 0.8633 - val_loss: 0.3490 - val_accuracy: 0.8503\n",
      "Epoch 137/200\n",
      "235/235 [==============================] - 3s 12ms/step - loss: 0.3136 - accuracy: 0.8651 - val_loss: 0.3498 - val_accuracy: 0.8511\n",
      "Epoch 138/200\n",
      "235/235 [==============================] - 3s 12ms/step - loss: 0.3157 - accuracy: 0.8623 - val_loss: 0.3493 - val_accuracy: 0.8495\n"
     ]
    }
   ],
   "source": [
    "from sklearn.metrics import f1_score, recall_score, precision_score\n",
    "\n",
    "adam = Adam(learning_rate = 0.00004)\n",
    "\n",
    "model2 = create_MLP_model(input_dim=300, activation_dense_layers=['relu', 'relu', 'relu'])\n",
    "model2.compile(\n",
    "    loss='binary_crossentropy',\n",
    "    optimizer=adam,\n",
    "    metrics=[\"accuracy\"]\n",
    "    )\n",
    "\n",
    "# Build the model and print the structure of our model before training\n",
    "model2.build(300)  # We need to build our model in order to print the structure\n",
    "print(model.summary())\n",
    "\n",
    "# Add an early stopping callback to stop the epochs when we catch the best validation loss\n",
    "early_stopping_callback = EarlyStopping(\n",
    "    monitor='val_loss',  # Monitor validation loss for early stopping\n",
    "    patience=10,           # Number of epochs with no improvement after which training will be stopped\n",
    "    restore_best_weights=True  # Restore best model weights when early stopping is triggered\n",
    ")\n",
    "\n",
    "# Callback to save the Keras model or model weights at some frequency.\n",
    "MLP_checkpoint = ModelCheckpoint(\n",
    "    'checkpoints/weights.hdf5',\n",
    "    monitor='val_loss',\n",
    "    mode='min',\n",
    "    verbose=2,\n",
    "    save_best_only=True,\n",
    "    save_weights_only=True\n",
    "    )\n",
    "\n",
    "# Start our training\n",
    "history = model2.fit(\n",
    "    X_train_centroids,\n",
    "    y_train,\n",
    "    validation_data=(X_val_centroids, y_dev),\n",
    "    batch_size=128,\n",
    "    epochs=200,\n",
    "    shuffle=True,\n",
    "    callbacks=[early_stopping_callback]\n",
    ")"
   ]
  },
  {
   "cell_type": "code",
   "execution_count": 69,
   "metadata": {
    "colab": {
     "base_uri": "https://localhost:8080/",
     "height": 472
    },
    "id": "8WhvpPQtYKxO",
    "outputId": "6cdecfdd-f2dd-4087-b5f0-e4240ec84e96"
   },
   "outputs": [
    {
     "data": {
      "image/png": "[encoded data removed]",
      "text/plain": [
       "<Figure size 640x480 with 1 Axes>"
      ]
     },
     "metadata": {},
     "output_type": "display_data"
    }
   ],
   "source": [
    "import matplotlib.pyplot as plt\n",
    "\n",
    "# summarize history for loss\n",
    "plt.plot(history.history['loss'])\n",
    "plt.plot(history.history['val_loss'])\n",
    "plt.title('model loss')\n",
    "plt.ylabel('loss')\n",
    "plt.xlabel('epoch')\n",
    "plt.legend(['train', 'dev'], loc='upper right')\n",
    "plt.show()"
   ]
  },
  {
   "cell_type": "code",
   "execution_count": 71,
   "metadata": {
    "colab": {
     "base_uri": "https://localhost:8080/"
    },
    "id": "iDpK3RnwgvUX",
    "outputId": "5cbf812b-f8e9-4d0b-fc61-d0c5da5aa2d3"
   },
   "outputs": [
    {
     "name": "stdout",
     "output_type": "stream",
     "text": [
      "313/313 [==============================] - 1s 4ms/step - loss: 0.3451 - accuracy: 0.8495\n",
      "Test Set Evaluation:\n",
      "The loss of the test set is:0.345,\n",
      "The accuracy of the test set is:  84.950%\n"
     ]
    }
   ],
   "source": [
    "# predictions = model.predict(X_test_centroids)\n",
    "# Assuming y_test is your ground truth labels\n",
    "evaluation = model2.evaluate(X_test_centroids, y_test)\n",
    "print('Test Set Evaluation:')\n",
    "print(f\"The loss of the test set is:{evaluation[0]:.3f},\\nThe accuracy of the test set is: {evaluation[1]*100: .3f}%\")"
   ]
  },
  {
   "cell_type": "markdown",
   "metadata": {
    "id": "OPWM3ag01FEA"
   },
   "source": [
    "# Results\n",
    "* We will calculate precision, recall, F1, PR-auc scores first for each class and then macro average."
   ]
  },
  {
   "cell_type": "code",
   "execution_count": 76,
   "metadata": {
    "colab": {
     "base_uri": "https://localhost:8080/",
     "height": 527
    },
    "id": "yEaqIMvrrGM-",
    "outputId": "6c62368c-dd40-4794-efdd-da764aefd6ab"
   },
   "outputs": [
    {
     "name": "stdout",
     "output_type": "stream",
     "text": [
      "313/313 [==============================] - 1s 4ms/step\n",
      "313/313 [==============================] - 1s 4ms/step\n"
     ]
    },
    {
     "data": {
      "text/plain": [
       "<matplotlib.legend.Legend at 0x7fd0c9e637c0>"
      ]
     },
     "execution_count": 76,
     "metadata": {},
     "output_type": "execute_result"
    },
    {
     "data": {
      "image/png": "[encoded data removed]",
      "text/plain": [
       "<Figure size 640x480 with 1 Axes>"
      ]
     },
     "metadata": {},
     "output_type": "display_data"
    }
   ],
   "source": [
    "# Calculate model predictions\n",
    "y_pred = model.predict(x_test_svd)\n",
    "precision, recall, thresholds = precision_recall_curve(y_test, y_pred)\n",
    "\n",
    "# Compute PR AUC\n",
    "pr_auc = auc(recall, precision)\n",
    "\n",
    "# Plot the PR curve for our model\n",
    "plt.figure()\n",
    "plt.plot(recall, precision, label='PR AUC model = %0.2f' % pr_auc)\n",
    "plt.xlabel('Recall')\n",
    "plt.ylabel('Precision')\n",
    "plt.title('Precision-Recall Curve')\n",
    "plt.legend(loc='lower left')\n",
    "\n",
    "\n",
    "# Predict probabilities\n",
    "probs = clf.predict_proba(x_test_svd)[:, 1]\n",
    "\n",
    "# Calculate precision and recall\n",
    "precision, recall, thresholds = precision_recall_curve(y_test, probs)\n",
    "\n",
    "# Calculate area under the curve (AUC) for PR curve\n",
    "pr_auc = auc(recall, precision)\n",
    "\n",
    "# Plot PR curve for baseline model\n",
    "plt.plot(recall, precision, label=f'PR AUC clf = {pr_auc:.2f}')\n",
    "plt.xlabel('Recall')\n",
    "plt.ylabel('Precision')\n",
    "plt.title('Precision-Recall Curve')\n",
    "plt.legend(loc='lower left')\n",
    "plt.grid(True)\n",
    "\n",
    "\n",
    "\n",
    "y_pred = model2.predict(X_test_centroids)\n",
    "precision, recall, thresholds = precision_recall_curve(y_test, y_pred)\n",
    "\n",
    "# Compute PR AUC\n",
    "pr_auc = auc(recall, precision)\n",
    "\n",
    "# Plot the PR curve for our model\n",
    "plt.plot(recall, precision, label='PR AUC model 2 = %0.2f' % pr_auc)\n",
    "plt.xlabel('Recall')\n",
    "plt.ylabel('Precision')\n",
    "plt.title('Precision-Recall Curve')\n",
    "plt.legend(loc='lower left')"
   ]
  },
  {
   "cell_type": "code",
   "execution_count": 78,
   "metadata": {
    "colab": {
     "base_uri": "https://localhost:8080/"
    },
    "id": "D2rxY7aGtD4v",
    "outputId": "98407eaa-7ba1-4ab9-d3ef-99776c417d32"
   },
   "outputs": [
    {
     "name": "stdout",
     "output_type": "stream",
     "text": [
      "938/938 [==============================] - 4s 5ms/step\n",
      "313/313 [==============================] - 2s 6ms/step\n",
      "313/313 [==============================] - 2s 7ms/step\n",
      "938/938 [==============================] - 4s 4ms/step\n",
      "313/313 [==============================] - 1s 2ms/step\n",
      "313/313 [==============================] - 1s 2ms/step\n"
     ]
    }
   ],
   "source": [
    "import numpy as np\n",
    "import pandas as pd\n",
    "from sklearn.metrics import precision_score, recall_score, f1_score, auc, precision_recall_curve, roc_auc_score\n",
    "\n",
    "# Calculate predictions for clf\n",
    "train_preds_clf = clf.predict_proba(x_train_svd)\n",
    "train_preds_bin_clf = clf.predict(x_train_svd)\n",
    "\n",
    "dev_preds_clf = clf.predict_proba(x_val_svd)\n",
    "dev_preds_bin_clf = clf.predict(x_val_svd)\n",
    "\n",
    "test_preds_clf = clf.predict_proba(x_test_svd)\n",
    "test_preds_bin_clf = clf.predict(x_test_svd)\n",
    "\n",
    "# Calculate predictions for model\n",
    "train_preds_model = model.predict(x_train_svd)\n",
    "train_preds_bin_model = np.array([[1] if pred >= 0.5 else [0] for pred in train_preds_model])\n",
    "\n",
    "dev_preds_model = model.predict(x_val_svd)\n",
    "dev_preds_bin_model = np.array([[1] if pred >= 0.5 else [0] for pred in dev_preds_model])\n",
    "\n",
    "test_preds_model = model.predict(x_test_svd)\n",
    "test_preds_bin_model = np.array([[1] if pred >= 0.5 else [0] for pred in test_preds_model])\n",
    "\n",
    "# Calculate predictions for model\n",
    "train_preds_model2 = model2.predict(X_train_centroids)\n",
    "train_preds_bin_model2 = np.array([[1] if pred >= 0.5 else [0] for pred in train_preds_model2])\n",
    "\n",
    "dev_preds_model2 = model2.predict(X_val_centroids)\n",
    "dev_preds_bin_model2 = np.array([[1] if pred >= 0.5 else [0] for pred in dev_preds_model2])\n",
    "\n",
    "test_preds_model2 = model2.predict(X_test_centroids)\n",
    "test_preds_bin_model2 = np.array([[1] if pred >= 0.5 else [0] for pred in test_preds_model2])\n",
    "\n"
   ]
  },
  {
   "cell_type": "code",
   "execution_count": 80,
   "metadata": {
    "colab": {
     "base_uri": "https://localhost:8080/"
    },
    "id": "BYHAGU9EuY0i",
    "outputId": "1eae851c-3365-4bec-d608-79bb3a92cb46"
   },
   "outputs": [
    {
     "name": "stdout",
     "output_type": "stream",
     "text": [
      "Training Class Metrics:\n",
      "+----+--------------+---------------------+---------------------+------------------+------------------+--------------------+--------------------+------------------+------------------+\n",
      "|    | Classifier   |   Class 0 Precision |   Class 1 Precision |   Class 0 Recall |   Class 1 Recall |   Class 0 F1-score |   Class 1 F1-score |   PR AUC Class 0 |   PR AUC Class 1 |\n",
      "|----+--------------+---------------------+---------------------+------------------+------------------+--------------------+--------------------+------------------+------------------|\n",
      "|  0 | clf          |            0.894852 |            0.877861 |         0.8751   |         0.897227 |           0.884866 |           0.887439 |         0.95588  |         0.953182 |\n",
      "|  1 | model        |            0.933351 |            0.928676 |         0.928248 |         0.933751 |           0.930792 |           0.931206 |         0.981994 |         0.980722 |\n",
      "|  2 | model 2      |            0.895452 |            0.869753 |         0.865297 |         0.899027 |           0.880117 |           0.884148 |         0.955074 |         0.953328 |\n",
      "+----+--------------+---------------------+---------------------+------------------+------------------+--------------------+--------------------+------------------+------------------+\n",
      "\n",
      "Development Class Metrics:\n",
      "+----+--------------+---------------------+---------------------+------------------+------------------+--------------------+--------------------+------------------+------------------+\n",
      "|    | Classifier   |   Class 0 Precision |   Class 1 Precision |   Class 0 Recall |   Class 1 Recall |   Class 0 F1-score |   Class 1 F1-score |   PR AUC Class 0 |   PR AUC Class 1 |\n",
      "|----+--------------+---------------------+---------------------+------------------+------------------+--------------------+--------------------+------------------+------------------|\n",
      "|  0 | clf          |            0.893967 |            0.881392 |         0.876817 |         0.897979 |           0.885309 |           0.889608 |         0.956543 |         0.954233 |\n",
      "|  1 | model        |            0.894077 |            0.89531  |         0.893174 |         0.896197 |           0.893626 |           0.895753 |         0.960747 |         0.959042 |\n",
      "|  2 | model2       |            0.855696 |            0.842533 |         0.835824 |         0.861727 |           0.845643 |           0.852022 |         0.928499 |         0.924528 |\n",
      "+----+--------------+---------------------+---------------------+------------------+------------------+--------------------+--------------------+------------------+------------------+\n",
      "\n",
      "Test Class Metrics:\n",
      "+----+--------------+---------------------+---------------------+------------------+------------------+--------------------+--------------------+------------------+------------------+\n",
      "|    | Classifier   |   Class 0 Precision |   Class 1 Precision |   Class 0 Recall |   Class 1 Recall |   Class 0 F1-score |   Class 1 F1-score |   PR AUC Class 0 |   PR AUC Class 1 |\n",
      "|----+--------------+---------------------+---------------------+------------------+------------------+--------------------+--------------------+------------------+------------------|\n",
      "|  0 | clf          |            0.890156 |            0.87405  |         0.87596  |         0.888437 |           0.883001 |           0.881185 |         0.956375 |         0.94901  |\n",
      "|  1 | model        |            0.889173 |            0.885772 |         0.889348 |         0.885592 |           0.889261 |           0.885682 |         0.961392 |         0.954123 |\n",
      "|  2 | model2       |            0.863803 |            0.835692 |         0.835401 |         0.864052 |           0.849364 |           0.849635 |         0.932001 |         0.924295 |\n",
      "+----+--------------+---------------------+---------------------+------------------+------------------+--------------------+--------------------+------------------+------------------+\n"
     ]
    }
   ],
   "source": [
    "from operator import pos\n",
    "from sklearn.metrics import precision_recall_curve, average_precision_score\n",
    "\n",
    "# Define a function to calculate metrics for each class including PR-AUC for MLP\n",
    "def calculate_class_metrics_model(y_true, y_pred, y_probs):\n",
    "    report = classification_report(y_true, y_pred, output_dict=True)\n",
    "    # For class 1\n",
    "    class_0_metrics = report['0']\n",
    "    # For class 2\n",
    "    class_1_metrics = report['1']\n",
    "\n",
    "    # Calculate PR-AUC for each class\n",
    "    precision, recall, _ = precision_recall_curve(y_true, y_probs, pos_label=1)\n",
    "    pr_auc_class_1 = auc(recall, precision)\n",
    "\n",
    "    # Its binary problem so 1-probability is the probability for class 0\n",
    "    y_probs = 1-y_probs\n",
    "    precision, recall, _ = precision_recall_curve(y_true, y_probs, pos_label=0)\n",
    "    pr_auc_class_0 = auc(recall, precision)\n",
    "\n",
    "    return class_0_metrics, class_1_metrics, pr_auc_class_0, pr_auc_class_1\n",
    "\n",
    "# Define a function to calculate metrics for each class including PR-AUC for Logistic\n",
    "def calculate_class_metrics_clf(y_true, y_pred, y_probs):\n",
    "    report = classification_report(y_true, y_pred, output_dict=True)\n",
    "    class_0_metrics = report['0']\n",
    "    class_1_metrics = report['1']\n",
    "\n",
    "    # Calculate PR-AUC for each class\n",
    "    precision, recall, _ = precision_recall_curve(y_true, y_probs[:, 1],pos_label=1)\n",
    "    pr_auc_class_1 = auc(recall, precision)\n",
    "\n",
    "    precision, recall, _ = precision_recall_curve(y_true, y_probs[:, 0],pos_label=0)\n",
    "    pr_auc_class_0 = auc(recall, precision)\n",
    "\n",
    "    return class_0_metrics, class_1_metrics, pr_auc_class_0, pr_auc_class_1\n",
    "\n",
    "\n",
    "\n",
    "# Calculate class metrics for clf\n",
    "class_0_metrics_train_clf, class_1_metrics_train_clf, pr_auc_0_train_clf, pr_auc_1_train_clf = calculate_class_metrics_clf(y_train, train_preds_bin_clf, train_preds_clf)\n",
    "class_0_metrics_dev_clf, class_1_metrics_dev_clf, pr_auc_0_dev_clf, pr_auc_1_dev_clf = calculate_class_metrics_clf(y_dev, dev_preds_bin_clf, dev_preds_clf)\n",
    "class_0_metrics_test_clf, class_1_metrics_test_clf, pr_auc_0_test_clf, pr_auc_1_test_clf = calculate_class_metrics_clf(y_test, test_preds_bin_clf, test_preds_clf)\n",
    "\n",
    "# Calculate class metrics for model\n",
    "class_0_metrics_train_model, class_1_metrics_train_model, pr_auc_0_train_model, pr_auc_1_train_model = calculate_class_metrics_model(y_train, train_preds_bin_model, train_preds_model)\n",
    "class_0_metrics_dev_model, class_1_metrics_dev_model, pr_auc_0_dev_model, pr_auc_1_dev_model = calculate_class_metrics_model(y_dev, dev_preds_bin_model, dev_preds_model)\n",
    "class_0_metrics_test_model, class_1_metrics_test_model, pr_auc_0_test_model, pr_auc_1_test_model = calculate_class_metrics_model(y_test, test_preds_bin_model,test_preds_model)\n",
    "\n",
    "class_0_metrics_train_model2, class_1_metrics_train_model2, pr_auc_0_train_model2, pr_auc_1_train_model2 = calculate_class_metrics_model(y_train, train_preds_bin_model2, train_preds_model2)\n",
    "class_0_metrics_dev_model2, class_1_metrics_dev_model2, pr_auc_0_dev_model2, pr_auc_1_dev_model2 = calculate_class_metrics_model(y_dev, dev_preds_bin_model2, dev_preds_model2)\n",
    "class_0_metrics_test_model2, class_1_metrics_test_model2, pr_auc_0_test_model2, pr_auc_1_test_model2 = calculate_class_metrics_model(y_test, test_preds_bin_model2,test_preds_model2)\n",
    "\n",
    "\n",
    "\n",
    "# Create separate DataFrames for training, development, and test results for each class\n",
    "train_class_metrics_df = pd.DataFrame({\n",
    "    'Classifier': ['clf', 'model','model 2'],\n",
    "    'Class 0 Precision': [class_0_metrics_train_clf['precision'], class_0_metrics_train_model['precision'],class_0_metrics_train_model2['precision']],\n",
    "    'Class 1 Precision': [class_1_metrics_train_clf['precision'], class_1_metrics_train_model['precision'],class_1_metrics_train_model2['precision']],\n",
    "    'Class 0 Recall': [class_0_metrics_train_clf['recall'], class_0_metrics_train_model['recall'],class_0_metrics_train_model2['recall']],\n",
    "    'Class 1 Recall': [class_1_metrics_train_clf['recall'], class_1_metrics_train_model['recall'],class_1_metrics_train_model2['recall']],\n",
    "    'Class 0 F1-score': [class_0_metrics_train_clf['f1-score'], class_0_metrics_train_model['f1-score'],class_0_metrics_train_model2['f1-score']],\n",
    "    'Class 1 F1-score': [class_1_metrics_train_clf['f1-score'], class_1_metrics_train_model['f1-score'],class_1_metrics_train_model2['f1-score']],\n",
    "    'PR AUC Class 0': [pr_auc_0_train_clf, pr_auc_0_train_model,pr_auc_0_train_model2],\n",
    "    'PR AUC Class 1': [pr_auc_1_train_clf, pr_auc_1_train_model,pr_auc_1_train_model2]\n",
    "})\n",
    "\n",
    "dev_class_metrics_df = pd.DataFrame({\n",
    "    'Classifier': ['clf', 'model','model2'],\n",
    "    'Class 0 Precision': [class_0_metrics_dev_clf['precision'], class_0_metrics_dev_model['precision'],class_0_metrics_dev_model2['precision']],\n",
    "    'Class 1 Precision': [class_1_metrics_dev_clf['precision'], class_1_metrics_dev_model['precision'],class_1_metrics_dev_model2['precision']],\n",
    "    'Class 0 Recall': [class_0_metrics_dev_clf['recall'], class_0_metrics_dev_model['recall'],class_0_metrics_dev_model2['recall']],\n",
    "    'Class 1 Recall': [class_1_metrics_dev_clf['recall'], class_1_metrics_dev_model['recall'],class_1_metrics_dev_model2['recall']],\n",
    "    'Class 0 F1-score': [class_0_metrics_dev_clf['f1-score'], class_0_metrics_dev_model['f1-score'],class_0_metrics_dev_model2['f1-score']],\n",
    "    'Class 1 F1-score': [class_1_metrics_dev_clf['f1-score'], class_1_metrics_dev_model['f1-score'],class_1_metrics_dev_model2['f1-score']],\n",
    "    'PR AUC Class 0': [pr_auc_0_dev_clf, pr_auc_0_dev_model,pr_auc_0_dev_model2],\n",
    "    'PR AUC Class 1': [pr_auc_1_dev_clf, pr_auc_1_dev_model,pr_auc_1_dev_model2]\n",
    "})\n",
    "\n",
    "test_class_metrics_df = pd.DataFrame({\n",
    "    'Classifier': ['clf', 'model','model2'],\n",
    "    'Class 0 Precision': [class_0_metrics_test_clf['precision'], class_0_metrics_test_model['precision'], class_0_metrics_test_model2['precision']],\n",
    "    'Class 1 Precision': [class_1_metrics_test_clf['precision'], class_1_metrics_test_model['precision'],class_1_metrics_test_model2['precision']],\n",
    "    'Class 0 Recall': [class_0_metrics_test_clf['recall'], class_0_metrics_test_model['recall'],class_0_metrics_test_model2['recall']],\n",
    "    'Class 1 Recall': [class_1_metrics_test_clf['recall'], class_1_metrics_test_model['recall'],class_1_metrics_test_model2['recall']],\n",
    "    'Class 0 F1-score': [class_0_metrics_test_clf['f1-score'], class_0_metrics_test_model['f1-score'],class_0_metrics_test_model2['f1-score']],\n",
    "    'Class 1 F1-score': [class_1_metrics_test_clf['f1-score'], class_1_metrics_test_model['f1-score'],class_1_metrics_test_model2['f1-score']],\n",
    "    'PR AUC Class 0': [pr_auc_0_test_clf, pr_auc_0_test_model,pr_auc_0_test_model2],\n",
    "    'PR AUC Class 1': [pr_auc_1_test_clf, pr_auc_1_test_model,pr_auc_1_test_model2]\n",
    "})\n",
    "\n",
    "from tabulate import tabulate\n",
    "\n",
    "# Print training class metrics\n",
    "print(\"Training Class Metrics:\")\n",
    "print(tabulate(train_class_metrics_df, headers='keys', tablefmt='psql'))\n",
    "\n",
    "# Print development class metrics\n",
    "print(\"\\nDevelopment Class Metrics:\")\n",
    "print(tabulate(dev_class_metrics_df, headers='keys', tablefmt='psql'))\n",
    "\n",
    "# Print test class metrics\n",
    "print(\"\\nTest Class Metrics:\")\n",
    "print(tabulate(test_class_metrics_df, headers='keys', tablefmt='psql'))\n"
   ]
  },
  {
   "cell_type": "code",
   "execution_count": 81,
   "metadata": {
    "colab": {
     "base_uri": "https://localhost:8080/"
    },
    "id": "eRGhAWanvttd",
    "outputId": "d315ffc1-e38f-4e97-dafe-84cffd091049"
   },
   "outputs": [
    {
     "name": "stdout",
     "output_type": "stream",
     "text": [
      "Training Class Metrics:\n",
      "+----+--------------+-------------+----------+----------+----------+\n",
      "|    | Classifier   |   Precision |   Recall |       F1 |   PR AUC |\n",
      "|----+--------------+-------------+----------+----------+----------|\n",
      "|  0 | clf          |    0.886356 | 0.886164 | 0.886152 | 0.953182 |\n",
      "|  1 | model        |    0.931013 | 0.930999 | 0.930999 | 0.980722 |\n",
      "|  2 | model2       |    0.882603 | 0.882162 | 0.882132 | 0.953328 |\n",
      "+----+--------------+-------------+----------+----------+----------+\n",
      "\n",
      "Development Class Metrics:\n",
      "+----+--------------+-------------+----------+----------+----------+\n",
      "|    | Classifier   |   Precision |   Recall |       F1 |   PR AUC |\n",
      "|----+--------------+-------------+----------+----------+----------|\n",
      "|  0 | clf          |    0.886356 | 0.887398 | 0.887459 | 0.954233 |\n",
      "|  1 | model        |    0.894693 | 0.894685 | 0.894689 | 0.959042 |\n",
      "|  2 | model2       |    0.849115 | 0.848776 | 0.848833 | 0.924528 |\n",
      "+----+--------------+-------------+----------+----------+----------+\n",
      "\n",
      "Test Class Metrics:\n",
      "+----+--------------+-------------+----------+----------+----------+\n",
      "|    | Classifier   |   Precision |   Recall |       F1 |   PR AUC |\n",
      "|----+--------------+-------------+----------+----------+----------|\n",
      "|  0 | clf          |    0.882103 | 0.882199 | 0.882093 | 0.94901  |\n",
      "|  1 | model        |    0.887473 | 0.88747  | 0.887472 | 0.954123 |\n",
      "|  2 | model2       |    0.849747 | 0.849726 | 0.8495   | 0.924295 |\n",
      "+----+--------------+-------------+----------+----------+----------+\n"
     ]
    }
   ],
   "source": [
    "from sklearn.metrics import precision_recall_curve, average_precision_score, precision_score, recall_score, f1_score, auc\n",
    "import pandas as pd\n",
    "\n",
    "def calculate_metrics(y_true, y_pred, y_probs):\n",
    "    precision = precision_score(y_true, y_pred, average='macro')\n",
    "    recall = recall_score(y_true, y_pred, average='macro')\n",
    "    f1 = f1_score(y_true, y_pred, average='macro')\n",
    "    precision_auc, recall_auc, _ = precision_recall_curve(y_true, y_probs)\n",
    "    pr_auc = auc(recall_auc, precision_auc)\n",
    "    return precision, recall, f1, pr_auc\n",
    "\n",
    "# Calculate class metrics for clf\n",
    "precision_train_clf, recall_train_clf, f1_train_clf, pr_auc_train_clf = calculate_metrics(y_train, train_preds_bin_clf, train_preds_clf[:,1])\n",
    "precision_dev_clf, recall_dev_clf, f1_dev_clf, pr_auc_dev_clf = calculate_metrics(y_dev, dev_preds_bin_clf, dev_preds_clf[:,1])\n",
    "precision_test_clf, recall_test_clf, f1_test_clf, pr_auc_test_clf = calculate_metrics(y_test, test_preds_bin_clf, test_preds_clf[:,1])\n",
    "\n",
    "# Calculate class metrics for model\n",
    "precision_train_model, recall_train_model, f1_train_model, pr_auc_train_model = calculate_metrics(y_train, train_preds_bin_model, train_preds_model)\n",
    "precision_dev_model, recall_dev_model, f1_dev_model, pr_auc_dev_model = calculate_metrics(y_dev, dev_preds_bin_model, dev_preds_model)\n",
    "precision_test_model, recall_test_model, f1_test_model, pr_auc_test_model = calculate_metrics(y_test, test_preds_bin_model,test_preds_model)\n",
    "\n",
    "# Calculate class metrics for model2\n",
    "precision_train_model2, recall_train_model2, f1_train_model2, pr_auc_train_model2 = calculate_metrics(y_train, train_preds_bin_model2, train_preds_model2)\n",
    "precision_dev_model2, recall_dev_model2, f1_dev_model2, pr_auc_dev_model2 = calculate_metrics(y_dev, dev_preds_bin_model2, dev_preds_model2)\n",
    "precision_test_model2, recall_test_model2, f1_test_model2, pr_auc_test_model2 = calculate_metrics(y_test, test_preds_bin_model2,test_preds_model2)\n",
    "\n",
    "# Create separate DataFrames for training, development, and test results for each class\n",
    "train_class_metrics_df = pd.DataFrame({\n",
    "    'Classifier': ['clf', 'model','model2'],\n",
    "    'Precision': [precision_train_clf, precision_train_model,precision_train_model2],\n",
    "    'Recall': [recall_train_clf, recall_train_model,recall_train_model2],\n",
    "    'F1': [f1_train_clf, f1_train_model,f1_train_model2],\n",
    "    'PR AUC': [pr_auc_train_clf, pr_auc_train_model,pr_auc_train_model2]\n",
    "})\n",
    "\n",
    "dev_class_metrics_df = pd.DataFrame({\n",
    "    'Classifier': ['clf', 'model','model2'],\n",
    "    'Precision': [precision_train_clf, precision_dev_model, precision_dev_model2],\n",
    "    'Recall': [recall_dev_clf, recall_dev_model,recall_dev_model2],\n",
    "    'F1': [f1_dev_clf, f1_dev_model,f1_dev_model2],\n",
    "    'PR AUC': [pr_auc_dev_clf, pr_auc_dev_model,pr_auc_dev_model2]\n",
    "})\n",
    "\n",
    "test_class_metrics_df = pd.DataFrame({\n",
    "    'Classifier': ['clf', 'model','model2'],\n",
    "    'Precision': [precision_test_clf, precision_test_model,precision_test_model2],\n",
    "    'Recall': [recall_test_clf, recall_test_model,recall_test_model2],\n",
    "    'F1': [f1_test_clf, f1_test_model,f1_test_model2],\n",
    "    'PR AUC': [pr_auc_test_clf, pr_auc_test_model,pr_auc_test_model2]\n",
    "})\n",
    "\n",
    "from tabulate import tabulate\n",
    "\n",
    "# Print training class metrics\n",
    "print(\"Training Class Metrics:\")\n",
    "print(tabulate(train_class_metrics_df, headers='keys', tablefmt='psql'))\n",
    "\n",
    "# Print development class metrics\n",
    "print(\"\\nDevelopment Class Metrics:\")\n",
    "print(tabulate(dev_class_metrics_df, headers='keys', tablefmt='psql'))\n",
    "\n",
    "# Print test class metrics\n",
    "print(\"\\nTest Class Metrics:\")\n",
    "print(tabulate(test_class_metrics_df, headers='keys', tablefmt='psql'))\n"
   ]
  }
 ],
 "metadata": {
  "accelerator": "GPU",
  "colab": {
   "gpuType": "V100",
   "provenance": []
  },
  "kernelspec": {
   "display_name": "Python 3 (ipykernel)",
   "language": "python",
   "name": "python3"
  },
  "language_info": {
   "codemirror_mode": {
    "name": "ipython",
    "version": 3
   },
   "file_extension": ".py",
   "mimetype": "text/x-python",
   "name": "python",
   "nbconvert_exporter": "python",
   "pygments_lexer": "ipython3",
   "version": "3.11.5"
  }
 },
 "nbformat": 4,
 "nbformat_minor": 1
}
